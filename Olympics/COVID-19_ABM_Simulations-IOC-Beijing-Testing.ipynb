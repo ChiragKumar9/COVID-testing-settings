{
 "cells": [
  {
   "cell_type": "markdown",
   "metadata": {},
   "source": [
    "# COVID-19 ABM Simulations"
   ]
  },
  {
   "cell_type": "markdown",
   "metadata": {},
   "source": [
    "### Chirag Kumar - 20.09.2020"
   ]
  },
  {
   "cell_type": "markdown",
   "metadata": {},
   "source": [
    "### This script develops and tests interventions for COVID-19 spread simulated using an ABM.\n",
    "#### Strategies for the IOC for the Beijing Winter 2022 Olympics"
   ]
  },
  {
   "cell_type": "markdown",
   "metadata": {},
   "source": [
    "## Prep Workspace"
   ]
  },
  {
   "cell_type": "markdown",
   "metadata": {},
   "source": [
    "### Import and Set-up Packages: Python and R"
   ]
  },
  {
   "cell_type": "code",
   "execution_count": 1,
   "metadata": {},
   "outputs": [],
   "source": [
    "# python packages\n",
    "import pandas as pd # for dataframes\n",
    "import numpy as np # for arrays\n",
    "import matplotlib.pyplot as plt # for plotting\n",
    "import matplotlib as mpl # for matplotlib settings\n",
    "import os # for directories\n",
    "#import rpy2 # for running r commands - namely plotting\n",
    "from scipy.optimize import minimize # for optimization of noisy functions\n",
    "from sodapy import Socrata # for quering CDC data\n",
    "#from ddf_utils.factory.ihme import IHMELoader # for quering GHDx data\n",
    "import scipy as sp # useful to have the whole library to access\n",
    "from scipy import stats # for statistics and distributions\n",
    "from scipy import integrate # for numerical integration processes\n",
    "from scipy import signal # for finding peaks in data\n",
    "from scipy import optimize # for optimizing functions\n",
    "from sklearn.linear_model import LinearRegression # for easy linear regression\n",
    "#import statsmodels.formula.api as smf # for GLMs\n",
    "import statsmodels.api as sm\n",
    "from tqdm.auto import tqdm # for progress bars\n",
    "from tqdm.contrib.concurrent import process_map # for multiprocessing with progress bars\n",
    "import pickle # for serializing objects\n",
    "import datetime # for time series data\n",
    "#import pathos # for multiprocessing\n",
    "#import multiprocess # for multiprocessing\n",
    "#import multiprocessing\n",
    "#import numba # for fast compiling\n",
    "from mesa import Model, Agent\n",
    "from mesa.time import RandomActivation\n",
    "from mesa.space import SingleGrid, MultiGrid\n",
    "from mesa.datacollection import DataCollector\n",
    "#from mesa.visualization.modules import CanvasGrid\n",
    "#from mesa.visualization.ModularVisualization import ModularServer\n",
    "#from mesa.batchrunner import BatchRunner\n",
    "#from mesa.batchrunner import BatchRunnerMP"
   ]
  },
  {
   "cell_type": "code",
   "execution_count": 2,
   "metadata": {},
   "outputs": [],
   "source": [
    "# configure plotting\n",
    "%matplotlib inline\n",
    "plt.rcParams['figure.figsize'] = [12, 12]\n",
    "font = {'family' : 'Nimbus Roman',\n",
    "        'weight' : 'bold',\n",
    "        'size'   : 22}\n",
    "\n",
    "mpl.rc('font', **font)"
   ]
  },
  {
   "cell_type": "markdown",
   "metadata": {},
   "source": [
    "### Define Directories"
   ]
  },
  {
   "cell_type": "code",
   "execution_count": 3,
   "metadata": {},
   "outputs": [],
   "source": [
    "# define directories\n",
    "\n",
    "# this is a hack to be able to refer to relative locations\n",
    "if '__file__' not in globals():\n",
    "    __file__ = '.'\n",
    "\n",
    "inp_dir = os.path.abspath(os.path.dirname(__file__))\n",
    "data_dir = os.path.abspath(os.path.join(os.path.dirname(__file__),\n",
    "                                        'Data'))\n",
    "out_dir = os.path.abspath(os.path.join(os.path.dirname(__file__),\n",
    "                                       'Result Files'))\n",
    "fig_dir = os.path.abspath(os.path.join(os.path.dirname(__file__),\n",
    "                                          'Figures'))"
   ]
  },
  {
   "cell_type": "markdown",
   "metadata": {},
   "source": [
    "### Get Data"
   ]
  },
  {
   "cell_type": "markdown",
   "metadata": {},
   "source": [
    "#### COVID Cases (US) by Age and Gender - CDC"
   ]
  },
  {
   "cell_type": "code",
   "execution_count": 4,
   "metadata": {},
   "outputs": [],
   "source": [
    "# set up client to get covid related data from cdc website\n",
    "client_cdc = Socrata(\"data.cdc.gov\",\n",
    "                     \"jvzE0iypgHmNoGyLoXS87pl9q\") # this string is my app token"
   ]
  },
  {
   "cell_type": "code",
   "execution_count": 5,
   "metadata": {},
   "outputs": [],
   "source": [
    "covid_cases_ag = pd.DataFrame.from_records(client_cdc.get(\"vbim-akqf\", limit = 100000000))"
   ]
  },
  {
   "cell_type": "code",
   "execution_count": 6,
   "metadata": {},
   "outputs": [],
   "source": [
    "max_date = pd.to_datetime(covid_cases_ag.cdc_report_dt).max()"
   ]
  },
  {
   "cell_type": "code",
   "execution_count": 7,
   "metadata": {},
   "outputs": [
    {
     "data": {
      "text/plain": [
       "Timestamp('2021-09-27 00:00:00')"
      ]
     },
     "execution_count": 7,
     "metadata": {},
     "output_type": "execute_result"
    }
   ],
   "source": [
    "max_date"
   ]
  },
  {
   "cell_type": "code",
   "execution_count": 8,
   "metadata": {},
   "outputs": [],
   "source": [
    "covid_cases_ag = covid_cases_ag.drop(['cdc_report_dt', 'current_status', 'death_yn', 'hosp_yn', 'icu_yn',\n",
    "                                     'medcond_yn', 'onset_dt', 'pos_spec_dt', 'race_ethnicity_combined'], axis = 1)"
   ]
  },
  {
   "cell_type": "code",
   "execution_count": 9,
   "metadata": {},
   "outputs": [],
   "source": [
    "covid_cases_ag = covid_cases_ag.loc[np.logical_and(np.logical_not(np.logical_or(covid_cases_ag.age_group.str.contains('Unknown',\n",
    "                                                                                                       regex = False),\n",
    "                                                                covid_cases_ag.age_group.str.contains('NA',\n",
    "                                                                                                      regex = False))),\n",
    "                                                  np.logical_or(covid_cases_ag.sex.str.contains('Female',\n",
    "                                                                                                regex = False),\n",
    "                                                                covid_cases_ag.sex.str.contains('Male',\n",
    "                                                                                               regex = False))), :]\n",
    "\n",
    "covid_cases_ag['count'] = 1"
   ]
  },
  {
   "cell_type": "code",
   "execution_count": 10,
   "metadata": {},
   "outputs": [],
   "source": [
    "covid_cases_ag = covid_cases_ag[covid_cases_ag.age_group != 'Missing']"
   ]
  },
  {
   "cell_type": "code",
   "execution_count": 11,
   "metadata": {},
   "outputs": [],
   "source": [
    "covid_cases_ag = covid_cases_ag.drop('cdc_case_earliest_dt', axis = 1)"
   ]
  },
  {
   "cell_type": "code",
   "execution_count": 12,
   "metadata": {
    "scrolled": true
   },
   "outputs": [],
   "source": [
    "tt1 = covid_cases_ag.groupby(['age_group', 'sex']).count()\n",
    "tt1 = pd.DataFrame(tt1.values.reshape((9, 2)))"
   ]
  },
  {
   "cell_type": "code",
   "execution_count": 13,
   "metadata": {},
   "outputs": [
    {
     "data": {
      "text/html": [
       "<div>\n",
       "<style scoped>\n",
       "    .dataframe tbody tr th:only-of-type {\n",
       "        vertical-align: middle;\n",
       "    }\n",
       "\n",
       "    .dataframe tbody tr th {\n",
       "        vertical-align: top;\n",
       "    }\n",
       "\n",
       "    .dataframe thead th {\n",
       "        text-align: right;\n",
       "    }\n",
       "</style>\n",
       "<table border=\"1\" class=\"dataframe\">\n",
       "  <thead>\n",
       "    <tr style=\"text-align: right;\">\n",
       "      <th></th>\n",
       "      <th>0</th>\n",
       "      <th>1</th>\n",
       "    </tr>\n",
       "  </thead>\n",
       "  <tbody>\n",
       "    <tr>\n",
       "      <th>0</th>\n",
       "      <td>867963</td>\n",
       "      <td>912810</td>\n",
       "    </tr>\n",
       "    <tr>\n",
       "      <th>1</th>\n",
       "      <td>1978619</td>\n",
       "      <td>1877685</td>\n",
       "    </tr>\n",
       "    <tr>\n",
       "      <th>2</th>\n",
       "      <td>3188772</td>\n",
       "      <td>2839573</td>\n",
       "    </tr>\n",
       "    <tr>\n",
       "      <th>3</th>\n",
       "      <td>2797550</td>\n",
       "      <td>2545374</td>\n",
       "    </tr>\n",
       "    <tr>\n",
       "      <th>4</th>\n",
       "      <td>2470124</td>\n",
       "      <td>2239841</td>\n",
       "    </tr>\n",
       "    <tr>\n",
       "      <th>5</th>\n",
       "      <td>2307221</td>\n",
       "      <td>2162316</td>\n",
       "    </tr>\n",
       "    <tr>\n",
       "      <th>6</th>\n",
       "      <td>1601105</td>\n",
       "      <td>1524514</td>\n",
       "    </tr>\n",
       "    <tr>\n",
       "      <th>7</th>\n",
       "      <td>880421</td>\n",
       "      <td>809943</td>\n",
       "    </tr>\n",
       "    <tr>\n",
       "      <th>8</th>\n",
       "      <td>698279</td>\n",
       "      <td>440454</td>\n",
       "    </tr>\n",
       "  </tbody>\n",
       "</table>\n",
       "</div>"
      ],
      "text/plain": [
       "         0        1\n",
       "0   867963   912810\n",
       "1  1978619  1877685\n",
       "2  3188772  2839573\n",
       "3  2797550  2545374\n",
       "4  2470124  2239841\n",
       "5  2307221  2162316\n",
       "6  1601105  1524514\n",
       "7   880421   809943\n",
       "8   698279   440454"
      ]
     },
     "execution_count": 13,
     "metadata": {},
     "output_type": "execute_result"
    }
   ],
   "source": [
    "tt1"
   ]
  },
  {
   "cell_type": "code",
   "execution_count": 14,
   "metadata": {},
   "outputs": [],
   "source": [
    "tt1.index = ['0 - 9 Years', '10 - 19 Years', '20 - 29 Years', '30 - 39 Years', '40 - 49 Years', '50 - 59 Years',\n",
    "             '60 - 69 Years', '70 - 79 Years', '80+ Years']\n",
    "\n",
    "tt1.columns = ['Female', 'Male']"
   ]
  },
  {
   "cell_type": "code",
   "execution_count": 15,
   "metadata": {},
   "outputs": [],
   "source": [
    "covid_cases_age_gender = tt1.copy(deep = True)"
   ]
  },
  {
   "cell_type": "code",
   "execution_count": 16,
   "metadata": {},
   "outputs": [],
   "source": [
    "# export the data\n",
    "covid_cases_age_gender.to_csv(os.path.join(data_dir, 'COVID-Cases_Age-Gender.csv'), index = False)"
   ]
  },
  {
   "cell_type": "code",
   "execution_count": 17,
   "metadata": {},
   "outputs": [],
   "source": [
    "covid_cases_age_gender = pd.read_csv(os.path.join(data_dir, 'COVID-Cases_Age-Gender.csv'))"
   ]
  },
  {
   "cell_type": "code",
   "execution_count": 18,
   "metadata": {},
   "outputs": [],
   "source": [
    "covid_cases_age_gender.index = ['0 - 9 Years', '10 - 19 Years', '20 - 29 Years', '30 - 39 Years', '40 - 49 Years', '50 - 59 Years',\n",
    "             '60 - 69 Years', '70 - 79 Years', '80+ Years']"
   ]
  },
  {
   "cell_type": "code",
   "execution_count": 19,
   "metadata": {},
   "outputs": [
    {
     "data": {
      "text/html": [
       "<div>\n",
       "<style scoped>\n",
       "    .dataframe tbody tr th:only-of-type {\n",
       "        vertical-align: middle;\n",
       "    }\n",
       "\n",
       "    .dataframe tbody tr th {\n",
       "        vertical-align: top;\n",
       "    }\n",
       "\n",
       "    .dataframe thead th {\n",
       "        text-align: right;\n",
       "    }\n",
       "</style>\n",
       "<table border=\"1\" class=\"dataframe\">\n",
       "  <thead>\n",
       "    <tr style=\"text-align: right;\">\n",
       "      <th></th>\n",
       "      <th>Female</th>\n",
       "      <th>Male</th>\n",
       "    </tr>\n",
       "  </thead>\n",
       "  <tbody>\n",
       "    <tr>\n",
       "      <th>0 - 9 Years</th>\n",
       "      <td>867963</td>\n",
       "      <td>912810</td>\n",
       "    </tr>\n",
       "    <tr>\n",
       "      <th>10 - 19 Years</th>\n",
       "      <td>1978619</td>\n",
       "      <td>1877685</td>\n",
       "    </tr>\n",
       "    <tr>\n",
       "      <th>20 - 29 Years</th>\n",
       "      <td>3188772</td>\n",
       "      <td>2839573</td>\n",
       "    </tr>\n",
       "    <tr>\n",
       "      <th>30 - 39 Years</th>\n",
       "      <td>2797550</td>\n",
       "      <td>2545374</td>\n",
       "    </tr>\n",
       "    <tr>\n",
       "      <th>40 - 49 Years</th>\n",
       "      <td>2470124</td>\n",
       "      <td>2239841</td>\n",
       "    </tr>\n",
       "    <tr>\n",
       "      <th>50 - 59 Years</th>\n",
       "      <td>2307221</td>\n",
       "      <td>2162316</td>\n",
       "    </tr>\n",
       "    <tr>\n",
       "      <th>60 - 69 Years</th>\n",
       "      <td>1601105</td>\n",
       "      <td>1524514</td>\n",
       "    </tr>\n",
       "    <tr>\n",
       "      <th>70 - 79 Years</th>\n",
       "      <td>880421</td>\n",
       "      <td>809943</td>\n",
       "    </tr>\n",
       "    <tr>\n",
       "      <th>80+ Years</th>\n",
       "      <td>698279</td>\n",
       "      <td>440454</td>\n",
       "    </tr>\n",
       "  </tbody>\n",
       "</table>\n",
       "</div>"
      ],
      "text/plain": [
       "                Female     Male\n",
       "0 - 9 Years     867963   912810\n",
       "10 - 19 Years  1978619  1877685\n",
       "20 - 29 Years  3188772  2839573\n",
       "30 - 39 Years  2797550  2545374\n",
       "40 - 49 Years  2470124  2239841\n",
       "50 - 59 Years  2307221  2162316\n",
       "60 - 69 Years  1601105  1524514\n",
       "70 - 79 Years   880421   809943\n",
       "80+ Years       698279   440454"
      ]
     },
     "execution_count": 19,
     "metadata": {},
     "output_type": "execute_result"
    }
   ],
   "source": [
    "covid_cases_age_gender"
   ]
  },
  {
   "cell_type": "markdown",
   "metadata": {},
   "source": [
    "#### COVID Deaths (US) by Age and Gender - CDC"
   ]
  },
  {
   "cell_type": "code",
   "execution_count": 20,
   "metadata": {},
   "outputs": [],
   "source": [
    "# set up client to get covid related data from cdc website\n",
    "client_cdc = Socrata(\"data.cdc.gov\",\n",
    "                     \"jvzE0iypgHmNoGyLoXS87pl9q\") # this string is my app token"
   ]
  },
  {
   "cell_type": "code",
   "execution_count": 21,
   "metadata": {
    "scrolled": true
   },
   "outputs": [],
   "source": [
    "# get the data from the cdc website\n",
    "covid_deaths_ag = client_cdc.get(\"9bhg-hcku\", limit = 10000000)"
   ]
  },
  {
   "cell_type": "code",
   "execution_count": 22,
   "metadata": {},
   "outputs": [],
   "source": [
    "# turn it into a dataframe\n",
    "covid_deaths_ag = pd.DataFrame.from_records(covid_deaths_ag)"
   ]
  },
  {
   "cell_type": "code",
   "execution_count": 23,
   "metadata": {},
   "outputs": [
    {
     "data": {
      "text/html": [
       "<div>\n",
       "<style scoped>\n",
       "    .dataframe tbody tr th:only-of-type {\n",
       "        vertical-align: middle;\n",
       "    }\n",
       "\n",
       "    .dataframe tbody tr th {\n",
       "        vertical-align: top;\n",
       "    }\n",
       "\n",
       "    .dataframe thead th {\n",
       "        text-align: right;\n",
       "    }\n",
       "</style>\n",
       "<table border=\"1\" class=\"dataframe\">\n",
       "  <thead>\n",
       "    <tr style=\"text-align: right;\">\n",
       "      <th></th>\n",
       "      <th>data_as_of</th>\n",
       "      <th>start_date</th>\n",
       "      <th>end_date</th>\n",
       "      <th>group</th>\n",
       "      <th>state</th>\n",
       "      <th>sex</th>\n",
       "      <th>age_group</th>\n",
       "      <th>covid_19_deaths</th>\n",
       "      <th>total_deaths</th>\n",
       "      <th>pneumonia_deaths</th>\n",
       "      <th>pneumonia_and_covid_19_deaths</th>\n",
       "      <th>influenza_deaths</th>\n",
       "      <th>pneumonia_influenza_or_covid</th>\n",
       "      <th>footnote</th>\n",
       "      <th>year</th>\n",
       "      <th>month</th>\n",
       "    </tr>\n",
       "  </thead>\n",
       "  <tbody>\n",
       "    <tr>\n",
       "      <th>0</th>\n",
       "      <td>2021-09-29T00:00:00.000</td>\n",
       "      <td>2020-01-01T00:00:00.000</td>\n",
       "      <td>2021-09-25T00:00:00.000</td>\n",
       "      <td>By Total</td>\n",
       "      <td>United States</td>\n",
       "      <td>All Sexes</td>\n",
       "      <td>All Ages</td>\n",
       "      <td>687172</td>\n",
       "      <td>5732323</td>\n",
       "      <td>619182</td>\n",
       "      <td>347074</td>\n",
       "      <td>9325</td>\n",
       "      <td>967273</td>\n",
       "      <td>NaN</td>\n",
       "      <td>NaN</td>\n",
       "      <td>NaN</td>\n",
       "    </tr>\n",
       "    <tr>\n",
       "      <th>1</th>\n",
       "      <td>2021-09-29T00:00:00.000</td>\n",
       "      <td>2020-01-01T00:00:00.000</td>\n",
       "      <td>2021-09-25T00:00:00.000</td>\n",
       "      <td>By Total</td>\n",
       "      <td>United States</td>\n",
       "      <td>All Sexes</td>\n",
       "      <td>Under 1 year</td>\n",
       "      <td>115</td>\n",
       "      <td>32488</td>\n",
       "      <td>353</td>\n",
       "      <td>14</td>\n",
       "      <td>22</td>\n",
       "      <td>476</td>\n",
       "      <td>NaN</td>\n",
       "      <td>NaN</td>\n",
       "      <td>NaN</td>\n",
       "    </tr>\n",
       "    <tr>\n",
       "      <th>2</th>\n",
       "      <td>2021-09-29T00:00:00.000</td>\n",
       "      <td>2020-01-01T00:00:00.000</td>\n",
       "      <td>2021-09-25T00:00:00.000</td>\n",
       "      <td>By Total</td>\n",
       "      <td>United States</td>\n",
       "      <td>All Sexes</td>\n",
       "      <td>0-17 years</td>\n",
       "      <td>478</td>\n",
       "      <td>57466</td>\n",
       "      <td>985</td>\n",
       "      <td>115</td>\n",
       "      <td>188</td>\n",
       "      <td>1536</td>\n",
       "      <td>NaN</td>\n",
       "      <td>NaN</td>\n",
       "      <td>NaN</td>\n",
       "    </tr>\n",
       "    <tr>\n",
       "      <th>3</th>\n",
       "      <td>2021-09-29T00:00:00.000</td>\n",
       "      <td>2020-01-01T00:00:00.000</td>\n",
       "      <td>2021-09-25T00:00:00.000</td>\n",
       "      <td>By Total</td>\n",
       "      <td>United States</td>\n",
       "      <td>All Sexes</td>\n",
       "      <td>1-4 years</td>\n",
       "      <td>59</td>\n",
       "      <td>6034</td>\n",
       "      <td>202</td>\n",
       "      <td>14</td>\n",
       "      <td>65</td>\n",
       "      <td>312</td>\n",
       "      <td>NaN</td>\n",
       "      <td>NaN</td>\n",
       "      <td>NaN</td>\n",
       "    </tr>\n",
       "    <tr>\n",
       "      <th>4</th>\n",
       "      <td>2021-09-29T00:00:00.000</td>\n",
       "      <td>2020-01-01T00:00:00.000</td>\n",
       "      <td>2021-09-25T00:00:00.000</td>\n",
       "      <td>By Total</td>\n",
       "      <td>United States</td>\n",
       "      <td>All Sexes</td>\n",
       "      <td>5-14 years</td>\n",
       "      <td>154</td>\n",
       "      <td>9613</td>\n",
       "      <td>283</td>\n",
       "      <td>45</td>\n",
       "      <td>80</td>\n",
       "      <td>472</td>\n",
       "      <td>NaN</td>\n",
       "      <td>NaN</td>\n",
       "      <td>NaN</td>\n",
       "    </tr>\n",
       "    <tr>\n",
       "      <th>...</th>\n",
       "      <td>...</td>\n",
       "      <td>...</td>\n",
       "      <td>...</td>\n",
       "      <td>...</td>\n",
       "      <td>...</td>\n",
       "      <td>...</td>\n",
       "      <td>...</td>\n",
       "      <td>...</td>\n",
       "      <td>...</td>\n",
       "      <td>...</td>\n",
       "      <td>...</td>\n",
       "      <td>...</td>\n",
       "      <td>...</td>\n",
       "      <td>...</td>\n",
       "      <td>...</td>\n",
       "      <td>...</td>\n",
       "    </tr>\n",
       "    <tr>\n",
       "      <th>66091</th>\n",
       "      <td>2021-09-29T00:00:00.000</td>\n",
       "      <td>2021-09-01T00:00:00.000</td>\n",
       "      <td>2021-09-25T00:00:00.000</td>\n",
       "      <td>By Month</td>\n",
       "      <td>Puerto Rico</td>\n",
       "      <td>Female</td>\n",
       "      <td>50-64 years</td>\n",
       "      <td>22</td>\n",
       "      <td>54</td>\n",
       "      <td>26</td>\n",
       "      <td>21</td>\n",
       "      <td>NaN</td>\n",
       "      <td>28</td>\n",
       "      <td>One or more data cells have counts between 1-9...</td>\n",
       "      <td>2021</td>\n",
       "      <td>9</td>\n",
       "    </tr>\n",
       "    <tr>\n",
       "      <th>66092</th>\n",
       "      <td>2021-09-29T00:00:00.000</td>\n",
       "      <td>2021-09-01T00:00:00.000</td>\n",
       "      <td>2021-09-25T00:00:00.000</td>\n",
       "      <td>By Month</td>\n",
       "      <td>Puerto Rico</td>\n",
       "      <td>Female</td>\n",
       "      <td>55-64 years</td>\n",
       "      <td>17</td>\n",
       "      <td>43</td>\n",
       "      <td>21</td>\n",
       "      <td>16</td>\n",
       "      <td>NaN</td>\n",
       "      <td>23</td>\n",
       "      <td>One or more data cells have counts between 1-9...</td>\n",
       "      <td>2021</td>\n",
       "      <td>9</td>\n",
       "    </tr>\n",
       "    <tr>\n",
       "      <th>66093</th>\n",
       "      <td>2021-09-29T00:00:00.000</td>\n",
       "      <td>2021-09-01T00:00:00.000</td>\n",
       "      <td>2021-09-25T00:00:00.000</td>\n",
       "      <td>By Month</td>\n",
       "      <td>Puerto Rico</td>\n",
       "      <td>Female</td>\n",
       "      <td>65-74 years</td>\n",
       "      <td>15</td>\n",
       "      <td>45</td>\n",
       "      <td>15</td>\n",
       "      <td>13</td>\n",
       "      <td>0</td>\n",
       "      <td>17</td>\n",
       "      <td>NaN</td>\n",
       "      <td>2021</td>\n",
       "      <td>9</td>\n",
       "    </tr>\n",
       "    <tr>\n",
       "      <th>66094</th>\n",
       "      <td>2021-09-29T00:00:00.000</td>\n",
       "      <td>2021-09-01T00:00:00.000</td>\n",
       "      <td>2021-09-25T00:00:00.000</td>\n",
       "      <td>By Month</td>\n",
       "      <td>Puerto Rico</td>\n",
       "      <td>Female</td>\n",
       "      <td>75-84 years</td>\n",
       "      <td>16</td>\n",
       "      <td>83</td>\n",
       "      <td>20</td>\n",
       "      <td>12</td>\n",
       "      <td>NaN</td>\n",
       "      <td>24</td>\n",
       "      <td>One or more data cells have counts between 1-9...</td>\n",
       "      <td>2021</td>\n",
       "      <td>9</td>\n",
       "    </tr>\n",
       "    <tr>\n",
       "      <th>66095</th>\n",
       "      <td>2021-09-29T00:00:00.000</td>\n",
       "      <td>2021-09-01T00:00:00.000</td>\n",
       "      <td>2021-09-25T00:00:00.000</td>\n",
       "      <td>By Month</td>\n",
       "      <td>Puerto Rico</td>\n",
       "      <td>Female</td>\n",
       "      <td>85 years and over</td>\n",
       "      <td>11</td>\n",
       "      <td>88</td>\n",
       "      <td>21</td>\n",
       "      <td>NaN</td>\n",
       "      <td>0</td>\n",
       "      <td>24</td>\n",
       "      <td>One or more data cells have counts between 1-9...</td>\n",
       "      <td>2021</td>\n",
       "      <td>9</td>\n",
       "    </tr>\n",
       "  </tbody>\n",
       "</table>\n",
       "<p>66096 rows × 16 columns</p>\n",
       "</div>"
      ],
      "text/plain": [
       "                    data_as_of               start_date  \\\n",
       "0      2021-09-29T00:00:00.000  2020-01-01T00:00:00.000   \n",
       "1      2021-09-29T00:00:00.000  2020-01-01T00:00:00.000   \n",
       "2      2021-09-29T00:00:00.000  2020-01-01T00:00:00.000   \n",
       "3      2021-09-29T00:00:00.000  2020-01-01T00:00:00.000   \n",
       "4      2021-09-29T00:00:00.000  2020-01-01T00:00:00.000   \n",
       "...                        ...                      ...   \n",
       "66091  2021-09-29T00:00:00.000  2021-09-01T00:00:00.000   \n",
       "66092  2021-09-29T00:00:00.000  2021-09-01T00:00:00.000   \n",
       "66093  2021-09-29T00:00:00.000  2021-09-01T00:00:00.000   \n",
       "66094  2021-09-29T00:00:00.000  2021-09-01T00:00:00.000   \n",
       "66095  2021-09-29T00:00:00.000  2021-09-01T00:00:00.000   \n",
       "\n",
       "                      end_date     group          state        sex  \\\n",
       "0      2021-09-25T00:00:00.000  By Total  United States  All Sexes   \n",
       "1      2021-09-25T00:00:00.000  By Total  United States  All Sexes   \n",
       "2      2021-09-25T00:00:00.000  By Total  United States  All Sexes   \n",
       "3      2021-09-25T00:00:00.000  By Total  United States  All Sexes   \n",
       "4      2021-09-25T00:00:00.000  By Total  United States  All Sexes   \n",
       "...                        ...       ...            ...        ...   \n",
       "66091  2021-09-25T00:00:00.000  By Month    Puerto Rico     Female   \n",
       "66092  2021-09-25T00:00:00.000  By Month    Puerto Rico     Female   \n",
       "66093  2021-09-25T00:00:00.000  By Month    Puerto Rico     Female   \n",
       "66094  2021-09-25T00:00:00.000  By Month    Puerto Rico     Female   \n",
       "66095  2021-09-25T00:00:00.000  By Month    Puerto Rico     Female   \n",
       "\n",
       "               age_group covid_19_deaths total_deaths pneumonia_deaths  \\\n",
       "0               All Ages          687172      5732323           619182   \n",
       "1           Under 1 year             115        32488              353   \n",
       "2             0-17 years             478        57466              985   \n",
       "3              1-4 years              59         6034              202   \n",
       "4             5-14 years             154         9613              283   \n",
       "...                  ...             ...          ...              ...   \n",
       "66091        50-64 years              22           54               26   \n",
       "66092        55-64 years              17           43               21   \n",
       "66093        65-74 years              15           45               15   \n",
       "66094        75-84 years              16           83               20   \n",
       "66095  85 years and over              11           88               21   \n",
       "\n",
       "      pneumonia_and_covid_19_deaths influenza_deaths  \\\n",
       "0                            347074             9325   \n",
       "1                                14               22   \n",
       "2                               115              188   \n",
       "3                                14               65   \n",
       "4                                45               80   \n",
       "...                             ...              ...   \n",
       "66091                            21              NaN   \n",
       "66092                            16              NaN   \n",
       "66093                            13                0   \n",
       "66094                            12              NaN   \n",
       "66095                           NaN                0   \n",
       "\n",
       "      pneumonia_influenza_or_covid  \\\n",
       "0                           967273   \n",
       "1                              476   \n",
       "2                             1536   \n",
       "3                              312   \n",
       "4                              472   \n",
       "...                            ...   \n",
       "66091                           28   \n",
       "66092                           23   \n",
       "66093                           17   \n",
       "66094                           24   \n",
       "66095                           24   \n",
       "\n",
       "                                                footnote  year month  \n",
       "0                                                    NaN   NaN   NaN  \n",
       "1                                                    NaN   NaN   NaN  \n",
       "2                                                    NaN   NaN   NaN  \n",
       "3                                                    NaN   NaN   NaN  \n",
       "4                                                    NaN   NaN   NaN  \n",
       "...                                                  ...   ...   ...  \n",
       "66091  One or more data cells have counts between 1-9...  2021     9  \n",
       "66092  One or more data cells have counts between 1-9...  2021     9  \n",
       "66093                                                NaN  2021     9  \n",
       "66094  One or more data cells have counts between 1-9...  2021     9  \n",
       "66095  One or more data cells have counts between 1-9...  2021     9  \n",
       "\n",
       "[66096 rows x 16 columns]"
      ]
     },
     "execution_count": 23,
     "metadata": {},
     "output_type": "execute_result"
    }
   ],
   "source": [
    "covid_deaths_ag"
   ]
  },
  {
   "cell_type": "code",
   "execution_count": 24,
   "metadata": {},
   "outputs": [
    {
     "data": {
      "text/plain": [
       "30-39 years          3888\n",
       "Under 1 year         3888\n",
       "5-14 years           3888\n",
       "All Ages             3888\n",
       "85 years and over    3888\n",
       "25-34 years          3888\n",
       "40-49 years          3888\n",
       "65-74 years          3888\n",
       "1-4 years            3888\n",
       "75-84 years          3888\n",
       "50-64 years          3888\n",
       "18-29 years          3888\n",
       "15-24 years          3888\n",
       "0-17 years           3888\n",
       "35-44 years          3888\n",
       "45-54 years          3888\n",
       "55-64 years          3888\n",
       "Name: age_group, dtype: int64"
      ]
     },
     "execution_count": 24,
     "metadata": {},
     "output_type": "execute_result"
    }
   ],
   "source": [
    "# annoyingly, there are no standard age groups that all the data uses, so take a look at what age groups are\n",
    "# used in this data set\n",
    "covid_deaths_ag.age_group.value_counts()"
   ]
  },
  {
   "cell_type": "code",
   "execution_count": 25,
   "metadata": {},
   "outputs": [],
   "source": [
    "# filter just the columns we want: sex, age, and number of deaths\n",
    "\n",
    "covid_deaths_age_gender = covid_deaths_ag.loc[np.logical_and(covid_deaths_ag.state == 'United States',\n",
    "                                                          np.logical_or(covid_deaths_ag.sex == 'Male',\n",
    "                                                                        covid_deaths_ag.sex == 'Female')),\n",
    "                                           ['sex',\n",
    "                                            'age_group',\n",
    "                                            'covid_19_deaths']].reset_index(drop = True)"
   ]
  },
  {
   "cell_type": "code",
   "execution_count": 26,
   "metadata": {},
   "outputs": [],
   "source": [
    "# filter so that we have the age groups with the most resolution\n",
    "\n",
    "tt1 = np.logical_and(np.logical_and(np.logical_and(np.logical_and(covid_deaths_age_gender.age_group != 'All Ages',\n",
    "                              covid_deaths_age_gender.age_group != '0-17 years'),\n",
    "               covid_deaths_age_gender.age_group != '18-29 years'),\n",
    "               covid_deaths_age_gender.age_group != '30-49 years'),\n",
    "                    covid_deaths_age_gender.age_group != '50-64 years')\n",
    "\n",
    "covid_deaths_age_gender = covid_deaths_age_gender.loc[tt1, :]"
   ]
  },
  {
   "cell_type": "code",
   "execution_count": 27,
   "metadata": {},
   "outputs": [
    {
     "data": {
      "text/html": [
       "<div>\n",
       "<style scoped>\n",
       "    .dataframe tbody tr th:only-of-type {\n",
       "        vertical-align: middle;\n",
       "    }\n",
       "\n",
       "    .dataframe tbody tr th {\n",
       "        vertical-align: top;\n",
       "    }\n",
       "\n",
       "    .dataframe thead th {\n",
       "        text-align: right;\n",
       "    }\n",
       "</style>\n",
       "<table border=\"1\" class=\"dataframe\">\n",
       "  <thead>\n",
       "    <tr style=\"text-align: right;\">\n",
       "      <th></th>\n",
       "      <th>sex</th>\n",
       "      <th>age_group</th>\n",
       "      <th>covid_19_deaths</th>\n",
       "    </tr>\n",
       "  </thead>\n",
       "  <tbody>\n",
       "    <tr>\n",
       "      <th>1</th>\n",
       "      <td>Male</td>\n",
       "      <td>Under 1 year</td>\n",
       "      <td>62</td>\n",
       "    </tr>\n",
       "    <tr>\n",
       "      <th>3</th>\n",
       "      <td>Male</td>\n",
       "      <td>1-4 years</td>\n",
       "      <td>29</td>\n",
       "    </tr>\n",
       "    <tr>\n",
       "      <th>4</th>\n",
       "      <td>Male</td>\n",
       "      <td>5-14 years</td>\n",
       "      <td>86</td>\n",
       "    </tr>\n",
       "    <tr>\n",
       "      <th>5</th>\n",
       "      <td>Male</td>\n",
       "      <td>15-24 years</td>\n",
       "      <td>865</td>\n",
       "    </tr>\n",
       "    <tr>\n",
       "      <th>7</th>\n",
       "      <td>Male</td>\n",
       "      <td>25-34 years</td>\n",
       "      <td>3976</td>\n",
       "    </tr>\n",
       "  </tbody>\n",
       "</table>\n",
       "</div>"
      ],
      "text/plain": [
       "    sex     age_group covid_19_deaths\n",
       "1  Male  Under 1 year              62\n",
       "3  Male     1-4 years              29\n",
       "4  Male    5-14 years              86\n",
       "5  Male   15-24 years             865\n",
       "7  Male   25-34 years            3976"
      ]
     },
     "execution_count": 27,
     "metadata": {},
     "output_type": "execute_result"
    }
   ],
   "source": [
    "# take a look at the data\n",
    "covid_deaths_age_gender.head()"
   ]
  },
  {
   "cell_type": "code",
   "execution_count": 28,
   "metadata": {},
   "outputs": [
    {
     "data": {
      "text/plain": [
       "25-34 years          48\n",
       "35-44 years          48\n",
       "45-54 years          48\n",
       "5-14 years           48\n",
       "15-24 years          48\n",
       "1-4 years            48\n",
       "75-84 years          48\n",
       "85 years and over    48\n",
       "Under 1 year         48\n",
       "40-49 years          48\n",
       "55-64 years          48\n",
       "30-39 years          48\n",
       "65-74 years          48\n",
       "Name: age_group, dtype: int64"
      ]
     },
     "execution_count": 28,
     "metadata": {},
     "output_type": "execute_result"
    }
   ],
   "source": [
    "# check that we have the right age groups\n",
    "covid_deaths_age_gender.age_group.value_counts()"
   ]
  },
  {
   "cell_type": "code",
   "execution_count": 29,
   "metadata": {},
   "outputs": [],
   "source": [
    "# however, this data is not on the same time scale as the cases data above (cases data lags)\n",
    "# so take only the proportion of deaths preceeding the `max_date`\n",
    "covid_deaths_time = pd.DataFrame.from_records(client_cdc.get(\"r8kw-7aab\",\n",
    "                                                   limit = 10000000))"
   ]
  },
  {
   "cell_type": "code",
   "execution_count": 30,
   "metadata": {},
   "outputs": [],
   "source": [
    "covid_deaths_time = covid_deaths_time[covid_deaths_time.state == 'United States']"
   ]
  },
  {
   "cell_type": "code",
   "execution_count": 31,
   "metadata": {},
   "outputs": [
    {
     "data": {
      "text/plain": [
       "Timestamp('2021-09-27 00:00:00')"
      ]
     },
     "execution_count": 31,
     "metadata": {},
     "output_type": "execute_result"
    }
   ],
   "source": [
    "max_date"
   ]
  },
  {
   "cell_type": "code",
   "execution_count": 32,
   "metadata": {},
   "outputs": [],
   "source": [
    "tt1 = covid_deaths_time[pd.to_datetime(covid_deaths_time.end_date) < max_date].covid_19_deaths.astype(np.float64).sum()\n",
    "tt2 = covid_deaths_time.covid_19_deaths.astype(np.float64).sum()"
   ]
  },
  {
   "cell_type": "code",
   "execution_count": 33,
   "metadata": {},
   "outputs": [],
   "source": [
    "deaths_fraction = tt1 / tt2"
   ]
  },
  {
   "cell_type": "code",
   "execution_count": 34,
   "metadata": {},
   "outputs": [],
   "source": [
    "deaths_fraction = 1"
   ]
  },
  {
   "cell_type": "code",
   "execution_count": 35,
   "metadata": {},
   "outputs": [],
   "source": [
    "covid_deaths_age_gender.covid_19_deaths = covid_deaths_age_gender.covid_19_deaths.astype(float)"
   ]
  },
  {
   "cell_type": "code",
   "execution_count": 36,
   "metadata": {},
   "outputs": [],
   "source": [
    "covid_deaths_age_gender.covid_19_deaths *= deaths_fraction"
   ]
  },
  {
   "cell_type": "code",
   "execution_count": 37,
   "metadata": {},
   "outputs": [],
   "source": [
    "# export the data\n",
    "covid_deaths_age_gender.to_csv(os.path.join(data_dir, 'COVID-Deaths_Age-Gender.csv'), index = False)"
   ]
  },
  {
   "cell_type": "code",
   "execution_count": 38,
   "metadata": {},
   "outputs": [],
   "source": [
    "covid_deaths_age_gender = pd.read_csv(os.path.join(data_dir, 'COVID-Deaths_Age-Gender.csv'))"
   ]
  },
  {
   "cell_type": "markdown",
   "metadata": {},
   "source": [
    "#### COVID Deaths (US) by Comorbidities - CDC"
   ]
  },
  {
   "cell_type": "code",
   "execution_count": 39,
   "metadata": {},
   "outputs": [],
   "source": [
    "# this is the same process as with the cases by age and gender data above\n",
    "covid_deaths_cm = client_cdc.get(\"hk9y-quqm\", limit = 1000000)"
   ]
  },
  {
   "cell_type": "code",
   "execution_count": 40,
   "metadata": {},
   "outputs": [],
   "source": [
    "covid_deaths_cm = pd.DataFrame.from_records(covid_deaths_cm)"
   ]
  },
  {
   "cell_type": "code",
   "execution_count": 41,
   "metadata": {
    "scrolled": true
   },
   "outputs": [
    {
     "data": {
      "text/plain": [
       "(298080, 14)"
      ]
     },
     "execution_count": 41,
     "metadata": {},
     "output_type": "execute_result"
    }
   ],
   "source": [
    "covid_deaths_cm.shape"
   ]
  },
  {
   "cell_type": "code",
   "execution_count": 42,
   "metadata": {},
   "outputs": [
    {
     "data": {
      "text/html": [
       "<div>\n",
       "<style scoped>\n",
       "    .dataframe tbody tr th:only-of-type {\n",
       "        vertical-align: middle;\n",
       "    }\n",
       "\n",
       "    .dataframe tbody tr th {\n",
       "        vertical-align: top;\n",
       "    }\n",
       "\n",
       "    .dataframe thead th {\n",
       "        text-align: right;\n",
       "    }\n",
       "</style>\n",
       "<table border=\"1\" class=\"dataframe\">\n",
       "  <thead>\n",
       "    <tr style=\"text-align: right;\">\n",
       "      <th></th>\n",
       "      <th>data_as_of</th>\n",
       "      <th>start_date</th>\n",
       "      <th>end_date</th>\n",
       "      <th>group</th>\n",
       "      <th>state</th>\n",
       "      <th>condition_group</th>\n",
       "      <th>condition</th>\n",
       "      <th>icd10_codes</th>\n",
       "      <th>age_group</th>\n",
       "      <th>covid_19_deaths</th>\n",
       "      <th>number_of_mentions</th>\n",
       "      <th>flag</th>\n",
       "      <th>year</th>\n",
       "      <th>month</th>\n",
       "    </tr>\n",
       "  </thead>\n",
       "  <tbody>\n",
       "    <tr>\n",
       "      <th>0</th>\n",
       "      <td>2021-09-26T00:00:00.000</td>\n",
       "      <td>2020-01-01T00:00:00.000</td>\n",
       "      <td>2021-09-25T00:00:00.000</td>\n",
       "      <td>By Total</td>\n",
       "      <td>United States</td>\n",
       "      <td>Respiratory diseases</td>\n",
       "      <td>Influenza and pneumonia</td>\n",
       "      <td>J09-J18</td>\n",
       "      <td>0-24</td>\n",
       "      <td>671</td>\n",
       "      <td>703</td>\n",
       "      <td>NaN</td>\n",
       "      <td>NaN</td>\n",
       "      <td>NaN</td>\n",
       "    </tr>\n",
       "    <tr>\n",
       "      <th>1</th>\n",
       "      <td>2021-09-26T00:00:00.000</td>\n",
       "      <td>2020-01-01T00:00:00.000</td>\n",
       "      <td>2021-09-25T00:00:00.000</td>\n",
       "      <td>By Total</td>\n",
       "      <td>United States</td>\n",
       "      <td>Respiratory diseases</td>\n",
       "      <td>Influenza and pneumonia</td>\n",
       "      <td>J09-J18</td>\n",
       "      <td>25-34</td>\n",
       "      <td>3098</td>\n",
       "      <td>3180</td>\n",
       "      <td>NaN</td>\n",
       "      <td>NaN</td>\n",
       "      <td>NaN</td>\n",
       "    </tr>\n",
       "    <tr>\n",
       "      <th>2</th>\n",
       "      <td>2021-09-26T00:00:00.000</td>\n",
       "      <td>2020-01-01T00:00:00.000</td>\n",
       "      <td>2021-09-25T00:00:00.000</td>\n",
       "      <td>By Total</td>\n",
       "      <td>United States</td>\n",
       "      <td>Respiratory diseases</td>\n",
       "      <td>Influenza and pneumonia</td>\n",
       "      <td>J09-J18</td>\n",
       "      <td>35-44</td>\n",
       "      <td>8011</td>\n",
       "      <td>8254</td>\n",
       "      <td>NaN</td>\n",
       "      <td>NaN</td>\n",
       "      <td>NaN</td>\n",
       "    </tr>\n",
       "    <tr>\n",
       "      <th>3</th>\n",
       "      <td>2021-09-26T00:00:00.000</td>\n",
       "      <td>2020-01-01T00:00:00.000</td>\n",
       "      <td>2021-09-25T00:00:00.000</td>\n",
       "      <td>By Total</td>\n",
       "      <td>United States</td>\n",
       "      <td>Respiratory diseases</td>\n",
       "      <td>Influenza and pneumonia</td>\n",
       "      <td>J09-J18</td>\n",
       "      <td>45-54</td>\n",
       "      <td>21380</td>\n",
       "      <td>22049</td>\n",
       "      <td>NaN</td>\n",
       "      <td>NaN</td>\n",
       "      <td>NaN</td>\n",
       "    </tr>\n",
       "    <tr>\n",
       "      <th>4</th>\n",
       "      <td>2021-09-26T00:00:00.000</td>\n",
       "      <td>2020-01-01T00:00:00.000</td>\n",
       "      <td>2021-09-25T00:00:00.000</td>\n",
       "      <td>By Total</td>\n",
       "      <td>United States</td>\n",
       "      <td>Respiratory diseases</td>\n",
       "      <td>Influenza and pneumonia</td>\n",
       "      <td>J09-J18</td>\n",
       "      <td>55-64</td>\n",
       "      <td>48881</td>\n",
       "      <td>50283</td>\n",
       "      <td>NaN</td>\n",
       "      <td>NaN</td>\n",
       "      <td>NaN</td>\n",
       "    </tr>\n",
       "  </tbody>\n",
       "</table>\n",
       "</div>"
      ],
      "text/plain": [
       "                data_as_of               start_date                 end_date  \\\n",
       "0  2021-09-26T00:00:00.000  2020-01-01T00:00:00.000  2021-09-25T00:00:00.000   \n",
       "1  2021-09-26T00:00:00.000  2020-01-01T00:00:00.000  2021-09-25T00:00:00.000   \n",
       "2  2021-09-26T00:00:00.000  2020-01-01T00:00:00.000  2021-09-25T00:00:00.000   \n",
       "3  2021-09-26T00:00:00.000  2020-01-01T00:00:00.000  2021-09-25T00:00:00.000   \n",
       "4  2021-09-26T00:00:00.000  2020-01-01T00:00:00.000  2021-09-25T00:00:00.000   \n",
       "\n",
       "      group          state       condition_group                condition  \\\n",
       "0  By Total  United States  Respiratory diseases  Influenza and pneumonia   \n",
       "1  By Total  United States  Respiratory diseases  Influenza and pneumonia   \n",
       "2  By Total  United States  Respiratory diseases  Influenza and pneumonia   \n",
       "3  By Total  United States  Respiratory diseases  Influenza and pneumonia   \n",
       "4  By Total  United States  Respiratory diseases  Influenza and pneumonia   \n",
       "\n",
       "  icd10_codes age_group covid_19_deaths number_of_mentions flag year month  \n",
       "0     J09-J18      0-24             671                703  NaN  NaN   NaN  \n",
       "1     J09-J18     25-34            3098               3180  NaN  NaN   NaN  \n",
       "2     J09-J18     35-44            8011               8254  NaN  NaN   NaN  \n",
       "3     J09-J18     45-54           21380              22049  NaN  NaN   NaN  \n",
       "4     J09-J18     55-64           48881              50283  NaN  NaN   NaN  "
      ]
     },
     "execution_count": 42,
     "metadata": {},
     "output_type": "execute_result"
    }
   ],
   "source": [
    "covid_deaths_cm.head()"
   ]
  },
  {
   "cell_type": "code",
   "execution_count": 43,
   "metadata": {},
   "outputs": [
    {
     "data": {
      "text/plain": [
       "array(['Influenza and pneumonia', 'Chronic lower respiratory diseases',\n",
       "       'Adult respiratory distress syndrome', 'Respiratory failure',\n",
       "       'Respiratory arrest', 'Other diseases of the respiratory system',\n",
       "       'Hypertensive diseases', 'Ischemic heart disease',\n",
       "       'Cardiac arrest', 'Cardiac arrhythmia', 'Heart failure',\n",
       "       'Cerebrovascular diseases',\n",
       "       'Other diseases of the circulatory system', 'Sepsis',\n",
       "       'Malignant neoplasms', 'Diabetes', 'Obesity', 'Alzheimer disease',\n",
       "       'Vascular and unspecified dementia', 'Renal failure',\n",
       "       'Intentional and unintentional injury, poisoning, and other adverse events',\n",
       "       'All other conditions and causes (residual)', 'COVID-19'],\n",
       "      dtype=object)"
      ]
     },
     "execution_count": 43,
     "metadata": {},
     "output_type": "execute_result"
    }
   ],
   "source": [
    "covid_deaths_cm.condition.unique()"
   ]
  },
  {
   "cell_type": "code",
   "execution_count": 44,
   "metadata": {},
   "outputs": [
    {
     "data": {
      "text/plain": [
       "55-64         29808\n",
       "45-54         29808\n",
       "75-84         29808\n",
       "85+           29808\n",
       "35-44         29808\n",
       "All Ages      29808\n",
       "Not stated    29808\n",
       "0-24          29808\n",
       "25-34         29808\n",
       "65-74         29808\n",
       "Name: age_group, dtype: int64"
      ]
     },
     "execution_count": 44,
     "metadata": {},
     "output_type": "execute_result"
    }
   ],
   "source": [
    "covid_deaths_cm.age_group.value_counts()"
   ]
  },
  {
   "cell_type": "code",
   "execution_count": 45,
   "metadata": {},
   "outputs": [
    {
     "data": {
      "text/html": [
       "<div>\n",
       "<style scoped>\n",
       "    .dataframe tbody tr th:only-of-type {\n",
       "        vertical-align: middle;\n",
       "    }\n",
       "\n",
       "    .dataframe tbody tr th {\n",
       "        vertical-align: top;\n",
       "    }\n",
       "\n",
       "    .dataframe thead th {\n",
       "        text-align: right;\n",
       "    }\n",
       "</style>\n",
       "<table border=\"1\" class=\"dataframe\">\n",
       "  <thead>\n",
       "    <tr style=\"text-align: right;\">\n",
       "      <th></th>\n",
       "      <th>data_as_of</th>\n",
       "      <th>start_date</th>\n",
       "      <th>end_date</th>\n",
       "      <th>group</th>\n",
       "      <th>state</th>\n",
       "      <th>condition_group</th>\n",
       "      <th>condition</th>\n",
       "      <th>icd10_codes</th>\n",
       "      <th>age_group</th>\n",
       "      <th>covid_19_deaths</th>\n",
       "      <th>number_of_mentions</th>\n",
       "      <th>flag</th>\n",
       "      <th>year</th>\n",
       "      <th>month</th>\n",
       "    </tr>\n",
       "  </thead>\n",
       "  <tbody>\n",
       "    <tr>\n",
       "      <th>0</th>\n",
       "      <td>2021-09-26T00:00:00.000</td>\n",
       "      <td>2020-01-01T00:00:00.000</td>\n",
       "      <td>2021-09-25T00:00:00.000</td>\n",
       "      <td>By Total</td>\n",
       "      <td>United States</td>\n",
       "      <td>Respiratory diseases</td>\n",
       "      <td>Influenza and pneumonia</td>\n",
       "      <td>J09-J18</td>\n",
       "      <td>0-24</td>\n",
       "      <td>671</td>\n",
       "      <td>703</td>\n",
       "      <td>NaN</td>\n",
       "      <td>NaN</td>\n",
       "      <td>NaN</td>\n",
       "    </tr>\n",
       "    <tr>\n",
       "      <th>1</th>\n",
       "      <td>2021-09-26T00:00:00.000</td>\n",
       "      <td>2020-01-01T00:00:00.000</td>\n",
       "      <td>2021-09-25T00:00:00.000</td>\n",
       "      <td>By Total</td>\n",
       "      <td>United States</td>\n",
       "      <td>Respiratory diseases</td>\n",
       "      <td>Influenza and pneumonia</td>\n",
       "      <td>J09-J18</td>\n",
       "      <td>25-34</td>\n",
       "      <td>3098</td>\n",
       "      <td>3180</td>\n",
       "      <td>NaN</td>\n",
       "      <td>NaN</td>\n",
       "      <td>NaN</td>\n",
       "    </tr>\n",
       "    <tr>\n",
       "      <th>2</th>\n",
       "      <td>2021-09-26T00:00:00.000</td>\n",
       "      <td>2020-01-01T00:00:00.000</td>\n",
       "      <td>2021-09-25T00:00:00.000</td>\n",
       "      <td>By Total</td>\n",
       "      <td>United States</td>\n",
       "      <td>Respiratory diseases</td>\n",
       "      <td>Influenza and pneumonia</td>\n",
       "      <td>J09-J18</td>\n",
       "      <td>35-44</td>\n",
       "      <td>8011</td>\n",
       "      <td>8254</td>\n",
       "      <td>NaN</td>\n",
       "      <td>NaN</td>\n",
       "      <td>NaN</td>\n",
       "    </tr>\n",
       "    <tr>\n",
       "      <th>3</th>\n",
       "      <td>2021-09-26T00:00:00.000</td>\n",
       "      <td>2020-01-01T00:00:00.000</td>\n",
       "      <td>2021-09-25T00:00:00.000</td>\n",
       "      <td>By Total</td>\n",
       "      <td>United States</td>\n",
       "      <td>Respiratory diseases</td>\n",
       "      <td>Influenza and pneumonia</td>\n",
       "      <td>J09-J18</td>\n",
       "      <td>45-54</td>\n",
       "      <td>21380</td>\n",
       "      <td>22049</td>\n",
       "      <td>NaN</td>\n",
       "      <td>NaN</td>\n",
       "      <td>NaN</td>\n",
       "    </tr>\n",
       "    <tr>\n",
       "      <th>4</th>\n",
       "      <td>2021-09-26T00:00:00.000</td>\n",
       "      <td>2020-01-01T00:00:00.000</td>\n",
       "      <td>2021-09-25T00:00:00.000</td>\n",
       "      <td>By Total</td>\n",
       "      <td>United States</td>\n",
       "      <td>Respiratory diseases</td>\n",
       "      <td>Influenza and pneumonia</td>\n",
       "      <td>J09-J18</td>\n",
       "      <td>55-64</td>\n",
       "      <td>48881</td>\n",
       "      <td>50283</td>\n",
       "      <td>NaN</td>\n",
       "      <td>NaN</td>\n",
       "      <td>NaN</td>\n",
       "    </tr>\n",
       "    <tr>\n",
       "      <th>...</th>\n",
       "      <td>...</td>\n",
       "      <td>...</td>\n",
       "      <td>...</td>\n",
       "      <td>...</td>\n",
       "      <td>...</td>\n",
       "      <td>...</td>\n",
       "      <td>...</td>\n",
       "      <td>...</td>\n",
       "      <td>...</td>\n",
       "      <td>...</td>\n",
       "      <td>...</td>\n",
       "      <td>...</td>\n",
       "      <td>...</td>\n",
       "      <td>...</td>\n",
       "    </tr>\n",
       "    <tr>\n",
       "      <th>298075</th>\n",
       "      <td>2021-09-26T00:00:00.000</td>\n",
       "      <td>2021-05-01T00:00:00.000</td>\n",
       "      <td>2021-05-31T00:00:00.000</td>\n",
       "      <td>By Month</td>\n",
       "      <td>Puerto Rico</td>\n",
       "      <td>COVID-19</td>\n",
       "      <td>COVID-19</td>\n",
       "      <td>U071</td>\n",
       "      <td>All Ages</td>\n",
       "      <td>184</td>\n",
       "      <td>184</td>\n",
       "      <td>NaN</td>\n",
       "      <td>2021</td>\n",
       "      <td>5</td>\n",
       "    </tr>\n",
       "    <tr>\n",
       "      <th>298076</th>\n",
       "      <td>2021-09-26T00:00:00.000</td>\n",
       "      <td>2021-06-01T00:00:00.000</td>\n",
       "      <td>2021-06-30T00:00:00.000</td>\n",
       "      <td>By Month</td>\n",
       "      <td>Puerto Rico</td>\n",
       "      <td>COVID-19</td>\n",
       "      <td>COVID-19</td>\n",
       "      <td>U071</td>\n",
       "      <td>All Ages</td>\n",
       "      <td>35</td>\n",
       "      <td>35</td>\n",
       "      <td>NaN</td>\n",
       "      <td>2021</td>\n",
       "      <td>6</td>\n",
       "    </tr>\n",
       "    <tr>\n",
       "      <th>298077</th>\n",
       "      <td>2021-09-26T00:00:00.000</td>\n",
       "      <td>2021-07-01T00:00:00.000</td>\n",
       "      <td>2021-07-31T00:00:00.000</td>\n",
       "      <td>By Month</td>\n",
       "      <td>Puerto Rico</td>\n",
       "      <td>COVID-19</td>\n",
       "      <td>COVID-19</td>\n",
       "      <td>U071</td>\n",
       "      <td>All Ages</td>\n",
       "      <td>29</td>\n",
       "      <td>29</td>\n",
       "      <td>NaN</td>\n",
       "      <td>2021</td>\n",
       "      <td>7</td>\n",
       "    </tr>\n",
       "    <tr>\n",
       "      <th>298078</th>\n",
       "      <td>2021-09-26T00:00:00.000</td>\n",
       "      <td>2021-08-01T00:00:00.000</td>\n",
       "      <td>2021-08-28T00:00:00.000</td>\n",
       "      <td>By Month</td>\n",
       "      <td>Puerto Rico</td>\n",
       "      <td>COVID-19</td>\n",
       "      <td>COVID-19</td>\n",
       "      <td>U071</td>\n",
       "      <td>All Ages</td>\n",
       "      <td>229</td>\n",
       "      <td>229</td>\n",
       "      <td>NaN</td>\n",
       "      <td>2021</td>\n",
       "      <td>8</td>\n",
       "    </tr>\n",
       "    <tr>\n",
       "      <th>298079</th>\n",
       "      <td>2021-09-26T00:00:00.000</td>\n",
       "      <td>2021-09-01T00:00:00.000</td>\n",
       "      <td>2021-09-25T00:00:00.000</td>\n",
       "      <td>By Month</td>\n",
       "      <td>Puerto Rico</td>\n",
       "      <td>COVID-19</td>\n",
       "      <td>COVID-19</td>\n",
       "      <td>U071</td>\n",
       "      <td>All Ages</td>\n",
       "      <td>0</td>\n",
       "      <td>0</td>\n",
       "      <td>NaN</td>\n",
       "      <td>2021</td>\n",
       "      <td>9</td>\n",
       "    </tr>\n",
       "  </tbody>\n",
       "</table>\n",
       "<p>298080 rows × 14 columns</p>\n",
       "</div>"
      ],
      "text/plain": [
       "                     data_as_of               start_date  \\\n",
       "0       2021-09-26T00:00:00.000  2020-01-01T00:00:00.000   \n",
       "1       2021-09-26T00:00:00.000  2020-01-01T00:00:00.000   \n",
       "2       2021-09-26T00:00:00.000  2020-01-01T00:00:00.000   \n",
       "3       2021-09-26T00:00:00.000  2020-01-01T00:00:00.000   \n",
       "4       2021-09-26T00:00:00.000  2020-01-01T00:00:00.000   \n",
       "...                         ...                      ...   \n",
       "298075  2021-09-26T00:00:00.000  2021-05-01T00:00:00.000   \n",
       "298076  2021-09-26T00:00:00.000  2021-06-01T00:00:00.000   \n",
       "298077  2021-09-26T00:00:00.000  2021-07-01T00:00:00.000   \n",
       "298078  2021-09-26T00:00:00.000  2021-08-01T00:00:00.000   \n",
       "298079  2021-09-26T00:00:00.000  2021-09-01T00:00:00.000   \n",
       "\n",
       "                       end_date     group          state  \\\n",
       "0       2021-09-25T00:00:00.000  By Total  United States   \n",
       "1       2021-09-25T00:00:00.000  By Total  United States   \n",
       "2       2021-09-25T00:00:00.000  By Total  United States   \n",
       "3       2021-09-25T00:00:00.000  By Total  United States   \n",
       "4       2021-09-25T00:00:00.000  By Total  United States   \n",
       "...                         ...       ...            ...   \n",
       "298075  2021-05-31T00:00:00.000  By Month    Puerto Rico   \n",
       "298076  2021-06-30T00:00:00.000  By Month    Puerto Rico   \n",
       "298077  2021-07-31T00:00:00.000  By Month    Puerto Rico   \n",
       "298078  2021-08-28T00:00:00.000  By Month    Puerto Rico   \n",
       "298079  2021-09-25T00:00:00.000  By Month    Puerto Rico   \n",
       "\n",
       "             condition_group                condition icd10_codes age_group  \\\n",
       "0       Respiratory diseases  Influenza and pneumonia     J09-J18      0-24   \n",
       "1       Respiratory diseases  Influenza and pneumonia     J09-J18     25-34   \n",
       "2       Respiratory diseases  Influenza and pneumonia     J09-J18     35-44   \n",
       "3       Respiratory diseases  Influenza and pneumonia     J09-J18     45-54   \n",
       "4       Respiratory diseases  Influenza and pneumonia     J09-J18     55-64   \n",
       "...                      ...                      ...         ...       ...   \n",
       "298075              COVID-19                 COVID-19        U071  All Ages   \n",
       "298076              COVID-19                 COVID-19        U071  All Ages   \n",
       "298077              COVID-19                 COVID-19        U071  All Ages   \n",
       "298078              COVID-19                 COVID-19        U071  All Ages   \n",
       "298079              COVID-19                 COVID-19        U071  All Ages   \n",
       "\n",
       "       covid_19_deaths number_of_mentions flag  year month  \n",
       "0                  671                703  NaN   NaN   NaN  \n",
       "1                 3098               3180  NaN   NaN   NaN  \n",
       "2                 8011               8254  NaN   NaN   NaN  \n",
       "3                21380              22049  NaN   NaN   NaN  \n",
       "4                48881              50283  NaN   NaN   NaN  \n",
       "...                ...                ...  ...   ...   ...  \n",
       "298075             184                184  NaN  2021     5  \n",
       "298076              35                 35  NaN  2021     6  \n",
       "298077              29                 29  NaN  2021     7  \n",
       "298078             229                229  NaN  2021     8  \n",
       "298079               0                  0  NaN  2021     9  \n",
       "\n",
       "[298080 rows x 14 columns]"
      ]
     },
     "execution_count": 45,
     "metadata": {},
     "output_type": "execute_result"
    }
   ],
   "source": [
    "covid_deaths_cm"
   ]
  },
  {
   "cell_type": "code",
   "execution_count": 46,
   "metadata": {},
   "outputs": [],
   "source": [
    "covid_deaths_comorbidities = covid_deaths_cm.loc[covid_deaths_cm.state == 'United States', :]"
   ]
  },
  {
   "cell_type": "code",
   "execution_count": 47,
   "metadata": {},
   "outputs": [],
   "source": [
    "covid_deaths_comorbidities = covid_deaths_comorbidities[['condition_group', 'condition', 'age_group', 'number_of_mentions']]"
   ]
  },
  {
   "cell_type": "code",
   "execution_count": 48,
   "metadata": {},
   "outputs": [],
   "source": [
    "covid_deaths_comorbidities = covid_deaths_comorbidities.rename(columns = {'number_of_mentions':'number_covid19_deaths'})"
   ]
  },
  {
   "cell_type": "code",
   "execution_count": 49,
   "metadata": {},
   "outputs": [],
   "source": [
    "tt1 = np.logical_and(covid_deaths_comorbidities.age_group != 'All ages',\n",
    "                     covid_deaths_comorbidities.age_group != 'Not stated')\n",
    "\n",
    "covid_deaths_comorbidities = covid_deaths_comorbidities.loc[tt1, :]"
   ]
  },
  {
   "cell_type": "code",
   "execution_count": 50,
   "metadata": {},
   "outputs": [
    {
     "data": {
      "text/html": [
       "<div>\n",
       "<style scoped>\n",
       "    .dataframe tbody tr th:only-of-type {\n",
       "        vertical-align: middle;\n",
       "    }\n",
       "\n",
       "    .dataframe tbody tr th {\n",
       "        vertical-align: top;\n",
       "    }\n",
       "\n",
       "    .dataframe thead th {\n",
       "        text-align: right;\n",
       "    }\n",
       "</style>\n",
       "<table border=\"1\" class=\"dataframe\">\n",
       "  <thead>\n",
       "    <tr style=\"text-align: right;\">\n",
       "      <th></th>\n",
       "      <th>condition_group</th>\n",
       "      <th>condition</th>\n",
       "      <th>age_group</th>\n",
       "      <th>number_covid19_deaths</th>\n",
       "    </tr>\n",
       "  </thead>\n",
       "  <tbody>\n",
       "    <tr>\n",
       "      <th>0</th>\n",
       "      <td>Respiratory diseases</td>\n",
       "      <td>Influenza and pneumonia</td>\n",
       "      <td>0-24</td>\n",
       "      <td>703</td>\n",
       "    </tr>\n",
       "    <tr>\n",
       "      <th>1</th>\n",
       "      <td>Respiratory diseases</td>\n",
       "      <td>Influenza and pneumonia</td>\n",
       "      <td>25-34</td>\n",
       "      <td>3180</td>\n",
       "    </tr>\n",
       "    <tr>\n",
       "      <th>2</th>\n",
       "      <td>Respiratory diseases</td>\n",
       "      <td>Influenza and pneumonia</td>\n",
       "      <td>35-44</td>\n",
       "      <td>8254</td>\n",
       "    </tr>\n",
       "    <tr>\n",
       "      <th>3</th>\n",
       "      <td>Respiratory diseases</td>\n",
       "      <td>Influenza and pneumonia</td>\n",
       "      <td>45-54</td>\n",
       "      <td>22049</td>\n",
       "    </tr>\n",
       "    <tr>\n",
       "      <th>4</th>\n",
       "      <td>Respiratory diseases</td>\n",
       "      <td>Influenza and pneumonia</td>\n",
       "      <td>55-64</td>\n",
       "      <td>50283</td>\n",
       "    </tr>\n",
       "  </tbody>\n",
       "</table>\n",
       "</div>"
      ],
      "text/plain": [
       "        condition_group                condition age_group  \\\n",
       "0  Respiratory diseases  Influenza and pneumonia      0-24   \n",
       "1  Respiratory diseases  Influenza and pneumonia     25-34   \n",
       "2  Respiratory diseases  Influenza and pneumonia     35-44   \n",
       "3  Respiratory diseases  Influenza and pneumonia     45-54   \n",
       "4  Respiratory diseases  Influenza and pneumonia     55-64   \n",
       "\n",
       "  number_covid19_deaths  \n",
       "0                   703  \n",
       "1                  3180  \n",
       "2                  8254  \n",
       "3                 22049  \n",
       "4                 50283  "
      ]
     },
     "execution_count": 50,
     "metadata": {},
     "output_type": "execute_result"
    }
   ],
   "source": [
    "covid_deaths_comorbidities.head()"
   ]
  },
  {
   "cell_type": "code",
   "execution_count": 51,
   "metadata": {},
   "outputs": [
    {
     "data": {
      "text/plain": [
       "35-44       552\n",
       "25-34       552\n",
       "0-24        552\n",
       "85+         552\n",
       "55-64       552\n",
       "75-84       552\n",
       "65-74       552\n",
       "45-54       552\n",
       "All Ages    552\n",
       "Name: age_group, dtype: int64"
      ]
     },
     "execution_count": 51,
     "metadata": {},
     "output_type": "execute_result"
    }
   ],
   "source": [
    "covid_deaths_comorbidities.age_group.value_counts()"
   ]
  },
  {
   "cell_type": "code",
   "execution_count": 52,
   "metadata": {},
   "outputs": [
    {
     "data": {
      "text/plain": [
       "Diabetes                                                                     216\n",
       "Renal failure                                                                216\n",
       "Heart failure                                                                216\n",
       "Hypertensive diseases                                                        216\n",
       "Respiratory failure                                                          216\n",
       "Chronic lower respiratory diseases                                           216\n",
       "Intentional and unintentional injury, poisoning, and other adverse events    216\n",
       "All other conditions and causes (residual)                                   216\n",
       "COVID-19                                                                     216\n",
       "Adult respiratory distress syndrome                                          216\n",
       "Cerebrovascular diseases                                                     216\n",
       "Other diseases of the circulatory system                                     216\n",
       "Ischemic heart disease                                                       216\n",
       "Influenza and pneumonia                                                      216\n",
       "Respiratory arrest                                                           216\n",
       "Alzheimer disease                                                            216\n",
       "Other diseases of the respiratory system                                     216\n",
       "Vascular and unspecified dementia                                            216\n",
       "Obesity                                                                      216\n",
       "Malignant neoplasms                                                          216\n",
       "Sepsis                                                                       216\n",
       "Cardiac arrhythmia                                                           216\n",
       "Cardiac arrest                                                               216\n",
       "Name: condition, dtype: int64"
      ]
     },
     "execution_count": 52,
     "metadata": {},
     "output_type": "execute_result"
    }
   ],
   "source": [
    "covid_deaths_comorbidities.condition.value_counts()"
   ]
  },
  {
   "cell_type": "code",
   "execution_count": 53,
   "metadata": {},
   "outputs": [],
   "source": [
    "covid_deaths_comorbidities.number_covid19_deaths = covid_deaths_comorbidities.number_covid19_deaths.astype(float)\n",
    "\n",
    "covid_deaths_comorbidities.number_covid19_deaths *= deaths_fraction"
   ]
  },
  {
   "cell_type": "code",
   "execution_count": 54,
   "metadata": {},
   "outputs": [],
   "source": [
    "# export the data\n",
    "covid_deaths_comorbidities.to_csv(os.path.join(data_dir, 'COVID-Deaths_Comorbidities.csv'), index = False)"
   ]
  },
  {
   "cell_type": "code",
   "execution_count": 55,
   "metadata": {},
   "outputs": [],
   "source": [
    "covid_deaths_comorbidities = pd.read_csv(os.path.join(data_dir, 'COVID-Deaths_Comorbidities.csv'))"
   ]
  },
  {
   "cell_type": "markdown",
   "metadata": {},
   "source": [
    "#### Data on Comorbidities Prevalence (US) - GHBx"
   ]
  },
  {
   "cell_type": "code",
   "execution_count": 56,
   "metadata": {},
   "outputs": [],
   "source": [
    "# TO DO IN AN AUTOMATED FASHION...\n",
    "#client_ihme = IHMELoader()"
   ]
  },
  {
   "cell_type": "code",
   "execution_count": 57,
   "metadata": {},
   "outputs": [],
   "source": [
    "#client_ihme.bulk_download(out_dir = data_dir,\n",
    "#                          version = [i for i in range(1000) if client_ihme.has_newer_source(i)][-1] + 1,\n",
    "#                         context = ['le'], year = [2017])"
   ]
  },
  {
   "cell_type": "code",
   "execution_count": 58,
   "metadata": {},
   "outputs": [],
   "source": [
    "# read the comorbidities data that ruchita gave me...\n",
    "# these are prevalence values, not incidences\n",
    "comorbidities_prevalence = pd.read_csv(os.path.join(data_dir,\n",
    "                                                    'IHME-GBD_2017_DATA-66c072b7-1/IHME-GBD_2017_DATA-66c072b7-1-SpecificAgesOnly.csv'))"
   ]
  },
  {
   "cell_type": "code",
   "execution_count": 59,
   "metadata": {},
   "outputs": [],
   "source": [
    "# take just the variable i need\n",
    "comorbidities_prevalence = comorbidities_prevalence.loc[:, ['sex', 'age', 'cause', 'val']]"
   ]
  },
  {
   "cell_type": "code",
   "execution_count": 60,
   "metadata": {},
   "outputs": [
    {
     "data": {
      "text/html": [
       "<div>\n",
       "<style scoped>\n",
       "    .dataframe tbody tr th:only-of-type {\n",
       "        vertical-align: middle;\n",
       "    }\n",
       "\n",
       "    .dataframe tbody tr th {\n",
       "        vertical-align: top;\n",
       "    }\n",
       "\n",
       "    .dataframe thead th {\n",
       "        text-align: right;\n",
       "    }\n",
       "</style>\n",
       "<table border=\"1\" class=\"dataframe\">\n",
       "  <thead>\n",
       "    <tr style=\"text-align: right;\">\n",
       "      <th></th>\n",
       "      <th>sex</th>\n",
       "      <th>age</th>\n",
       "      <th>cause</th>\n",
       "      <th>val</th>\n",
       "    </tr>\n",
       "  </thead>\n",
       "  <tbody>\n",
       "    <tr>\n",
       "      <th>0</th>\n",
       "      <td>Male</td>\n",
       "      <td>1 to 4</td>\n",
       "      <td>Chronic respiratory diseases</td>\n",
       "      <td>0.131947</td>\n",
       "    </tr>\n",
       "    <tr>\n",
       "      <th>1</th>\n",
       "      <td>Female</td>\n",
       "      <td>1 to 4</td>\n",
       "      <td>Chronic respiratory diseases</td>\n",
       "      <td>0.076593</td>\n",
       "    </tr>\n",
       "    <tr>\n",
       "      <th>2</th>\n",
       "      <td>Male</td>\n",
       "      <td>5 to 9</td>\n",
       "      <td>Chronic respiratory diseases</td>\n",
       "      <td>0.128654</td>\n",
       "    </tr>\n",
       "    <tr>\n",
       "      <th>3</th>\n",
       "      <td>Female</td>\n",
       "      <td>5 to 9</td>\n",
       "      <td>Chronic respiratory diseases</td>\n",
       "      <td>0.081235</td>\n",
       "    </tr>\n",
       "    <tr>\n",
       "      <th>4</th>\n",
       "      <td>Male</td>\n",
       "      <td>10 to 14</td>\n",
       "      <td>Chronic respiratory diseases</td>\n",
       "      <td>0.081274</td>\n",
       "    </tr>\n",
       "  </tbody>\n",
       "</table>\n",
       "</div>"
      ],
      "text/plain": [
       "      sex       age                         cause       val\n",
       "0    Male    1 to 4  Chronic respiratory diseases  0.131947\n",
       "1  Female    1 to 4  Chronic respiratory diseases  0.076593\n",
       "2    Male    5 to 9  Chronic respiratory diseases  0.128654\n",
       "3  Female    5 to 9  Chronic respiratory diseases  0.081235\n",
       "4    Male  10 to 14  Chronic respiratory diseases  0.081274"
      ]
     },
     "execution_count": 60,
     "metadata": {},
     "output_type": "execute_result"
    }
   ],
   "source": [
    "# take a look at the data\n",
    "comorbidities_prevalence.head()"
   ]
  },
  {
   "cell_type": "code",
   "execution_count": 61,
   "metadata": {},
   "outputs": [
    {
     "name": "stderr",
     "output_type": "stream",
     "text": [
      "/Genomics/grid/users/ckkumar/.conda/envs/research_defaults/lib/python3.8/site-packages/pandas/core/indexing.py:1765: SettingWithCopyWarning: \n",
      "A value is trying to be set on a copy of a slice from a DataFrame.\n",
      "Try using .loc[row_indexer,col_indexer] = value instead\n",
      "\n",
      "See the caveats in the documentation: https://pandas.pydata.org/pandas-docs/stable/user_guide/indexing.html#returning-a-view-versus-a-copy\n",
      "  isetter(loc, value)\n"
     ]
    }
   ],
   "source": [
    "# add obesity data from the cdc\n",
    "#20–39 40–59 60 and over\n",
    "#\n",
    "#Men 40.3(3.8) 46.4(3.2) 42.2 (3.3)\n",
    "#Women 39.7(2.7) 43.3 (2.7) 43.3 (3.0)\n",
    "\n",
    "tt1 = comorbidities_prevalence.loc[comorbidities_prevalence.cause == 'Chronic respiratory diseases', :]\n",
    "tt1.loc[:, 'cause'] = 'Obesity'\n",
    "\n",
    "tt2 = np.logical_or(np.logical_or(np.logical_or(tt1.age == '20 to 24',\n",
    "                                                tt1.age == '25 to 29'),\n",
    "                                  tt1.age == '30 to 34'),\n",
    "                   tt1.age == '35 to 39')\n",
    "\n",
    "tt1.loc[np.logical_and(tt2, tt1.sex == 'Male'), 'val'] = .403\n",
    "tt1.loc[np.logical_and(tt2, tt1.sex == 'Female'), 'val'] = .397\n",
    "\n",
    "tt2 = np.logical_or(np.logical_or(np.logical_or(tt1.age == '40 to 44',\n",
    "                                                tt1.age == '45 to 49'),\n",
    "                                  tt1.age == '50 to 54'),\n",
    "                   tt1.age == '55 to 59')\n",
    "\n",
    "tt1.loc[np.logical_and(tt2, tt1.sex == 'Male'), 'val'] = .464\n",
    "tt1.loc[np.logical_and(tt2, tt1.sex == 'Female'), 'val'] = .433\n",
    "\n",
    "tt1.loc[np.logical_and(tt2, tt1.sex == 'Male'), 'val'] = .403\n",
    "tt1.loc[np.logical_and(tt2, tt1.sex == 'Female'), 'val'] = .397\n",
    "\n",
    "tt2 = np.logical_or(np.logical_or(np.logical_or(tt1.age == '60 to 64',\n",
    "                                                tt1.age == '65 to 69'),\n",
    "                                  tt1.age == '70 to 74'),\n",
    "                   tt1.age == '75 to 79')\n",
    "\n",
    "tt1.loc[np.logical_and(tt2, tt1.sex == 'Male'), 'val'] = .422\n",
    "tt1.loc[np.logical_and(tt2, tt1.sex == 'Female'), 'val'] = .433\n",
    "\n",
    "comorbidities_prevalence = pd.concat([comorbidities_prevalence,\n",
    "                                     tt1], axis = 0)"
   ]
  },
  {
   "cell_type": "code",
   "execution_count": 62,
   "metadata": {},
   "outputs": [
    {
     "data": {
      "text/plain": [
       "45 to 49    14\n",
       "60 to 64    14\n",
       "35 to 39    14\n",
       "30 to 34    14\n",
       "1 to 4      14\n",
       "40 to 44    14\n",
       "55 to 59    14\n",
       "80 to 84    14\n",
       "85 to 89    14\n",
       "5 to 9      14\n",
       "20 to 24    14\n",
       "90 to 94    14\n",
       "50 to 54    14\n",
       "10 to 14    14\n",
       "25 to 29    14\n",
       "65 to 69    14\n",
       "75 to 79    14\n",
       "70 to 74    14\n",
       "95 plus     14\n",
       "15 to 19    14\n",
       "Name: age, dtype: int64"
      ]
     },
     "execution_count": 62,
     "metadata": {},
     "output_type": "execute_result"
    }
   ],
   "source": [
    "# age resolution of the data\n",
    "comorbidities_prevalence.age.value_counts()"
   ]
  },
  {
   "cell_type": "code",
   "execution_count": 63,
   "metadata": {
    "scrolled": true
   },
   "outputs": [
    {
     "data": {
      "text/plain": [
       "Chronic respiratory diseases               40\n",
       "Obesity                                    40\n",
       "Alzheimer's disease and other dementias    40\n",
       "Respiratory infections and tuberculosis    40\n",
       "Neoplasms                                  40\n",
       "Diabetes and kidney diseases               40\n",
       "Cardiovascular diseases                    40\n",
       "Name: cause, dtype: int64"
      ]
     },
     "execution_count": 63,
     "metadata": {},
     "output_type": "execute_result"
    }
   ],
   "source": [
    "# what types of comorbidities do we have in the data?\n",
    "comorbidities_prevalence.cause.value_counts()"
   ]
  },
  {
   "cell_type": "markdown",
   "metadata": {},
   "source": [
    "#### Testing Effectiveness"
   ]
  },
  {
   "cell_type": "code",
   "execution_count": 64,
   "metadata": {},
   "outputs": [],
   "source": [
    "# turn them into a nice dataframe\n",
    "testing_effectiveness = pd.DataFrame(columns = ['sensitivity',\n",
    "                                                'specificity'], index = ['rt-pcr',\n",
    "                                                                         'antibody',\n",
    "                                                                        'antigen'])\n",
    "# recall sensitivity is true positives / (true pos + false negs)\n",
    "# recall specificity is true negatives / (true negs + false positive)\n",
    "testing_effectiveness.loc['rt-pcr', 'sensitivity'] = 1 # it's 1 because of the constraints for testing positive discussed below\n",
    "testing_effectiveness.loc['rt-pcr', 'specificity'] = .99 # https://www.cell.com/med/pdf/S2666-6340(20)30016-7.pdf\n",
    "# https://onlinelibrary.wiley.com/doi/pdf/10.1002/jmv.26211?casa_token=o2avJ_hHuagAAAAA%3ApBIZmAW7hn4vwT4rO5xWKP2CqjGo34TkkcVQ_EZ1_JtmLG_p_A4KLOlUvcOtekHDSvGUMIbUVTxrKAFO\n",
    "testing_effectiveness.loc['antibody', 'sensitivity'] = .96\n",
    "testing_effectiveness.loc['antibody', 'specificity'] = 0.95\n",
    "# Comparison of automated SARS-CoV-2 antigen test for COVID-19 infection with quantitative RT-PCR using 313 nasopharyngeal\n",
    "# swabs, including from seven serially followed patients\n",
    "testing_effectiveness.loc['antigen', 'sensitivity'] = [1, 0.93, 0.83, 0.215667]\n",
    "# sensitivity for quantitative antigen test\n",
    "# [1, 0.93, 0.83, 0.215667] # sensitivity for >1600, 400, 100, <100 viral loads from pdf sent by IOC\n",
    "# for lateral flow antigen tests: [1/33, 11/82, 40/69, 52/59, 61/61]\n",
    "# https://www.ox.ac.uk/sites/files/oxford/media_wysiwyg/UK%20evaluation_PHE%20Porton%20Down%20%20University%20of%20Oxford_final.pdf\n",
    "testing_effectiveness.loc['antigen', 'specificity'] = 0.98"
   ]
  },
  {
   "cell_type": "code",
   "execution_count": 65,
   "metadata": {},
   "outputs": [
    {
     "data": {
      "text/html": [
       "<div>\n",
       "<style scoped>\n",
       "    .dataframe tbody tr th:only-of-type {\n",
       "        vertical-align: middle;\n",
       "    }\n",
       "\n",
       "    .dataframe tbody tr th {\n",
       "        vertical-align: top;\n",
       "    }\n",
       "\n",
       "    .dataframe thead th {\n",
       "        text-align: right;\n",
       "    }\n",
       "</style>\n",
       "<table border=\"1\" class=\"dataframe\">\n",
       "  <thead>\n",
       "    <tr style=\"text-align: right;\">\n",
       "      <th></th>\n",
       "      <th>sensitivity</th>\n",
       "      <th>specificity</th>\n",
       "    </tr>\n",
       "  </thead>\n",
       "  <tbody>\n",
       "    <tr>\n",
       "      <th>rt-pcr</th>\n",
       "      <td>1</td>\n",
       "      <td>0.99</td>\n",
       "    </tr>\n",
       "    <tr>\n",
       "      <th>antibody</th>\n",
       "      <td>0.96</td>\n",
       "      <td>0.95</td>\n",
       "    </tr>\n",
       "    <tr>\n",
       "      <th>antigen</th>\n",
       "      <td>[1, 0.93, 0.83, 0.215667]</td>\n",
       "      <td>0.98</td>\n",
       "    </tr>\n",
       "  </tbody>\n",
       "</table>\n",
       "</div>"
      ],
      "text/plain": [
       "                        sensitivity specificity\n",
       "rt-pcr                            1        0.99\n",
       "antibody                       0.96        0.95\n",
       "antigen   [1, 0.93, 0.83, 0.215667]        0.98"
      ]
     },
     "execution_count": 65,
     "metadata": {},
     "output_type": "execute_result"
    }
   ],
   "source": [
    "testing_effectiveness"
   ]
  },
  {
   "cell_type": "markdown",
   "metadata": {},
   "source": [
    "#### Probability of Transmission Over Time"
   ]
  },
  {
   "cell_type": "code",
   "execution_count": 66,
   "metadata": {},
   "outputs": [],
   "source": [
    "bootstrapped_gamma_params = pd.read_csv(os.path.join(data_dir,\n",
    "                                                     'InfectiousnessGamaDistributionBootstrappedParameters.csv'))\n",
    "bootstrapped_gamma_params = bootstrapped_gamma_params.drop('Unnamed: 0', axis = 1)"
   ]
  },
  {
   "cell_type": "code",
   "execution_count": 67,
   "metadata": {},
   "outputs": [
    {
     "data": {
      "text/html": [
       "<div>\n",
       "<style scoped>\n",
       "    .dataframe tbody tr th:only-of-type {\n",
       "        vertical-align: middle;\n",
       "    }\n",
       "\n",
       "    .dataframe tbody tr th {\n",
       "        vertical-align: top;\n",
       "    }\n",
       "\n",
       "    .dataframe thead th {\n",
       "        text-align: right;\n",
       "    }\n",
       "</style>\n",
       "<table border=\"1\" class=\"dataframe\">\n",
       "  <thead>\n",
       "    <tr style=\"text-align: right;\">\n",
       "      <th></th>\n",
       "      <th>X1</th>\n",
       "      <th>X2</th>\n",
       "      <th>X3</th>\n",
       "    </tr>\n",
       "  </thead>\n",
       "  <tbody>\n",
       "    <tr>\n",
       "      <th>0</th>\n",
       "      <td>17.696575</td>\n",
       "      <td>1.506983</td>\n",
       "      <td>12.151353</td>\n",
       "    </tr>\n",
       "    <tr>\n",
       "      <th>1</th>\n",
       "      <td>20.343921</td>\n",
       "      <td>2.325398</td>\n",
       "      <td>9.113862</td>\n",
       "    </tr>\n",
       "    <tr>\n",
       "      <th>2</th>\n",
       "      <td>17.183901</td>\n",
       "      <td>1.347468</td>\n",
       "      <td>12.744004</td>\n",
       "    </tr>\n",
       "    <tr>\n",
       "      <th>3</th>\n",
       "      <td>37.751425</td>\n",
       "      <td>2.583141</td>\n",
       "      <td>15.361128</td>\n",
       "    </tr>\n",
       "    <tr>\n",
       "      <th>4</th>\n",
       "      <td>17.216775</td>\n",
       "      <td>1.132562</td>\n",
       "      <td>14.605513</td>\n",
       "    </tr>\n",
       "  </tbody>\n",
       "</table>\n",
       "</div>"
      ],
      "text/plain": [
       "          X1        X2         X3\n",
       "0  17.696575  1.506983  12.151353\n",
       "1  20.343921  2.325398   9.113862\n",
       "2  17.183901  1.347468  12.744004\n",
       "3  37.751425  2.583141  15.361128\n",
       "4  17.216775  1.132562  14.605513"
      ]
     },
     "execution_count": 67,
     "metadata": {},
     "output_type": "execute_result"
    }
   ],
   "source": [
    "bootstrapped_gamma_params.head()"
   ]
  },
  {
   "cell_type": "markdown",
   "metadata": {},
   "source": [
    "#### Viral Load Over Time"
   ]
  },
  {
   "cell_type": "code",
   "execution_count": 68,
   "metadata": {},
   "outputs": [],
   "source": [
    "# units of log10 copies per mL\n",
    "viral_load = pd.read_csv(os.path.join(data_dir,\n",
    "                                      'ViralLoadDaysSinceSymptomOnsetMetaAnalysis-SpatialTemporalDynamics.csv'))\n",
    "viral_load = viral_load.loc[np.logical_and(viral_load.Swab == 'URT',\n",
    "                                          True), :]\n",
    "viral_load = viral_load.drop(['Author'], axis = 1)"
   ]
  },
  {
   "cell_type": "code",
   "execution_count": 69,
   "metadata": {},
   "outputs": [
    {
     "data": {
      "text/html": [
       "<div>\n",
       "<style scoped>\n",
       "    .dataframe tbody tr th:only-of-type {\n",
       "        vertical-align: middle;\n",
       "    }\n",
       "\n",
       "    .dataframe tbody tr th {\n",
       "        vertical-align: top;\n",
       "    }\n",
       "\n",
       "    .dataframe thead th {\n",
       "        text-align: right;\n",
       "    }\n",
       "</style>\n",
       "<table border=\"1\" class=\"dataframe\">\n",
       "  <thead>\n",
       "    <tr style=\"text-align: right;\">\n",
       "      <th></th>\n",
       "      <th>Disease</th>\n",
       "      <th>Swab</th>\n",
       "      <th>Day</th>\n",
       "      <th>Viral_load_log10</th>\n",
       "    </tr>\n",
       "  </thead>\n",
       "  <tbody>\n",
       "    <tr>\n",
       "      <th>0</th>\n",
       "      <td>Severe</td>\n",
       "      <td>URT</td>\n",
       "      <td>5.0</td>\n",
       "      <td>8.12</td>\n",
       "    </tr>\n",
       "    <tr>\n",
       "      <th>1</th>\n",
       "      <td>Severe</td>\n",
       "      <td>URT</td>\n",
       "      <td>6.0</td>\n",
       "      <td>7.94</td>\n",
       "    </tr>\n",
       "    <tr>\n",
       "      <th>2</th>\n",
       "      <td>Mild</td>\n",
       "      <td>URT</td>\n",
       "      <td>4.0</td>\n",
       "      <td>7.34</td>\n",
       "    </tr>\n",
       "    <tr>\n",
       "      <th>3</th>\n",
       "      <td>Mild</td>\n",
       "      <td>URT</td>\n",
       "      <td>2.0</td>\n",
       "      <td>7.29</td>\n",
       "    </tr>\n",
       "    <tr>\n",
       "      <th>4</th>\n",
       "      <td>Mild</td>\n",
       "      <td>URT</td>\n",
       "      <td>5.0</td>\n",
       "      <td>6.94</td>\n",
       "    </tr>\n",
       "  </tbody>\n",
       "</table>\n",
       "</div>"
      ],
      "text/plain": [
       "  Disease Swab  Day  Viral_load_log10\n",
       "0  Severe  URT  5.0              8.12\n",
       "1  Severe  URT  6.0              7.94\n",
       "2    Mild  URT  4.0              7.34\n",
       "3    Mild  URT  2.0              7.29\n",
       "4    Mild  URT  5.0              6.94"
      ]
     },
     "execution_count": 69,
     "metadata": {},
     "output_type": "execute_result"
    }
   ],
   "source": [
    "viral_load.head()"
   ]
  },
  {
   "cell_type": "code",
   "execution_count": 70,
   "metadata": {},
   "outputs": [],
   "source": [
    "#tt1 = viral_load.copy(deep = True)"
   ]
  },
  {
   "cell_type": "code",
   "execution_count": 71,
   "metadata": {},
   "outputs": [],
   "source": [
    "#tt1['infectiousness'] = [stats.gamma.pdf(x, 20.51651, -12.27248, 1/1.592124) for x in tt1.Day]"
   ]
  },
  {
   "cell_type": "code",
   "execution_count": 72,
   "metadata": {
    "scrolled": true
   },
   "outputs": [],
   "source": [
    "#tt1['infectiousness']"
   ]
  },
  {
   "cell_type": "code",
   "execution_count": 73,
   "metadata": {},
   "outputs": [],
   "source": [
    "#plt.scatter(tt1['infectiousness'], tt1['Viral_load_log10'])"
   ]
  },
  {
   "cell_type": "code",
   "execution_count": 74,
   "metadata": {},
   "outputs": [],
   "source": [
    "#plt.scatter(viral_load['Day'][viral_load['Day'] > 3], viral_load['Viral_load_log10'][viral_load['Day'] > 3])\n",
    "#plt.grid()"
   ]
  },
  {
   "cell_type": "code",
   "execution_count": 75,
   "metadata": {},
   "outputs": [],
   "source": [
    "viral_load_kinetics = sm.OLS(viral_load['Viral_load_log10'][~np.isnan(viral_load['Viral_load_log10'])][viral_load['Day'] > 3],\n",
    "        np.vstack((np.ones(viral_load['Day'][~np.isnan(viral_load['Viral_load_log10'])][viral_load['Day'] > 3].values.shape),\n",
    "                       viral_load['Day'][~np.isnan(viral_load['Viral_load_log10'])][viral_load['Day'] > 3].values)).T).fit()"
   ]
  },
  {
   "cell_type": "code",
   "execution_count": 76,
   "metadata": {},
   "outputs": [],
   "source": [
    "viral_load_ct = LinearRegression().fit(np.array([0.91, 10.42]).reshape(-1, 1),\n",
    "                                       np.array([37.92, 6.16]).reshape(-1, 1))"
   ]
  },
  {
   "cell_type": "code",
   "execution_count": 77,
   "metadata": {},
   "outputs": [],
   "source": [
    "ct_viral_load = LinearRegression().fit(np.array([37.92, 6.16]).reshape(-1, 1),\n",
    "                                       np.array([0.91, 10.42]).reshape(-1, 1))"
   ]
  },
  {
   "cell_type": "markdown",
   "metadata": {},
   "source": [
    "#### Contacts Distribution"
   ]
  },
  {
   "cell_type": "code",
   "execution_count": 78,
   "metadata": {},
   "outputs": [],
   "source": [
    "# number of contacts\n",
    "k = 0.16 # Estimating the overdispersion in COVID-19 transmissionusing outbreak sizes outside China\n",
    "m = 2.5\n",
    "Xs = np.array(range(101))\n",
    "\n",
    "p_contacts = (sp.special.gamma(k + Xs) / (sp.special.gamma(Xs + 1) * sp.special.gamma(k))) * (np.power(m / (m + k),\n",
    "                                                                                                       Xs)) * ((1 + (m / k)) ** (-k))\n",
    "#p_contacts = p_contacts[1:]"
   ]
  },
  {
   "cell_type": "markdown",
   "metadata": {},
   "source": [
    "#### Duration and Length of Hospital Stay"
   ]
  },
  {
   "cell_type": "code",
   "execution_count": 79,
   "metadata": {},
   "outputs": [],
   "source": [
    "# computed negative binomial parameters\n",
    "duration_nbinom_parameters = pd.read_csv(os.path.join(data_dir, 'NegativeBinomialDistributionParameters.csv'))"
   ]
  },
  {
   "cell_type": "code",
   "execution_count": 80,
   "metadata": {},
   "outputs": [],
   "source": [
    "duration_nbinom_parameters.index = ['critical_duration<=49',\n",
    "                                   'death_hospital<=49',\n",
    "                                   'critical_duration<=64',\n",
    "                                   'death_hospital<=64',\n",
    "                                   'critical_duration>64',\n",
    "                                   'death_hospital>64',\n",
    "                                   'duration_overall',\n",
    "                                   'hospital<=49',\n",
    "                                   'icu<=49',\n",
    "                                   'hospital<=64',\n",
    "                                   'icu<=64',\n",
    "                                   'hospital>64',\n",
    "                                   'icu>64']"
   ]
  },
  {
   "cell_type": "code",
   "execution_count": 81,
   "metadata": {},
   "outputs": [
    {
     "data": {
      "text/html": [
       "<div>\n",
       "<style scoped>\n",
       "    .dataframe tbody tr th:only-of-type {\n",
       "        vertical-align: middle;\n",
       "    }\n",
       "\n",
       "    .dataframe tbody tr th {\n",
       "        vertical-align: top;\n",
       "    }\n",
       "\n",
       "    .dataframe thead th {\n",
       "        text-align: right;\n",
       "    }\n",
       "</style>\n",
       "<table border=\"1\" class=\"dataframe\">\n",
       "  <thead>\n",
       "    <tr style=\"text-align: right;\">\n",
       "      <th></th>\n",
       "      <th>parameters</th>\n",
       "    </tr>\n",
       "  </thead>\n",
       "  <tbody>\n",
       "    <tr>\n",
       "      <th>critical_duration&lt;=49</th>\n",
       "      <td>[2.26301767 0.23720976]</td>\n",
       "    </tr>\n",
       "    <tr>\n",
       "      <th>death_hospital&lt;=49</th>\n",
       "      <td>[3.25586607 0.14953476]</td>\n",
       "    </tr>\n",
       "    <tr>\n",
       "      <th>critical_duration&lt;=64</th>\n",
       "      <td>[1.50981693 0.17303526]</td>\n",
       "    </tr>\n",
       "    <tr>\n",
       "      <th>death_hospital&lt;=64</th>\n",
       "      <td>[2.99027446 0.13456361]</td>\n",
       "    </tr>\n",
       "    <tr>\n",
       "      <th>critical_duration&gt;64</th>\n",
       "      <td>[1.   0.14]</td>\n",
       "    </tr>\n",
       "    <tr>\n",
       "      <th>death_hospital&gt;64</th>\n",
       "      <td>[3.67138167 0.19844192]</td>\n",
       "    </tr>\n",
       "    <tr>\n",
       "      <th>duration_overall</th>\n",
       "      <td>[3.55275464 0.14080489]</td>\n",
       "    </tr>\n",
       "    <tr>\n",
       "      <th>hospital&lt;=49</th>\n",
       "      <td>[3.   0.44]</td>\n",
       "    </tr>\n",
       "    <tr>\n",
       "      <th>icu&lt;=49</th>\n",
       "      <td>[2.58187094 0.15131289]</td>\n",
       "    </tr>\n",
       "    <tr>\n",
       "      <th>hospital&lt;=64</th>\n",
       "      <td>[3.   0.39]</td>\n",
       "    </tr>\n",
       "    <tr>\n",
       "      <th>icu&lt;=64</th>\n",
       "      <td>[2.88521089 0.14058963]</td>\n",
       "    </tr>\n",
       "    <tr>\n",
       "      <th>hospital&gt;64</th>\n",
       "      <td>[2.96749037 0.29605025]</td>\n",
       "    </tr>\n",
       "    <tr>\n",
       "      <th>icu&gt;64</th>\n",
       "      <td>[2.48614842 0.14605342]</td>\n",
       "    </tr>\n",
       "  </tbody>\n",
       "</table>\n",
       "</div>"
      ],
      "text/plain": [
       "                                    parameters\n",
       "critical_duration<=49  [2.26301767 0.23720976]\n",
       "death_hospital<=49     [3.25586607 0.14953476]\n",
       "critical_duration<=64  [1.50981693 0.17303526]\n",
       "death_hospital<=64     [2.99027446 0.13456361]\n",
       "critical_duration>64               [1.   0.14]\n",
       "death_hospital>64      [3.67138167 0.19844192]\n",
       "duration_overall       [3.55275464 0.14080489]\n",
       "hospital<=49                       [3.   0.44]\n",
       "icu<=49                [2.58187094 0.15131289]\n",
       "hospital<=64                       [3.   0.39]\n",
       "icu<=64                [2.88521089 0.14058963]\n",
       "hospital>64            [2.96749037 0.29605025]\n",
       "icu>64                 [2.48614842 0.14605342]"
      ]
     },
     "execution_count": 81,
     "metadata": {},
     "output_type": "execute_result"
    }
   ],
   "source": [
    "duration_nbinom_parameters"
   ]
  },
  {
   "cell_type": "markdown",
   "metadata": {},
   "source": [
    "### Contact Matrix"
   ]
  },
  {
   "cell_type": "code",
   "execution_count": 82,
   "metadata": {},
   "outputs": [],
   "source": [
    "contact = pd.read_csv(os.path.join(data_dir, 'United_States_country_level_M_overall_contact_matrix_85.csv'),\n",
    "                      header = None)"
   ]
  },
  {
   "cell_type": "code",
   "execution_count": 83,
   "metadata": {},
   "outputs": [],
   "source": [
    "contact.index = [*[str(i) for i in range(84)], '84+']"
   ]
  },
  {
   "cell_type": "code",
   "execution_count": 84,
   "metadata": {},
   "outputs": [],
   "source": [
    "contact.columns = [*[str(i) for i in range(84)], '84+']"
   ]
  },
  {
   "cell_type": "code",
   "execution_count": 85,
   "metadata": {},
   "outputs": [
    {
     "data": {
      "text/html": [
       "<div>\n",
       "<style scoped>\n",
       "    .dataframe tbody tr th:only-of-type {\n",
       "        vertical-align: middle;\n",
       "    }\n",
       "\n",
       "    .dataframe tbody tr th {\n",
       "        vertical-align: top;\n",
       "    }\n",
       "\n",
       "    .dataframe thead th {\n",
       "        text-align: right;\n",
       "    }\n",
       "</style>\n",
       "<table border=\"1\" class=\"dataframe\">\n",
       "  <thead>\n",
       "    <tr style=\"text-align: right;\">\n",
       "      <th></th>\n",
       "      <th>0</th>\n",
       "      <th>1</th>\n",
       "      <th>2</th>\n",
       "      <th>3</th>\n",
       "      <th>4</th>\n",
       "      <th>5</th>\n",
       "      <th>6</th>\n",
       "      <th>7</th>\n",
       "      <th>8</th>\n",
       "      <th>9</th>\n",
       "      <th>...</th>\n",
       "      <th>75</th>\n",
       "      <th>76</th>\n",
       "      <th>77</th>\n",
       "      <th>78</th>\n",
       "      <th>79</th>\n",
       "      <th>80</th>\n",
       "      <th>81</th>\n",
       "      <th>82</th>\n",
       "      <th>83</th>\n",
       "      <th>84+</th>\n",
       "    </tr>\n",
       "  </thead>\n",
       "  <tbody>\n",
       "    <tr>\n",
       "      <th>0</th>\n",
       "      <td>0.098925</td>\n",
       "      <td>0.134595</td>\n",
       "      <td>0.175228</td>\n",
       "      <td>0.164398</td>\n",
       "      <td>0.159223</td>\n",
       "      <td>0.152069</td>\n",
       "      <td>0.135447</td>\n",
       "      <td>0.115937</td>\n",
       "      <td>0.101819</td>\n",
       "      <td>0.094288</td>\n",
       "      <td>...</td>\n",
       "      <td>0.016081</td>\n",
       "      <td>0.014545</td>\n",
       "      <td>0.014170</td>\n",
       "      <td>0.013570</td>\n",
       "      <td>0.013607</td>\n",
       "      <td>0.012800</td>\n",
       "      <td>0.012372</td>\n",
       "      <td>0.011824</td>\n",
       "      <td>0.010691</td>\n",
       "      <td>0.056750</td>\n",
       "    </tr>\n",
       "    <tr>\n",
       "      <th>1</th>\n",
       "      <td>0.104989</td>\n",
       "      <td>0.136459</td>\n",
       "      <td>0.175462</td>\n",
       "      <td>0.164785</td>\n",
       "      <td>0.155246</td>\n",
       "      <td>0.149267</td>\n",
       "      <td>0.137756</td>\n",
       "      <td>0.124234</td>\n",
       "      <td>0.107569</td>\n",
       "      <td>0.098544</td>\n",
       "      <td>...</td>\n",
       "      <td>0.016616</td>\n",
       "      <td>0.014720</td>\n",
       "      <td>0.014603</td>\n",
       "      <td>0.013640</td>\n",
       "      <td>0.013933</td>\n",
       "      <td>0.012973</td>\n",
       "      <td>0.012353</td>\n",
       "      <td>0.011831</td>\n",
       "      <td>0.010708</td>\n",
       "      <td>0.056652</td>\n",
       "    </tr>\n",
       "    <tr>\n",
       "      <th>2</th>\n",
       "      <td>0.109113</td>\n",
       "      <td>0.140068</td>\n",
       "      <td>0.178301</td>\n",
       "      <td>0.162160</td>\n",
       "      <td>0.153089</td>\n",
       "      <td>0.148560</td>\n",
       "      <td>0.140170</td>\n",
       "      <td>0.128624</td>\n",
       "      <td>0.116938</td>\n",
       "      <td>0.104829</td>\n",
       "      <td>...</td>\n",
       "      <td>0.016384</td>\n",
       "      <td>0.014653</td>\n",
       "      <td>0.014569</td>\n",
       "      <td>0.013898</td>\n",
       "      <td>0.013745</td>\n",
       "      <td>0.013173</td>\n",
       "      <td>0.012284</td>\n",
       "      <td>0.011767</td>\n",
       "      <td>0.010588</td>\n",
       "      <td>0.056591</td>\n",
       "    </tr>\n",
       "    <tr>\n",
       "      <th>3</th>\n",
       "      <td>0.112355</td>\n",
       "      <td>0.144378</td>\n",
       "      <td>0.177980</td>\n",
       "      <td>1.174693</td>\n",
       "      <td>0.388566</td>\n",
       "      <td>0.633950</td>\n",
       "      <td>0.442196</td>\n",
       "      <td>0.465731</td>\n",
       "      <td>0.416911</td>\n",
       "      <td>0.398361</td>\n",
       "      <td>...</td>\n",
       "      <td>0.017339</td>\n",
       "      <td>0.014805</td>\n",
       "      <td>0.014832</td>\n",
       "      <td>0.013792</td>\n",
       "      <td>0.014027</td>\n",
       "      <td>0.013198</td>\n",
       "      <td>0.012333</td>\n",
       "      <td>0.011808</td>\n",
       "      <td>0.010676</td>\n",
       "      <td>0.056917</td>\n",
       "    </tr>\n",
       "    <tr>\n",
       "      <th>4</th>\n",
       "      <td>0.116339</td>\n",
       "      <td>0.145421</td>\n",
       "      <td>0.179636</td>\n",
       "      <td>0.415419</td>\n",
       "      <td>1.937041</td>\n",
       "      <td>0.526381</td>\n",
       "      <td>0.818317</td>\n",
       "      <td>0.745859</td>\n",
       "      <td>0.729147</td>\n",
       "      <td>0.715125</td>\n",
       "      <td>...</td>\n",
       "      <td>0.018097</td>\n",
       "      <td>0.015082</td>\n",
       "      <td>0.014821</td>\n",
       "      <td>0.013829</td>\n",
       "      <td>0.014056</td>\n",
       "      <td>0.013070</td>\n",
       "      <td>0.012233</td>\n",
       "      <td>0.011844</td>\n",
       "      <td>0.010753</td>\n",
       "      <td>0.056971</td>\n",
       "    </tr>\n",
       "    <tr>\n",
       "      <th>...</th>\n",
       "      <td>...</td>\n",
       "      <td>...</td>\n",
       "      <td>...</td>\n",
       "      <td>...</td>\n",
       "      <td>...</td>\n",
       "      <td>...</td>\n",
       "      <td>...</td>\n",
       "      <td>...</td>\n",
       "      <td>...</td>\n",
       "      <td>...</td>\n",
       "      <td>...</td>\n",
       "      <td>...</td>\n",
       "      <td>...</td>\n",
       "      <td>...</td>\n",
       "      <td>...</td>\n",
       "      <td>...</td>\n",
       "      <td>...</td>\n",
       "      <td>...</td>\n",
       "      <td>...</td>\n",
       "      <td>...</td>\n",
       "      <td>...</td>\n",
       "    </tr>\n",
       "    <tr>\n",
       "      <th>80</th>\n",
       "      <td>0.029902</td>\n",
       "      <td>0.038855</td>\n",
       "      <td>0.049422</td>\n",
       "      <td>0.045115</td>\n",
       "      <td>0.041789</td>\n",
       "      <td>0.042325</td>\n",
       "      <td>0.041182</td>\n",
       "      <td>0.041372</td>\n",
       "      <td>0.042086</td>\n",
       "      <td>0.043442</td>\n",
       "      <td>...</td>\n",
       "      <td>0.112893</td>\n",
       "      <td>0.121647</td>\n",
       "      <td>0.146544</td>\n",
       "      <td>0.152366</td>\n",
       "      <td>0.175209</td>\n",
       "      <td>0.184784</td>\n",
       "      <td>0.162792</td>\n",
       "      <td>0.147072</td>\n",
       "      <td>0.124365</td>\n",
       "      <td>0.326191</td>\n",
       "    </tr>\n",
       "    <tr>\n",
       "      <th>81</th>\n",
       "      <td>0.030613</td>\n",
       "      <td>0.039183</td>\n",
       "      <td>0.048810</td>\n",
       "      <td>0.044649</td>\n",
       "      <td>0.041427</td>\n",
       "      <td>0.042167</td>\n",
       "      <td>0.041258</td>\n",
       "      <td>0.040965</td>\n",
       "      <td>0.042154</td>\n",
       "      <td>0.043602</td>\n",
       "      <td>...</td>\n",
       "      <td>0.087801</td>\n",
       "      <td>0.095372</td>\n",
       "      <td>0.122209</td>\n",
       "      <td>0.135292</td>\n",
       "      <td>0.161210</td>\n",
       "      <td>0.172414</td>\n",
       "      <td>0.182540</td>\n",
       "      <td>0.165399</td>\n",
       "      <td>0.145658</td>\n",
       "      <td>0.383086</td>\n",
       "    </tr>\n",
       "    <tr>\n",
       "      <th>82</th>\n",
       "      <td>0.030594</td>\n",
       "      <td>0.039245</td>\n",
       "      <td>0.048895</td>\n",
       "      <td>0.044705</td>\n",
       "      <td>0.041943</td>\n",
       "      <td>0.041942</td>\n",
       "      <td>0.041206</td>\n",
       "      <td>0.041302</td>\n",
       "      <td>0.041436</td>\n",
       "      <td>0.043082</td>\n",
       "      <td>...</td>\n",
       "      <td>0.073993</td>\n",
       "      <td>0.080463</td>\n",
       "      <td>0.101068</td>\n",
       "      <td>0.115329</td>\n",
       "      <td>0.149522</td>\n",
       "      <td>0.162888</td>\n",
       "      <td>0.172963</td>\n",
       "      <td>0.178159</td>\n",
       "      <td>0.155772</td>\n",
       "      <td>0.464515</td>\n",
       "    </tr>\n",
       "    <tr>\n",
       "      <th>83</th>\n",
       "      <td>0.030264</td>\n",
       "      <td>0.038859</td>\n",
       "      <td>0.048132</td>\n",
       "      <td>0.044220</td>\n",
       "      <td>0.041658</td>\n",
       "      <td>0.041537</td>\n",
       "      <td>0.040519</td>\n",
       "      <td>0.041253</td>\n",
       "      <td>0.041106</td>\n",
       "      <td>0.042868</td>\n",
       "      <td>...</td>\n",
       "      <td>0.060787</td>\n",
       "      <td>0.071296</td>\n",
       "      <td>0.087361</td>\n",
       "      <td>0.103368</td>\n",
       "      <td>0.125520</td>\n",
       "      <td>0.150687</td>\n",
       "      <td>0.166638</td>\n",
       "      <td>0.170416</td>\n",
       "      <td>0.157315</td>\n",
       "      <td>0.530451</td>\n",
       "    </tr>\n",
       "    <tr>\n",
       "      <th>84+</th>\n",
       "      <td>0.030025</td>\n",
       "      <td>0.038426</td>\n",
       "      <td>0.048084</td>\n",
       "      <td>0.044062</td>\n",
       "      <td>0.041253</td>\n",
       "      <td>0.041474</td>\n",
       "      <td>0.040750</td>\n",
       "      <td>0.040538</td>\n",
       "      <td>0.040855</td>\n",
       "      <td>0.042553</td>\n",
       "      <td>...</td>\n",
       "      <td>0.038441</td>\n",
       "      <td>0.039628</td>\n",
       "      <td>0.045402</td>\n",
       "      <td>0.052251</td>\n",
       "      <td>0.064879</td>\n",
       "      <td>0.073872</td>\n",
       "      <td>0.081916</td>\n",
       "      <td>0.094984</td>\n",
       "      <td>0.099146</td>\n",
       "      <td>0.707335</td>\n",
       "    </tr>\n",
       "  </tbody>\n",
       "</table>\n",
       "<p>85 rows × 85 columns</p>\n",
       "</div>"
      ],
      "text/plain": [
       "            0         1         2         3         4         5         6  \\\n",
       "0    0.098925  0.134595  0.175228  0.164398  0.159223  0.152069  0.135447   \n",
       "1    0.104989  0.136459  0.175462  0.164785  0.155246  0.149267  0.137756   \n",
       "2    0.109113  0.140068  0.178301  0.162160  0.153089  0.148560  0.140170   \n",
       "3    0.112355  0.144378  0.177980  1.174693  0.388566  0.633950  0.442196   \n",
       "4    0.116339  0.145421  0.179636  0.415419  1.937041  0.526381  0.818317   \n",
       "..        ...       ...       ...       ...       ...       ...       ...   \n",
       "80   0.029902  0.038855  0.049422  0.045115  0.041789  0.042325  0.041182   \n",
       "81   0.030613  0.039183  0.048810  0.044649  0.041427  0.042167  0.041258   \n",
       "82   0.030594  0.039245  0.048895  0.044705  0.041943  0.041942  0.041206   \n",
       "83   0.030264  0.038859  0.048132  0.044220  0.041658  0.041537  0.040519   \n",
       "84+  0.030025  0.038426  0.048084  0.044062  0.041253  0.041474  0.040750   \n",
       "\n",
       "            7         8         9  ...        75        76        77  \\\n",
       "0    0.115937  0.101819  0.094288  ...  0.016081  0.014545  0.014170   \n",
       "1    0.124234  0.107569  0.098544  ...  0.016616  0.014720  0.014603   \n",
       "2    0.128624  0.116938  0.104829  ...  0.016384  0.014653  0.014569   \n",
       "3    0.465731  0.416911  0.398361  ...  0.017339  0.014805  0.014832   \n",
       "4    0.745859  0.729147  0.715125  ...  0.018097  0.015082  0.014821   \n",
       "..        ...       ...       ...  ...       ...       ...       ...   \n",
       "80   0.041372  0.042086  0.043442  ...  0.112893  0.121647  0.146544   \n",
       "81   0.040965  0.042154  0.043602  ...  0.087801  0.095372  0.122209   \n",
       "82   0.041302  0.041436  0.043082  ...  0.073993  0.080463  0.101068   \n",
       "83   0.041253  0.041106  0.042868  ...  0.060787  0.071296  0.087361   \n",
       "84+  0.040538  0.040855  0.042553  ...  0.038441  0.039628  0.045402   \n",
       "\n",
       "           78        79        80        81        82        83       84+  \n",
       "0    0.013570  0.013607  0.012800  0.012372  0.011824  0.010691  0.056750  \n",
       "1    0.013640  0.013933  0.012973  0.012353  0.011831  0.010708  0.056652  \n",
       "2    0.013898  0.013745  0.013173  0.012284  0.011767  0.010588  0.056591  \n",
       "3    0.013792  0.014027  0.013198  0.012333  0.011808  0.010676  0.056917  \n",
       "4    0.013829  0.014056  0.013070  0.012233  0.011844  0.010753  0.056971  \n",
       "..        ...       ...       ...       ...       ...       ...       ...  \n",
       "80   0.152366  0.175209  0.184784  0.162792  0.147072  0.124365  0.326191  \n",
       "81   0.135292  0.161210  0.172414  0.182540  0.165399  0.145658  0.383086  \n",
       "82   0.115329  0.149522  0.162888  0.172963  0.178159  0.155772  0.464515  \n",
       "83   0.103368  0.125520  0.150687  0.166638  0.170416  0.157315  0.530451  \n",
       "84+  0.052251  0.064879  0.073872  0.081916  0.094984  0.099146  0.707335  \n",
       "\n",
       "[85 rows x 85 columns]"
      ]
     },
     "execution_count": 85,
     "metadata": {},
     "output_type": "execute_result"
    }
   ],
   "source": [
    "contact"
   ]
  },
  {
   "cell_type": "markdown",
   "metadata": {},
   "source": [
    "## Process Data"
   ]
  },
  {
   "cell_type": "code",
   "execution_count": 86,
   "metadata": {},
   "outputs": [],
   "source": [
    "# standardize the data from various sources so that it is all interchangeable\n",
    "# recall that each dataset uses a different set of age groups\n",
    "# i make dictionaries that map the age groups to specific ages for each dataset\n",
    "\n",
    "# make a dictionary that links the age groups to ages\n",
    "\n",
    "age_groups_overall_covid_cases = {'0 - 9 Years' : list(range(0, 10)),\n",
    "                                  '10 - 19 Years' : list(range(10, 20)),\n",
    "                                  '20 - 29 Years' : list(range(20, 30)),\n",
    "                                  '30 - 39 Years' : list(range(30, 40)),\n",
    "                                  '40 - 49 Years' : list(range(40, 50)),\n",
    "                                  '50 - 59 Years' : list(range(50, 60)),\n",
    "                                  '60 - 69 Years' : list(range(60, 70)),\n",
    "                                  '70 - 79 Years' : list(range(70, 80)),\n",
    "                                  '80+ Years' : list(range(80, 111))}\n",
    "\n",
    "age_groups_overall_covid_deaths = {'65-74 years' : list(range(65, 75)),\n",
    "                                  '85 years and over' : list(range(85, 111)),\n",
    "                                  '55-64 years' : list(range(55, 65)),\n",
    "                                  '35-44 years' : list(range(35, 45)),\n",
    "                                  '75-84 years' : list(range(75, 85)),\n",
    "                                  '25-34 years' : list(range(25, 35)),\n",
    "                                  '15-24 years' : list(range(15, 25)),\n",
    "                                  '1-4 years' : list(range(1, 5)),\n",
    "                                  'Under 1 year' : list(range(0, 1)),\n",
    "                                  '5-14 years' : list(range(5, 15)),\n",
    "                                  '45-54 years' : list(range(45, 55))}\n",
    "\n",
    "\n",
    "age_groups_comorbidities_covid_deaths = {'65-74' : list(range(65, 75)),\n",
    "                                  '85+' : list(range(85, 111)),\n",
    "                                  '55-64' : list(range(55, 65)),\n",
    "                                  '35-44' : list(range(35, 45)),\n",
    "                                  '75-84' : list(range(75, 85)),\n",
    "                                  '25-34' : list(range(25, 35)),\n",
    "                                  '0-24' : list(range(0, 25)),\n",
    "                                  '45-54' : list(range(45, 55))}\n",
    "\n",
    "age_groups_comorbidities = {'1 to 4' : list(range(0, 5)),\n",
    "                            '5 to 9' : list(range(5, 10)),\n",
    "                            '10 to 14' : list(range(10, 15)),\n",
    "                            '15 to 19' : list(range(15, 20)),\n",
    "                            '20 to 24' : list(range(20, 25)),\n",
    "                            '25 to 29' : list(range(25, 30)),\n",
    "                            '30 to 34' : list(range(30, 35)),\n",
    "                            '35 to 39' : list(range(35, 40)),\n",
    "                            '40 to 44' : list(range(40, 45)),\n",
    "                            '45 to 49' : list(range(45, 50)),\n",
    "                            '50 to 54' : list(range(50, 55)),\n",
    "                            '55 to 59' : list(range(55, 60)),\n",
    "                            '60 to 64' : list(range(60, 65)),\n",
    "                            '65 to 69' : list(range(65, 70)),\n",
    "                            '70 to 74' : list(range(70, 75)),\n",
    "                            '75 to 79' : list(range(75, 80)),\n",
    "                            '80 to 84' : list(range(80, 85)),\n",
    "                            '85 to 89' : list(range(85, 90)),\n",
    "                            '90 to 94' : list(range(90, 95)),\n",
    "                            '95 plus' : list(range(95, 111))}"
   ]
  },
  {
   "cell_type": "code",
   "execution_count": 87,
   "metadata": {},
   "outputs": [],
   "source": [
    "# Finally, make an comorbidities dictionary that maps the comorbidities in the covid deaths data to the\n",
    "# comorbdities for which we have prevalence\n",
    "\n",
    "### TO BE IMPROVED ONCE WE HAVE MORE DETAILED COMORBIDITIES DATA\n",
    "\n",
    "comorbidities_aggregate = {'Chronic respiratory diseases' : ['Chronic lower respiratory diseases',\n",
    "                                                           'Adult respiratory distress syndrome',\n",
    "                                                           'Respiratory arrest',\n",
    "                                                           'Other diseases of the respiratory system'],\n",
    "                          'Cardiovascular diseases' : ['Hypertensive diseases',\n",
    "                                                     'Ischemic heart disease',\n",
    "                                                     'Cardiac arrhythmia',\n",
    "                                                     'Cerebrovascular diseases',\n",
    "                                                     'Other diseases of the circulatory system'],\n",
    "                          'Respiratory infections and tuberculosis' : ['Sepsis'],\n",
    "                          'Diabetes and kidney diseases' : ['Diabetes', 'Renal failure'],\n",
    "                          'Neoplasms' : ['Malignant neoplasms'],\n",
    "                           'Obesity' : ['Obesity'],\n",
    "                           \"Alzheimer's disease and other dementias\" : ['Alzheimer disease',\n",
    "                                                                        'Vascular and unspecified dementia'],\n",
    "                           'Other conditions' : ['All other conditions and causes (residual)',\n",
    "                                 'Influenza and pneumonia',\n",
    "                                 'Respiratory failure',\n",
    "                                 'Respiratory arrest',\n",
    "                                 'Cardiac arrest',\n",
    "                                 'Heart failure'],\n",
    "                          None : ['COVID-19',\n",
    "                                  'Intentional and unintentional injury, poisoning and other adverse events']}"
   ]
  },
  {
   "cell_type": "code",
   "execution_count": 88,
   "metadata": {},
   "outputs": [],
   "source": [
    "athletes_country = pd.read_csv(os.path.join(data_dir, 'winter-olympics-delegation-distribution.csv'))"
   ]
  },
  {
   "cell_type": "markdown",
   "metadata": {},
   "source": [
    "## Set Population Profile and COVID Testing Scenario"
   ]
  },
  {
   "cell_type": "code",
   "execution_count": 89,
   "metadata": {},
   "outputs": [],
   "source": [
    "# set age and gender from IOC\n",
    "age_gender_profile = pd.read_csv(os.path.join(data_dir, 'USCensus.csv')) # as template"
   ]
  },
  {
   "cell_type": "code",
   "execution_count": 90,
   "metadata": {},
   "outputs": [],
   "source": [
    "age_gender_profile = age_gender_profile[1:]"
   ]
  },
  {
   "cell_type": "code",
   "execution_count": 91,
   "metadata": {},
   "outputs": [],
   "source": [
    "age_gender_profile = age_gender_profile.iloc[18:40]"
   ]
  },
  {
   "cell_type": "code",
   "execution_count": 92,
   "metadata": {},
   "outputs": [
    {
     "data": {
      "text/html": [
       "<div>\n",
       "<style scoped>\n",
       "    .dataframe tbody tr th:only-of-type {\n",
       "        vertical-align: middle;\n",
       "    }\n",
       "\n",
       "    .dataframe tbody tr th {\n",
       "        vertical-align: top;\n",
       "    }\n",
       "\n",
       "    .dataframe thead th {\n",
       "        text-align: right;\n",
       "    }\n",
       "</style>\n",
       "<table border=\"1\" class=\"dataframe\">\n",
       "  <thead>\n",
       "    <tr style=\"text-align: right;\">\n",
       "      <th></th>\n",
       "      <th>Male</th>\n",
       "      <th>Female</th>\n",
       "    </tr>\n",
       "  </thead>\n",
       "  <tbody>\n",
       "    <tr>\n",
       "      <th>19</th>\n",
       "      <td>2,214,784</td>\n",
       "      <td>2,115,655</td>\n",
       "    </tr>\n",
       "    <tr>\n",
       "      <th>20</th>\n",
       "      <td>2,183,139</td>\n",
       "      <td>2,086,544</td>\n",
       "    </tr>\n",
       "    <tr>\n",
       "      <th>21</th>\n",
       "      <td>2,187,086</td>\n",
       "      <td>2,091,237</td>\n",
       "    </tr>\n",
       "    <tr>\n",
       "      <th>22</th>\n",
       "      <td>2,195,296</td>\n",
       "      <td>2,103,476</td>\n",
       "    </tr>\n",
       "    <tr>\n",
       "      <th>23</th>\n",
       "      <td>2,221,758</td>\n",
       "      <td>2,119,886</td>\n",
       "    </tr>\n",
       "    <tr>\n",
       "      <th>24</th>\n",
       "      <td>2,277,473</td>\n",
       "      <td>2,167,045</td>\n",
       "    </tr>\n",
       "    <tr>\n",
       "      <th>25</th>\n",
       "      <td>2,325,853</td>\n",
       "      <td>2,213,205</td>\n",
       "    </tr>\n",
       "    <tr>\n",
       "      <th>26</th>\n",
       "      <td>2,365,886</td>\n",
       "      <td>2,245,334</td>\n",
       "    </tr>\n",
       "    <tr>\n",
       "      <th>27</th>\n",
       "      <td>2,421,270</td>\n",
       "      <td>2,312,599</td>\n",
       "    </tr>\n",
       "    <tr>\n",
       "      <th>28</th>\n",
       "      <td>2,451,756</td>\n",
       "      <td>2,366,969</td>\n",
       "    </tr>\n",
       "    <tr>\n",
       "      <th>29</th>\n",
       "      <td>2,439,805</td>\n",
       "      <td>2,366,339</td>\n",
       "    </tr>\n",
       "    <tr>\n",
       "      <th>30</th>\n",
       "      <td>2,340,865</td>\n",
       "      <td>2,273,519</td>\n",
       "    </tr>\n",
       "    <tr>\n",
       "      <th>31</th>\n",
       "      <td>2,281,327</td>\n",
       "      <td>2,220,984</td>\n",
       "    </tr>\n",
       "    <tr>\n",
       "      <th>32</th>\n",
       "      <td>2,239,886</td>\n",
       "      <td>2,181,619</td>\n",
       "    </tr>\n",
       "    <tr>\n",
       "      <th>33</th>\n",
       "      <td>2,243,280</td>\n",
       "      <td>2,189,693</td>\n",
       "    </tr>\n",
       "    <tr>\n",
       "      <th>34</th>\n",
       "      <td>2,249,252</td>\n",
       "      <td>2,210,880</td>\n",
       "    </tr>\n",
       "    <tr>\n",
       "      <th>35</th>\n",
       "      <td>2,167,622</td>\n",
       "      <td>2,148,244</td>\n",
       "    </tr>\n",
       "    <tr>\n",
       "      <th>36</th>\n",
       "      <td>2,191,368</td>\n",
       "      <td>2,181,076</td>\n",
       "    </tr>\n",
       "    <tr>\n",
       "      <th>37</th>\n",
       "      <td>2,181,162</td>\n",
       "      <td>2,180,124</td>\n",
       "    </tr>\n",
       "    <tr>\n",
       "      <th>38</th>\n",
       "      <td>2,149,359</td>\n",
       "      <td>2,156,217</td>\n",
       "    </tr>\n",
       "    <tr>\n",
       "      <th>39</th>\n",
       "      <td>2,195,430</td>\n",
       "      <td>2,186,919</td>\n",
       "    </tr>\n",
       "    <tr>\n",
       "      <th>40</th>\n",
       "      <td>2,046,663</td>\n",
       "      <td>2,058,650</td>\n",
       "    </tr>\n",
       "  </tbody>\n",
       "</table>\n",
       "</div>"
      ],
      "text/plain": [
       "         Male     Female\n",
       "19  2,214,784  2,115,655\n",
       "20  2,183,139  2,086,544\n",
       "21  2,187,086  2,091,237\n",
       "22  2,195,296  2,103,476\n",
       "23  2,221,758  2,119,886\n",
       "24  2,277,473  2,167,045\n",
       "25  2,325,853  2,213,205\n",
       "26  2,365,886  2,245,334\n",
       "27  2,421,270  2,312,599\n",
       "28  2,451,756  2,366,969\n",
       "29  2,439,805  2,366,339\n",
       "30  2,340,865  2,273,519\n",
       "31  2,281,327  2,220,984\n",
       "32  2,239,886  2,181,619\n",
       "33  2,243,280  2,189,693\n",
       "34  2,249,252  2,210,880\n",
       "35  2,167,622  2,148,244\n",
       "36  2,191,368  2,181,076\n",
       "37  2,181,162  2,180,124\n",
       "38  2,149,359  2,156,217\n",
       "39  2,195,430  2,186,919\n",
       "40  2,046,663  2,058,650"
      ]
     },
     "execution_count": 92,
     "metadata": {},
     "output_type": "execute_result"
    }
   ],
   "source": [
    "age_gender_profile"
   ]
  },
  {
   "cell_type": "code",
   "execution_count": 93,
   "metadata": {},
   "outputs": [],
   "source": [
    "age_gender_profile.iloc[:, :] = 1"
   ]
  },
  {
   "cell_type": "code",
   "execution_count": 94,
   "metadata": {},
   "outputs": [],
   "source": [
    "class cost(object):    \n",
    "    def __init__(self):\n",
    "        self.running_total = 0.0\n",
    "        self.false_positive = 0\n",
    "        self.false_negative = 0\n",
    "        self.improperly_quarantined_athletes = list()\n",
    "        self.true_positives = 0\n",
    "        \n",
    "    # https://www.wsj.com/articles/covid-19-tests-answers-on-cost-accuracy-and-turnaround-time-11599134378\n",
    "    def rt_pcr(self):\n",
    "        self.running_total += 120.0\n",
    "        \n",
    "    def antigen(self):\n",
    "        self.running_total += 5.0 # also kinda an estimate\n",
    "        \n",
    "    def quarantine(self):\n",
    "        self.running_total += 0.0\n",
    "        \n",
    "    def antibody(self):\n",
    "        self.running_total += 5.0 # really an estimate\n",
    "        \n",
    "    def icu(self):\n",
    "        self.running_total += 0.0\n",
    "        \n",
    "    def hospital(self):\n",
    "        self.running_total += 0.0\n",
    "        \n",
    "    def death(self):\n",
    "        self.running_total += 0.0\n",
    "        \n",
    "    def improper_quarantine(self, agent):\n",
    "        self.false_positive += 1\n",
    "        self.improperly_quarantined_athletes.append(agent.unique_id)\n",
    "    \n",
    "    def improper_release(self):\n",
    "        self.false_negative += 1\n",
    "    \n",
    "    def true_positive(self):\n",
    "        self.true_positives += 1"
   ]
  },
  {
   "cell_type": "code",
   "execution_count": 95,
   "metadata": {},
   "outputs": [],
   "source": [
    "class mitigation():\n",
    "    \"\"\"Various testing/quarantining/etc scenarios\"\"\"\n",
    "    def __init__(self, testing_effectiveness, groups, period):\n",
    "        self.groups = groups\n",
    "        self.period = period\n",
    "        self.testing_effectiveness = testing_effectiveness\n",
    "        self.chunks = list(range(self.groups))\n",
    "        self.testing = False\n",
    "        self.current_chunk = self.chunks[0]\n",
    "        self.cost = cost()\n",
    "        \n",
    "    # baseline scenario - no safety measures at all\n",
    "    # trump strategy\n",
    "    def baseline(self, agent, i):\n",
    "        return None\n",
    "    \n",
    "    # randomly test people - small college strategy\n",
    "    def rt_pcr_random(self, agent, N):\n",
    "        # the people get tested once a cycle with each group getting tested\n",
    "        if (N % self.period == 0 and agent.unique_id % self.groups == self.current_chunk): # and np.random.uniform(0, 1) < 0.25: # test this group of agents\n",
    "            self.cost.rt_pcr()\n",
    "            if agent.infection_course != None and np.random.uniform(low = 0.0,\n",
    "                                                            high = 1.0,\n",
    "                                                            size = 1)[0] <= self.testing_effectiveness.loc['rt-pcr',\n",
    "                                                                                                          'sensitivity']:\n",
    "                current_viral_load = agent.infection_course['viral_load'][int(agent.infection_course['days_since_exposure'])]\n",
    "                \n",
    "                # minimum level of detectability is about 0.91 log10 copies per mL from this paper:\n",
    "                # https://www.ncbi.nlm.nih.gov/pmc/articles/PMC7235577/pdf/main.pdf\n",
    "                \n",
    "                if current_viral_load > 0.91:\n",
    "                    return True\n",
    "            if agent.state != 'dead' and np.random.uniform(low = 0.0,\n",
    "                                                             high = 1.0,\n",
    "                                                             size = 1)[0] >= self.testing_effectiveness.loc['rt-pcr',\n",
    "                                                                                                          'specificity']:\n",
    "                return True\n",
    "            else:\n",
    "                return False\n",
    "                    \n",
    "            self.testing = True\n",
    "            \n",
    "        elif self.testing:\n",
    "            self.testing = False\n",
    "            self.current_chunk = self.chunks[(self.chunks.index(self.current_chunk) + 1) % len(self.chunks)]\n",
    "        \n",
    "    # test those who are symptomatic only\n",
    "    def rt_pcr_symptom_expressing(self, agent, N):\n",
    "        if agent.state == 'infected-s' or agent.state == 'hospitalized':\n",
    "            self.cost.rt_pcr()\n",
    "            \n",
    "            current_viral_load = agent.infection_course['viral_load'][int(agent.infection_course['days_since_exposure'])]\n",
    "            \n",
    "            if current_viral_load > 0.91 and np.random.uniform(low = 0.0, high = 1.0,\n",
    "                                             size = 1)[0] <= self.testing_effectiveness.loc['rt-pcr',\n",
    "                                                                                                  'sensitivity']:\n",
    "                return True\n",
    "            if current_viral_load <= 0.91 and np.random.uniform(low = 0.0,\n",
    "                                                                high = 1.0,\n",
    "                                                                size = 1)[0] >= self.testing_effectiveness.loc['rt-pcr',\n",
    "                                                                                                  'specificity']:\n",
    "                return True\n",
    "            else:\n",
    "                return False\n",
    "            \n",
    "    def rt_pcr(self, agent):\n",
    "        self.cost.rt_pcr()\n",
    "        if agent.infection_course != None and np.random.uniform(low = 0.0,\n",
    "                                                            high = 1.0,\n",
    "                                                            size = 1)[0] <= self.testing_effectiveness.loc['rt-pcr',\n",
    "                                                                                                          'sensitivity']:\n",
    "            current_viral_load = agent.infection_course['viral_load'][int(agent.infection_course['days_since_exposure'])]\n",
    "                \n",
    "            # minimum level of detectability is about 0.91 log10 copies per mL from this paper:\n",
    "            # https://www.ncbi.nlm.nih.gov/pmc/articles/PMC7235577/pdf/main.pdf\n",
    "                \n",
    "            if current_viral_load > 0.91:\n",
    "                return True\n",
    "        if agent.state != 'dead' and np.random.uniform(low = 0.0,\n",
    "                                                             high = 1.0,\n",
    "                                                             size = 1)[0] >= self.testing_effectiveness.loc['rt-pcr',\n",
    "                                                                                                          'specificity']:\n",
    "            return True\n",
    "        else:\n",
    "            return False\n",
    "            \n",
    "    def antigen_random(self, agent, N):\n",
    "        # the people get tested once a cycle with each group getting tested\n",
    "        if (N % self.period == 0 and agent.unique_id % self.groups == self.current_chunk): # test this group of agents\n",
    "            self.cost.antigen()\n",
    "            if agent.infection_course != None:\n",
    "                \n",
    "                sensitivities = self.testing_effectiveness.loc['antigen', 'sensitivity']\n",
    "                \n",
    "                randn = np.random.uniform(low = 0.0, high = 1.0)\n",
    "                \n",
    "                current_viral_load = agent.infection_course['viral_load'][int(agent.infection_course['days_since_exposure'])]\n",
    "                \n",
    "                if current_viral_load > np.log10(1600) and randn < sensitivities[0]:\n",
    "                    self.cost.true_positive()\n",
    "                    return True\n",
    "                elif current_viral_load > np.log10(400) and randn < sensitivities[1]:\n",
    "                    self.cost.true_positive()\n",
    "                    return True\n",
    "                elif current_viral_load > np.log10(100) and randn < sensitivities[2]:\n",
    "                    self.cost.true_positive()\n",
    "                    return True\n",
    "                elif current_viral_load <= np.log10(100) and randn < sensitivities[3]:\n",
    "                    self.cost.true_positive()\n",
    "                    return True\n",
    "                \n",
    "#                 if current_viral_load < 3 and randn < sensitivities[0]:\n",
    "#                     self.cost.true_positive()\n",
    "#                     return True\n",
    "#                 elif current_viral_load < 4 and randn < sensitivities[1]:\n",
    "#                     self.cost.true_positive()\n",
    "#                     return True\n",
    "#                 elif current_viral_load < 5 and randn < sensitivities[2]:\n",
    "#                     self.cost.true_positive()\n",
    "#                     return True\n",
    "#                 elif current_viral_load < 6 and randn < sensitivities[3]:\n",
    "#                     self.cost.true_positive()\n",
    "#                     return True\n",
    "#                 elif current_viral_load > 7 and randn < sensitivities[4]:\n",
    "#                     self.cost.true_positive()\n",
    "#                     return True\n",
    "                \n",
    "                else:\n",
    "                    self.cost.improper_release()\n",
    "            if agent.state != 'dead' and np.random.uniform(low = 0.0,\n",
    "                                                             high = 1.0,\n",
    "                                                             size = 1)[0] >= self.testing_effectiveness.loc['antigen',\n",
    "                                                                                                          'specificity']:\n",
    "                self.cost.improper_quarantine(agent)\n",
    "                return True\n",
    "            else:\n",
    "                return False\n",
    "                    \n",
    "            self.testing = True\n",
    "            \n",
    "        elif self.testing:\n",
    "            self.testing = False\n",
    "            self.current_chunk = self.chunks[(self.chunks.index(self.current_chunk) + 1) % len(self.chunks)]\n",
    "                \n",
    "    # test those who are symptomatic only\n",
    "    def antigen_symptom_expressing(self, agent, N):\n",
    "        if agent.state == 'infected-s' or agent.state == 'hospitalized':\n",
    "            self.cost.antigen()\n",
    "            \n",
    "            sensitivities = self.testing_effectiveness.loc['antigen', 'sensitivity']\n",
    "                \n",
    "            randn = np.random.uniform(low = 0.0, high = 1.0)\n",
    "                \n",
    "            current_viral_load = agent.infection_course['viral_load'][int(agent.infection_course['days_since_exposure'])]\n",
    "                \n",
    "            if current_viral_load < 3 and randn < sensitivities[0]:\n",
    "                self.cost.true_positive()\n",
    "                return True\n",
    "            elif current_viral_load < 4 and randn < sensitivities[1]:\n",
    "                self.cost.true_positive()\n",
    "                return True\n",
    "            elif current_viral_load < 5 and randn < sensitivities[2]:\n",
    "                self.cost.true_positive()\n",
    "                return True\n",
    "            elif current_viral_load < 6 and randn < sensitivities[3]:\n",
    "                self.cost.true_positive()\n",
    "                return True\n",
    "            elif current_viral_load > 7 and randn < sensitivities[4]:\n",
    "                self.cost.true_positive()\n",
    "                return True\n",
    "        if agent.state != 'dead' and np.random.uniform(low = 0.0,\n",
    "                                                             high = 1.0,\n",
    "                                                             size = 1)[0] >= self.testing_effectiveness.loc['antigen',\n",
    "                                                                                                          'specificity']:\n",
    "            return True\n",
    "        else:\n",
    "            return False\n",
    "                \n",
    "    def antibody(self, agent):\n",
    "        self.cost.antibody()\n",
    "        if agent.state == 'recovered':\n",
    "            if np.random.uniform(low = 0.0, high = 1.0, size = 1)[0] >= self.testing_effectiveness.loc['antibody',\n",
    "                                                                                                  'sensitivity']:\n",
    "                return False\n",
    "            else:\n",
    "                return True\n",
    "        elif np.random.uniform(low = 0.0, high = 1.0) <= self.testing_effectiveness.loc['antibody',\n",
    "                                                                                        'specificity']:\n",
    "            return False\n",
    "        else:\n",
    "            return True"
   ]
  },
  {
   "cell_type": "code",
   "execution_count": 96,
   "metadata": {},
   "outputs": [],
   "source": [
    "class scenario_details():\n",
    "    \"\"\"Holds the details required to specify the COVID transmission scenario explored\"\"\"\n",
    "    \n",
    "    def __init__(self,\n",
    "                 comorbidities_distribution, prop_healthy, # population characteristics\n",
    "                 spreader_prop,\n",
    "                 cases_age_gender, risk_death_distribution, transmission_probability, # disease characteristics\n",
    "                 mitigation_strategy, # testing scenario\n",
    "                 external_connectivity, steps_per_day): # model parameters\n",
    "        \n",
    "        # define all the variables in this class as properties for easy access\n",
    "        self.comorbidities_distribution = comorbidities_distribution # prob of each comorbidity by age,sex\n",
    "        self.prop_healthy = prop_healthy\n",
    "        self.spreader_prop = spreader_prop\n",
    "        self.cases_age_gender = cases_age_gender # cases by age and gender\n",
    "        self.risk_death_distribution = risk_death_distribution # risk of death for each age, sex, and comorbidity\n",
    "        self.mitigation_strategy = mitigation_strategy # the testing scenario implemented in the current scenario\n",
    "        self.external_connectivity = external_connectivity # prob that agents may get covid externally\n",
    "        self.steps_per_day = steps_per_day # the chunks into which time is discretized\n",
    "        \n",
    "        # risk of death distribution is a tuple so break it up into its parts\n",
    "        self.deaths_ag = risk_death_distribution[0]\n",
    "        self.deaths_co = risk_death_distribution[1]\n",
    "        \n",
    "    # draw a random age from the age distribution\n",
    "    def rnd_age(self):\n",
    "        return np.random.choice(age_gender_profile.index,\n",
    "                                p = age_gender_profile.sum(axis = 1) / age_gender_profile.sum(axis = 1).sum(axis = 0))\n",
    "    \n",
    "    # draw a random gender from the gender distribution\n",
    "    def rnd_gender(self, age):\n",
    "        gender_distribution = age_gender_profile.loc[age, :]\n",
    "        if np.random.choice([0, 1], p = gender_distribution / gender_distribution.sum()) == 0:\n",
    "            return 'Male'\n",
    "        else:\n",
    "            return 'Female'\n",
    "    \n",
    "    # based on age and gender, give the agent comorbidities\n",
    "    def rnd_comorbidities(self, age, gender):\n",
    "        # get risk of comorbidities based on age, gender\n",
    "        # go from age number to an age range name in the comorbidities data\n",
    "        age_range_name = [k for k, v in age_groups_comorbidities.items() if int(age) in v][0]\n",
    "        \n",
    "        # first let's give the people that are normal no comorbidities\n",
    "        # data from Prevalence of Optimal Metabolic Health in American Adults:\n",
    "        # National Health and Nutrition Examination Survey 2009–2016\n",
    "        randn = np.random.uniform(low = 0.0, high = 1.0, size = 1)[0]\n",
    "        if age in range(40): # assume that people from age 0 to 20 have some metabolic health as age in 20-39\n",
    "            if randn < 0.26 + self.prop_healthy[0]:\n",
    "                return [None]\n",
    "        elif age in range(40, 60):\n",
    "            if randn < 0.105 + self.prop_healthy[1]:\n",
    "                return [None]\n",
    "        elif randn < 0.028 + self.prop_healthy[2]:\n",
    "            return [None]\n",
    "        \n",
    "        # now let us allocate comorbidities to the remaining people - and treat them independently\n",
    "        \n",
    "        # take a subset of the comorbdity data for only this agent's gender and age\n",
    "        tt1 = np.logical_and(self.comorbidities_distribution.sex == gender,\n",
    "                             self.comorbidities_distribution.age == age_range_name)\n",
    "        temp = self.comorbidities_distribution.loc[tt1, :].reset_index(drop = True)\n",
    "        \n",
    "        comorbidities_agent = []\n",
    "        \n",
    "        for comorbidity in temp.cause:\n",
    "            randn = np.random.uniform(low = 0.0, high = 1.0, size = 1)[0]\n",
    "            if randn < temp.loc[temp.cause == comorbidity, 'val'].values[0]:\n",
    "                comorbidities_agent.append(comorbidity)\n",
    "                \n",
    "        return comorbidities_agent if len(comorbidities_agent) != 0 else [np.random.choice(list(comorbidities_aggregate.keys()))]\n",
    "        \n",
    "    # based on age, gender, and comorbidities, determine the probability of death\n",
    "    def risk_death(self, age, gender, comorbidities):\n",
    "        # find overall chance of death given age and gender\n",
    "        age_range_ = [k for k, v in age_groups_overall_covid_deaths.items() if int(age) in v][0]\n",
    "        \n",
    "        # subset just the part of the data that we are interested in \n",
    "        tt1 = np.logical_and(self.deaths_ag.sex == gender,\n",
    "                             self.deaths_ag.age_group == age_range_)\n",
    "        \n",
    "        deaths_o = self.deaths_ag.loc[tt1, 'covid_19_deaths'].astype(int).values[0]\n",
    "        \n",
    "        # to convert to a probability, divide deaths by number of cases\n",
    "        age_range_name_cases = [k for k, v in age_groups_overall_covid_cases.items() if int(age) in v][0]\n",
    "        p_death_o = deaths_o / self.cases_age_gender[gender][age_range_name_cases]\n",
    "        \n",
    "        # however, this gives us the death for people of this age and gender - need to add in comorbidities\n",
    "        # i don't have cases by comorbidities, so find how much specific comorbidities increase the probability\n",
    "        # of death compared to other comorbidities\n",
    "        \n",
    "        age_range_name = [k for k, v in age_groups_comorbidities_covid_deaths.items() if int(age) in v][0]\n",
    "        \n",
    "        conditions = list(map(comorbidities_aggregate.get, comorbidities))\n",
    "        \n",
    "        tt1 = np.logical_and(self.deaths_co.condition.isin([condition[0] for condition in conditions]),\n",
    "                             self.deaths_co.age_group == age_range_name)\n",
    "        \n",
    "        deaths_c = self.deaths_co.loc[tt1, 'number_covid19_deaths'].astype(int).values[0]\n",
    "        \n",
    "        deaths_all_c = self.deaths_co.loc[self.deaths_co.age_group == age_range_name,\n",
    "                                                      'number_covid19_deaths'].astype(int).sum()\n",
    "        \n",
    "        risk_increase = deaths_c * len(self.deaths_co.condition.unique()) / deaths_all_c\n",
    "        \n",
    "        return p_death_o * risk_increase\n",
    "    \n",
    "    def spreader(self):\n",
    "        if np.random.uniform(low = 0.0, high = 1.0) < self.spreader_prop:\n",
    "            return True\n",
    "        else:\n",
    "            return False\n",
    "    \n",
    "    # create the course of the infection for the agent and store everything in a dictionary\n",
    "    def infection_course(self, age, gender, comorbidities):\n",
    "        # the infection course: incubation --> infectious-asy --? infectious-s --> R or D\n",
    "        \n",
    "        # first figure out for how long this agent will be in incubation\n",
    "        # data from Incubation period of COVID-19: a rapid systematic review and meta-analysis of observational research\n",
    "        # probability of symptom development is a lognormal with mu = 1.63 and sigma = 0.50\n",
    "        incubation_days = round(stats.lognorm.rvs(s = 0.5, loc = 0, scale = np.exp(1.63), size = 1)[0])\n",
    "        death = False\n",
    "        # will this agent die?\n",
    "        if np.random.uniform(low = 0.0, high = 1.0, size = 1)[0] <= self.risk_death(age,\n",
    "                                                                                   gender,\n",
    "                                                                                   comorbidities):\n",
    "            death = True\n",
    "            # now determine the duration of infection for this agent\n",
    "            # for an agent that dies, assume that they go to the hospital first\n",
    "            # at that point, they are no longer infectious\n",
    "            # however, they may spend some time in the hospital before transitioning to dead\n",
    "            \n",
    "            # set a variable 'duration' for how long the individual is infectious - days until hospitalized\n",
    "            # also set 'hospitalized_time' for how many days later the agent dies -- assume death in the hospital\n",
    "            # https://www.cdc.gov/coronavirus/2019-ncov/hcp/planning-scenarios.html\n",
    "            if age <= 49:\n",
    "                duration = stats.nbinom.rvs(loc = 0,\n",
    "                                        n = float(duration_nbinom_parameters.loc['critical_duration<=49',\n",
    "                                                                                             :][0].split(' ')[0][1:]),\n",
    "                                           p = float(duration_nbinom_parameters.loc['critical_duration<=49',\n",
    "                                                                                    :][0].split(' ')[1][:-1]))\n",
    "                hospitalized_time = stats.nbinom.rvs(loc = 0,\n",
    "                                        n = float(duration_nbinom_parameters.loc['death_hospital<=49',\n",
    "                                                                                             :][0].split(' ')[0][1:]),\n",
    "                                           p = float(duration_nbinom_parameters.loc['death_hospital<=49',\n",
    "                                                                                    :][0].split(' ')[1][:-1])) - duration\n",
    "                \n",
    "            elif age <= 64:\n",
    "                duration = stats.nbinom.rvs(loc = 0,\n",
    "                                        n = float(duration_nbinom_parameters.loc['critical_duration<=64',\n",
    "                                                                                             :][0].split(' ')[0][1:]),\n",
    "                                           p = float(duration_nbinom_parameters.loc['critical_duration<=64',\n",
    "                                                                                    :][0].split(' ')[1][:-1]))\n",
    "                hospitalized_time = stats.nbinom.rvs(loc = 0,\n",
    "                                        n = float(duration_nbinom_parameters.loc['death_hospital<=64',\n",
    "                                                                                             :][0].split(' ')[0][1:]),\n",
    "                                           p = float(duration_nbinom_parameters.loc['death_hospital<=64',\n",
    "                                                                                    :][0].split(' ')[1][:-1])) - duration\n",
    "                \n",
    "            else:\n",
    "                duration = stats.nbinom.rvs(loc = 0,\n",
    "                                        n = float(duration_nbinom_parameters.loc['critical_duration>64',\n",
    "                                                                                             :][0].split('   ')[0][1:]),\n",
    "                                           p = float(duration_nbinom_parameters.loc['critical_duration>64',\n",
    "                                                                                    :][0].split('   ')[1][:-1]))\n",
    "                hospitalized_time = stats.nbinom.rvs(loc = 0,\n",
    "                                        n = float(duration_nbinom_parameters.loc['death_hospital>64',\n",
    "                                                                                             :][0].split(' ')[0][1:]),\n",
    "                                           p = float(duration_nbinom_parameters.loc['death_hospital>64',\n",
    "                                                                                    :][0].split(' ')[1][:-1])) - duration\n",
    "                \n",
    "            hospitalized_time = hospitalized_time * (hospitalized_time > 0)\n",
    "            duration = int(duration)\n",
    "            hospitalized_time = int(hospitalized_time)\n",
    "            \n",
    "        else: # the agent can be asymptomatic wholly, symptomatic, and/or hospitalized with recovery\n",
    "            \n",
    "            # duration for this type of infection is relatively straightforward\n",
    "            duration = stats.nbinom.rvs(loc = 0,\n",
    "                                        n = float(duration_nbinom_parameters.loc['duration_overall',\n",
    "                                                                                             :][0].split(' ')[0][1:]),\n",
    "                                           p = float(duration_nbinom_parameters.loc['duration_overall',\n",
    "                                                                                    :][0].split(' ')[1][:-1]))\n",
    "            \n",
    "            # determine whether agent if wholly asymptomatic\n",
    "            \n",
    "            # P(A) = 0.4 according to CDC website\n",
    "            # want P(A | ~D) = P(~D | A) * P(A) / P(~D) = P(A) / P(~D)\n",
    "            prob_asymptomatic = (.4 / (1 - self.risk_death(age, gender, comorbidities)))\n",
    "            if np.random.uniform(low = 0.0, high = 1.0, size = 1)[0] < prob_asymptomatic:\n",
    "                asymptomatic = True\n",
    "            \n",
    "            else:\n",
    "                # this agent is symptomatic so is either midly symptomatic or severly symptomatic (hospitalized)\n",
    "            \n",
    "                # P(H | ~A) = P(~A | H) * P(H) / P(~A) = P(H) / P(~A)\n",
    "                randn1 = np.random.uniform(low = 0.0, high = 1.0, size = 1)[0]\n",
    "                randn2 = np.random.uniform(low = 0.0, high = 1.0, size = 1)[0]\n",
    "                \n",
    "                if age <= 49:\n",
    "                    # P(H) = P(D) / .024 which is value from CDC for proportion of cases hospitalized that die\n",
    "                    # P(~A) = 1 - P(A)\n",
    "                    p_H = covid_deaths_age_gender.sort_values(by = 'age_group').covid_19_deaths.iloc[0:7].sum()\n",
    "                    p_H += .5 * covid_deaths_age_gender.sort_values(by = 'age_group').covid_19_deaths.iloc[8:10].sum()\n",
    "                    p_H += covid_deaths_age_gender.sort_values(by = 'age_group').covid_19_deaths.iloc[10:12].sum()\n",
    "                    p_H += covid_deaths_age_gender.sort_values(by = 'age_group').covid_19_deaths.iloc[20:].sum()\n",
    "                    p_H /= covid_cases_age_gender.iloc[0:4, :].sum().sum()\n",
    "                    p_H /= 0.024\n",
    "                    if randn1 < p_H / prob_asymptomatic:\n",
    "                        \n",
    "                        duration = stats.nbinom.rvs(loc = 0,\n",
    "                                                    n = float(duration_nbinom_parameters.loc['critical_duration<=49',\n",
    "                                                                                             :][0].split(' ')[0][1:]),\n",
    "                                           p = float(duration_nbinom_parameters.loc['critical_duration<=49',\n",
    "                                                                                    :][0].split(' ')[1][:-1]))\n",
    "                        \n",
    "                        # given that this agent is hospitalized, are they put in the ICU?\n",
    "                        # this matters because the duration of time is different in each unit\n",
    "                    \n",
    "                        if randn2 < .238: # value from CDC website\n",
    "                            hospitalized_time = stats.nbinom.rvs(loc = 0,\n",
    "                                                    n = float(duration_nbinom_parameters.loc['icu<=49',\n",
    "                                                                                             :][0].split(' ')[0][1:]),\n",
    "                                           p = float(duration_nbinom_parameters.loc['icu<=49',\n",
    "                                                                                    :][0].split(' ')[1][:-1]))\n",
    "                        else:\n",
    "                            hospitalized_time = stats.nbinom.rvs(loc = 0,\n",
    "                                                    n = float(duration_nbinom_parameters.loc['hospital<=49',\n",
    "                                                                                             :][0].split('   ')[0][1:]),\n",
    "                                           p = float(duration_nbinom_parameters.loc['hospital<=49',\n",
    "                                                                                    :][0].split('   ')[1][:-1]))\n",
    "                    \n",
    "                elif age <= 64:\n",
    "                    \n",
    "                    p_H = covid_deaths_age_gender.sort_values(by = 'age_group').covid_19_deaths.iloc[[12, 13]].sum()\n",
    "                    p_H += .5 * covid_deaths_age_gender.sort_values(by = 'age_group').covid_19_deaths.iloc[8:10].sum()\n",
    "                    p_H /= (covid_cases_age_gender.iloc[5, :].sum() + (.5 * covid_cases_age_gender.iloc[6, :].sum()))\n",
    "                    p_H /= 0.1\n",
    "                    if randn1 < p_H / prob_asymptomatic:\n",
    "                        \n",
    "                        duration = stats.nbinom.rvs(loc = 0,\n",
    "                                                    n = float(duration_nbinom_parameters.loc['critical_duration<=64',\n",
    "                                                                                             :][0].split(' ')[0][1:]),\n",
    "                                           p = float(duration_nbinom_parameters.loc['critical_duration<=64',\n",
    "                                                                                    :][0].split(' ')[1][:-1]))\n",
    "                        \n",
    "                        # given that this agent is hospitalized, are they put in the ICU?\n",
    "                        # this matters because the duration of time is different in each unit\n",
    "                    \n",
    "                        if randn2 < .353: # value from CDC website\n",
    "                            hospitalized_time = stats.nbinom.rvs(loc = 0,\n",
    "                                                    n = float(duration_nbinom_parameters.loc['icu<=64',\n",
    "                                                                                             :][0].split(' ')[0][1:]),\n",
    "                                           p = float(duration_nbinom_parameters.loc['icu<=64',\n",
    "                                                                                    :][0].split(' ')[1][:-1]))\n",
    "                        else:\n",
    "                            hospitalized_time = stats.nbinom.rvs(loc = 0,\n",
    "                                                    n = float(duration_nbinom_parameters.loc['hospital<=64',\n",
    "                                                                                             :][0].split('   ')[0][1:]),\n",
    "                                           p = float(duration_nbinom_parameters.loc['hospital<=64',\n",
    "                                                                                    :][0].split('   ')[1][:-1]))\n",
    "                    \n",
    "                else:\n",
    "                    \n",
    "                    p_H = covid_deaths_age_gender.sort_values(by = 'age_group').covid_19_deaths.iloc[[14, 15, 16, 17, 18, 19]].sum()\n",
    "                    p_H /= (covid_cases_age_gender.iloc[[7, 8], :].sum().sum() + (.5 * covid_cases_age_gender.iloc[6, :].sum()))\n",
    "                    p_H /= 0.266\n",
    "                    if randn1 < p_H / prob_asymptomatic:\n",
    "                        \n",
    "                        duration = stats.nbinom.rvs(loc = 0,\n",
    "                                                    n = float(duration_nbinom_parameters.loc['critical_duration>64',\n",
    "                                                                                             :][0].split('  ')[0][1:]),\n",
    "                                           p = float(duration_nbinom_parameters.loc['critical_duration>64',\n",
    "                                                                                    :][0].split('  ')[1][:-1]))\n",
    "                        \n",
    "                        # given that this agent is hospitalized, are they put in the ICU?\n",
    "                        # this matters because the duration of time is different in each unit\n",
    "                    \n",
    "                        if randn2 < .361: # value from CDC website\n",
    "                            hospitalized_time = stats.nbinom.rvs(loc = 0,\n",
    "                                                    n = float(duration_nbinom_parameters.loc['icu>64',\n",
    "                                                                                             :][0].split(' ')[0][1:]),\n",
    "                                           p = float(duration_nbinom_parameters.loc['icu>64',\n",
    "                                                                                    :][0].split(' ')[1][:-1]))\n",
    "                        else:\n",
    "                            hospitalized_time = stats.nbinom.rvs(loc = 0,\n",
    "                                                    n = float(duration_nbinom_parameters.loc['hospital>64',\n",
    "                                                                                             :][0].split(' ')[0][1:]),\n",
    "                                           p = float(duration_nbinom_parameters.loc['hospital>64',\n",
    "                                                                                    :][0].split(' ')[1][:-1]))\n",
    "                    \n",
    "                \n",
    "            duration = int(duration)\n",
    "            if 'hospitalized_time' in locals():\n",
    "                hospitalized_time = int(hospitalized_time)\n",
    "\n",
    "        # what will be the person's viral load? data taken from temporal viral shedding paper\n",
    "        # gamma distribution parameters are as follows: loc = -12.27248, shape = 20.51651, rate = 1/1.592124\n",
    "        # 95% CIs are calculated above\n",
    "        \n",
    "        #loc = -12.27248\n",
    "        #shape = 20.51651\n",
    "        #rate = 1/1.592124\n",
    "        \n",
    "        # so I draw the actual parameter estimates from a normal distribution of the values and CIs\n",
    "        #loc = stats.norm.rvs(loc = loc, scale = abs(res_high.x[0] - res_low.x[0]) / 4, size = 1)[0]\n",
    "        #shape = stats.norm.rvs(loc = shape, scale = abs(res_high.x[1] - res_low.x[1]) / 4, size = 1)[0]\n",
    "        #rate = stats.norm.rvs(loc = rate, scale = abs(res_high.x[2] - res_low.x[2]) / 4, size = 1)[0]\n",
    "        \n",
    "        # I just take the bootstrapped parameters\n",
    "        [shape, rate, loc] = bootstrapped_gamma_params.loc[np.random.randint(bootstrapped_gamma_params.shape[0]), :]\n",
    "        loc *= -1\n",
    "        rate = 1/rate\n",
    "        \n",
    "        # from ramanan's paper, probability of transmission is 7.2% on average, so the average value of the \n",
    "        # distribution must be 7.2%\n",
    "        # so i take the distribution's value and i multiply it by a constant factor\n",
    "        \n",
    "        # determine the value for that scale factor, c\n",
    "        # the true duration of the infection is the incubation_days + duration\n",
    "        true_duration = incubation_days + duration\n",
    "        #avg_value = (1 / true_duration) * integrate.quad(stats.gamma.pdf,\n",
    "        #                                                 a = -incubation_days,\n",
    "        #                                                 b = duration,\n",
    "        #                                                 args = (shape, loc, rate))[0]\n",
    "        #c = 0.072 / avg_value\n",
    "        \n",
    "        c = 1\n",
    "        \n",
    "        # now turn all this information into a dictionary which concisely and easily stores the info\n",
    "        # and explains the course of the infection for this agent\n",
    "        \n",
    "        tt1 = list(np.repeat('infected-as', incubation_days))\n",
    "        tt1.extend(list(np.repeat('infected-s', duration)))\n",
    "        if 'hospitalized_time' in locals():\n",
    "            tt1.extend(np.repeat('hospitalized', hospitalized_time))\n",
    "        tt1.append('dead' if death else 'recovered')\n",
    "        \n",
    "        tt2 = [c * integrate.quad(stats.gamma.pdf,\n",
    "                                  a = x,\n",
    "                                  b = x + 1,\n",
    "                                  args = (shape,\n",
    "                                          loc,\n",
    "                                          rate))[0] for x in range(-int(incubation_days),\n",
    "                                                                     int(duration))]\n",
    "        \n",
    "        tt2 = [x / sum(tt2) for x in tt2]\n",
    "        \n",
    "        if 'hospitalized_time' in locals():\n",
    "            tt2.extend(np.repeat(0, hospitalized_time))\n",
    "        \n",
    "        tt2.append(np.nan)\n",
    "        \n",
    "        # adjust transmission probabilities for asymptomatic period/people to be .75 of total infectiousness\n",
    "        # this vaue is from the same cdc source as above\n",
    "        #tt2 = [.75 * x if state == 'infected-as' else x for x, state in zip(tt2, tt1)]\n",
    "        \n",
    "        # have to do a similar thing for the viral load over time\n",
    "        \n",
    "        # first create a viral load trajectory for day after peak\n",
    "        # choose the viral load peak date\n",
    "        peak = stats.randint(0, 5).rvs()\n",
    "        time = 0 if 'hospitalized_time' not in locals() else hospitalized_time\n",
    "        time += duration\n",
    "        peak = min(peak, time)\n",
    "        \n",
    "        # now choose the maximum viral load\n",
    "        max_load = np.random.uniform(low = 5, high = 11)\n",
    "        \n",
    "        # choose the decay slope\n",
    "        \n",
    "        tau = stats.norm.rvs(loc = viral_load_kinetics.summary2().tables[1].loc['x1', 'Coef.'],\n",
    "                        scale = (viral_load_kinetics.summary2().tables[1].loc['x1', '0.975]'] - viral_load_kinetics.summary2().tables[1].loc['x1', '[0.025']) / 3.29)\n",
    "        \n",
    "        # now we must infer the viral load distribution prior to symptom onset\n",
    "        \n",
    "        if incubation_days == 0:\n",
    "            viral_load_begins = 0\n",
    "        else:\n",
    "            viral_load_begins = stats.randint(-incubation_days, 0).rvs()\n",
    "        \n",
    "        # convert the max viral load to a CT value\n",
    "        max_CT = viral_load_ct.predict(np.array([max_load]).reshape(-1, 1))\n",
    "        \n",
    "        # curve goes from a CT value of 40 on day that viral load begins\n",
    "        \n",
    "        if viral_load_begins == peak:\n",
    "            return self.infection_course(age, gender, comorbidities)\n",
    "        \n",
    "        CT_prior = LinearRegression().fit(np.array([viral_load_begins, peak]).reshape(-1, 1),\n",
    "                                              np.array([40, max_CT[0][0]]).reshape(-1, 1))\n",
    "        \n",
    "        # now put these two models together to get a complete viral load assessment for this individual\n",
    "        \n",
    "        # viral load from peak to end\n",
    "        tt3 = [max_load + (tau * (day - peak)) for day in range(int(peak), int(time))]\n",
    "        \n",
    "        # viral load from shedding to peak\n",
    "        \n",
    "        tt3 = [*ct_viral_load.predict(CT_prior.predict(np.arange(viral_load_begins, peak,\n",
    "                                                                 1).reshape(-1,\n",
    "                                                                            1)).reshape(-1,\n",
    "                                                                                        1)).reshape(1,\n",
    "                                                                                                    -1)[0].tolist(),\n",
    "               *tt3]\n",
    "        \n",
    "        # viral load before shedding\n",
    "        \n",
    "        tt3 = [*np.repeat(-np.inf, incubation_days + viral_load_begins), *tt3]\n",
    "           \n",
    "        # now need to infer a viral load for days prior to symptom onset\n",
    "        # assume that it increases linearly until the max with the constraint that it must be 0 on day of exposure\n",
    "        # this can be done by shifting the data to have day of exposure be (0, 0)\n",
    "        # the max happens on day 4 from spatial-temporal dynamics paper\n",
    "        \n",
    "        #ee1 = np.array(range(int(incubation_days),\n",
    "        #                     int(incubation_days) + min(4, len(tt3)))).reshape(-1, 1)\n",
    "        \n",
    "        #ee2 = np.array(tt3[:min(4, len(tt3))]).reshape(-1, 1)\n",
    "        #try:\n",
    "        #    lr = LinearRegression(fit_intercept = False).fit(ee1, ee2)\n",
    "        #    tt3 = [*lr.predict(np.array(range(int(incubation_days))).reshape(-1, 1)).reshape(1, -1).tolist()[0],\n",
    "        #           *tt3]\n",
    "        #except: # possible exceptions are that the person has no covid duration or no incubation period\n",
    "        #    tt3 = [*np.repeat(0, incubation_days), *tt3]\n",
    "            \n",
    "        tt3.append(np.nan)\n",
    "            \n",
    "        infection_course = {'states' : tt1,\n",
    "                            'prob_transmission' : tt2,\n",
    "                            'viral_load' : tt3,\n",
    "                            'days_since_exposure' : 0}\n",
    "        \n",
    "        return infection_course\n",
    "    \n",
    "    def transmit(self,\n",
    "                 age_t, gender_t, village_t, country_t,\n",
    "                 age_i, gender_i, village_i, country_i,\n",
    "                 prob_transmission):\n",
    "        #age_range_name_t = [k for k, v in age_groups_contacts.items() if int(age_t) in v][0]\n",
    "        #age_range_name_i = [k for k, v in age_groups_contacts.items() if int(age_i) in v][0]\n",
    "        \n",
    "        if village_t != village_i:\n",
    "            return False\n",
    "        \n",
    "        risk_increase = contact.loc[str(age_t) if age_t <= 83 else '84+',\n",
    "                                    str(age_i) if age_i <= 83 else '84+'] * contact.shape[0] / contact.loc[str(age_t) if age_t <= 83 else '84+', :].sum()\n",
    "        \n",
    "        country_indicator = 1 if country_t == country_i else 0.20\n",
    "        \n",
    "        if np.random.uniform(low = 0.0, high = 1.0, size = 1)[0] < (prob_transmission * risk_increase * country_indicator):\n",
    "            return True\n",
    "        else:\n",
    "            return False\n",
    "        \n",
    "    # go from recovered to susceptible again because of losing immunity or re-infection...\n",
    "    def susceptible(self, days_since_recovery):\n",
    "        if days_since_recovery > 90:\n",
    "            return True\n",
    "        elif np.random.uniform(low = 0.0,\n",
    "                                 high = 1.0,\n",
    "                                 size = 1)[0] <= 0.02:\n",
    "            return True\n",
    "        else:\n",
    "            return False\n",
    "    \n",
    "    # can the agent get the infection externally through a connection not modeled in the data?\n",
    "    def external_infection(self):\n",
    "        return np.random.uniform(low = 0.0,\n",
    "                                 high = 1.0,\n",
    "                                 size = 1)[0] <= self.external_connectivity"
   ]
  },
  {
   "cell_type": "code",
   "execution_count": 97,
   "metadata": {},
   "outputs": [],
   "source": [
    "mitigation_strategy_b = mitigation(testing_effectiveness, groups = 1, period = 1)\n",
    "\n",
    "scenario_standard = scenario_details(comorbidities_distribution = comorbidities_prevalence,\n",
    "                                     prop_healthy = [0, 0, 0],\n",
    "                                     spreader_prop = 0.293,\n",
    "                                     cases_age_gender = covid_cases_age_gender,\n",
    "                                     risk_death_distribution = (covid_deaths_age_gender,\n",
    "                                                                covid_deaths_comorbidities),\n",
    "                                     transmission_probability = np.nan,\n",
    "                                     mitigation_strategy = mitigation_strategy_b.baseline,\n",
    "                                     external_connectivity = ((25000 / 126300000 * 150000) * (2 ** 2) * 0.667) / 150000, # current prevalence in japan times staff-generated infections,\n",
    "                                     steps_per_day = 1)"
   ]
  },
  {
   "cell_type": "markdown",
   "metadata": {},
   "source": [
    "## ABM Development"
   ]
  },
  {
   "cell_type": "code",
   "execution_count": 109,
   "metadata": {},
   "outputs": [],
   "source": [
    "# agent class\n",
    "class person(Agent):\n",
    "    \"\"\"A person that can transmit COVID\"\"\"\n",
    "    \n",
    "    # initialize the agent and set it's characteristics\n",
    "    def __init__(self, unique_id, model, state, spreader, days_since_recovery = np.nan):\n",
    "    # each agent is unique in age/gender/comorbidity which is random from\n",
    "    # the value for each of these variables in the scenario\n",
    "        super().__init__(unique_id, model)\n",
    "        \n",
    "        self.unique_id = unique_id\n",
    "        # here we set things like the agent's gender, age, and comorbidities\n",
    "        self.age = self.model.scenario.rnd_age() # random age from the age distribution given\n",
    "        self.gender = self.model.scenario.rnd_gender(self.age) # 0 for M, 1 for F\n",
    "        self.comorbidities = self.model.scenario.rnd_comorbidities(self.age, self.gender) \n",
    "        \n",
    "        # finally we initialize the person's health state and how many days since exposure if infected\n",
    "        self.state = state\n",
    "        self.vaccinated = 1 if np.random.uniform(0, 1) < 0.99 else 0\n",
    "        self.infection_course = None if self.state[0] != 'i' else self.model.scenario.infection_course(self.age,\n",
    "                                                                                                 self.gender,\n",
    "                                                                                                 self.comorbidities)\n",
    "        self.prob_transmission = np.nan\n",
    "        #self.test_result = test_result\n",
    "        self.history = [state]\n",
    "        self.step_num = 0\n",
    "        \n",
    "        self.interactions = np.ones((14, self.model.num_agents)) * np.nan\n",
    "        \n",
    "        self.days_in_quarantine = np.nan\n",
    "        \n",
    "        self.just_positive = False\n",
    "        \n",
    "        # 70% of people don't spread the disease at all\n",
    "        \n",
    "        self.spreader = spreader\n",
    "        self.num_contacts = np.random.choice(range(1, 101), p = p_contacts[1:] / p_contacts[1:].sum()) if self.spreader else 0\n",
    "        #self.num_contacts = np.random.choice(range(0, 101), p = p_contacts / p_contacts.sum()) # * (1 if np.random.uniform(0, 1) >= 0.30 else 0.75)\n",
    "        self.num_contacts *= 0 if self.vaccinated and np.random.uniform(0, 1) < 0.5 else 1\n",
    "        self.spreader = False if self.num_contacts == 0 else True\n",
    "        \n",
    "        self.village = 1 if np.random.uniform(0, 1) > 2200/3400 else 0\n",
    "        self.country = np.random.choice(athletes_country.index,\n",
    "                                        p = athletes_country.Athletes / athletes_country.Athletes.sum())\n",
    "        \n",
    "        #self.superspreader = self.model.scenario.superspreader()\n",
    "        \n",
    "        self.time_delay = np.array([np.nan])\n",
    "        \n",
    "        #self.immune = self.model.mitigation_strategy.antibody(self)\n",
    "        self.immune = False\n",
    "        \n",
    "    # move the agent\n",
    "    def move(self):\n",
    "        \n",
    "        # brownian motion is good for now - eventually make this so that similar age/gender people are more\n",
    "        # likely to cluster\n",
    "        \n",
    "        # this is currently a brownian motion set up\n",
    "        possible_steps = self.model.grid.get_neighborhood(self.pos, moore = True, include_center = True)\n",
    "        new_position = self.random.choice(possible_steps)\n",
    "        self.model.grid.move_agent(self, new_position)\n",
    "        \n",
    "        # record neighbors\n",
    "        neighbors = self.model.grid.get_neighbors(self.pos, moore = False, include_center = False,\n",
    "                                                      radius = 1)\n",
    "        # move rows in interaction array to fit the new neighbors\n",
    "        temp = self.interactions[:-1, :]\n",
    "        self.interactions = np.delete(self.interactions, -1, axis = 0)\n",
    "        self.interactions = temp\n",
    "        temp = np.ones((1, self.model.num_agents))\n",
    "        for idx, neighbor in enumerate(neighbors):\n",
    "            temp[0, idx] = neighbor.unique_id\n",
    "            \n",
    "        self.interactions = np.concatenate((temp, self.interactions), axis = 0)\n",
    "    \n",
    "    # spread the disease: meaning the agent can infect others or get infected by others\n",
    "    def disease_spread(self):\n",
    "        # the agent can only infect others or be infected if the agent is susceptible or infected\n",
    "        if self.spreader:\n",
    "            \n",
    "            # get people around the agent in progressively larger circles\n",
    "            cellmates = self.model.grid.get_neighbors(self.pos, moore = False, include_center = True,\n",
    "                                                      radius = 1)\n",
    "            \n",
    "            \n",
    "            n_infect = self.num_contacts * self.prob_transmission\n",
    "            \n",
    "            if len(cellmates) > 1:\n",
    "                if n_infect > sum([1 if ee1.infection_course == None and ee1.state[0] == 's' else 0 for ee1 in cellmates]):\n",
    "                    for neighbor in cellmates:\n",
    "                        if neighbor.state == 'susceptible' and neighbor.infection_course == None:\n",
    "                            neighbor.infection_course = self.model.scenario.infection_course(neighbor.age,\n",
    "                                                                                        neighbor.gender,\n",
    "                                                                                        neighbor.comorbidities)\n",
    "                else:\n",
    "                    while n_infect > 1: # self.vaccinated * 0.5 * n_infect > 1\n",
    "                        tt1 = sum([1 if ee1.infection_course == None and ee1.state[0] == 's' else 0 for ee1 in cellmates])\n",
    "                        for neighbor in cellmates:\n",
    "                            if neighbor.state == 'susceptible' and neighbor.infection_course == None:\n",
    "                                if self.model.scenario.transmit(self.age, self.gender,\n",
    "                                                                self.village, self.country,\n",
    "                                                                neighbor.age, neighbor.gender,\n",
    "                                                                neighbor.village, neighbor.country,\n",
    "                                                                1/tt1):\n",
    "                                    neighbor.infection_course = self.model.scenario.infection_course(neighbor.age,\n",
    "                                                                                             neighbor.gender,\n",
    "                                                                                             neighbor.comorbidities)\n",
    "                        n_infect += -1\n",
    "            \n",
    "                    \n",
    "                    for neighbor in cellmates:\n",
    "                        if neighbor.state == 'susceptible' and neighbor.infection_course == None:\n",
    "                            if self.model.scenario.transmit(self.age, self.gender,\n",
    "                                                            self.village, self.country,\n",
    "                                                            neighbor.age, neighbor.gender,\n",
    "                                                            neighbor.village, neighbor.country,\n",
    "                                                            n_infect): # self.vaccinated * 0.5 * n_infect\n",
    "                        \n",
    "                                neighbor.infection_course = self.model.scenario.infection_course(neighbor.age,\n",
    "                                                                                                 neighbor.gender,\n",
    "                                                                                                 neighbor.comorbidities)\n",
    "        elif self.state == 'susceptible':\n",
    "            cellmates = self.model.grid.get_neighbors(self.pos, moore = False, include_center = True,\n",
    "                                                      radius = 1)\n",
    "            \n",
    "            for neighbor in cellmates:\n",
    "                if neighbor.state[0] == 'i' and neighbor.spreader and neighbor.num_contacts > 0:\n",
    "                    if self.model.scenario.transmit(neighbor.age, neighbor.gender,\n",
    "                                                    self.age, self.gender,\n",
    "                                                    self.village, self.country,\n",
    "                                                    neighbor.village, neighbor.country,\n",
    "                                                    neighbor.prob_transmission * neighbor.num_contacts): # * 0.5 * neighbor.vaccinated\n",
    "                        self.infection_course = self.model.scenario.infection_course(self.age,\n",
    "                                                                                     self.gender,\n",
    "                                                                                     self.comorbidities)\n",
    "                        neighbor.num_contacts = max(0, neighbor.num_contacts - 1)\n",
    "                        \n",
    "    \n",
    "    def test(self, N):\n",
    "        if self.model.scenario.mitigation_strategy(self, N):\n",
    "            if 'pcr' in self.model.scenario.mitigation_strategy.__name__:\n",
    "                if np.isnan(self.time_delay)[0]:\n",
    "                    self.time_delay = np.array([1])\n",
    "                else:\n",
    "                    self.time_delay = np.array([*self.time_delay, 1])\n",
    "#             else:\n",
    "#                 self.state = 'positive'\n",
    "#                 self.spreader = False\n",
    "#                 self.just_positive = True\n",
    "        #elif self.state[0] == 'i' or self.state == 'hospitalized' or self.state == 'susceptible':\n",
    "        #    if self.model.mitigation_strategy.rt_pcr(self):\n",
    "        #        self.time_delay = np.array([3])\n",
    "        \n",
    "        if sum(self.time_delay > 0) == len(self.time_delay) and (self.state == 'susceptible' or self.state[0] == 'i' or self.state == 'hospitalized'):\n",
    "            self.time_delay -= 1\n",
    "        elif 0 in self.time_delay and self.state[0] == 'i':\n",
    "            self.state = 'positive'\n",
    "            self.spreader = False\n",
    "            self.just_positive = True\n",
    "        else:\n",
    "            self.time_delay = np.array([np.nan])\n",
    "            \n",
    "    def quarantine(self):\n",
    "        for agent in self.model.schedule.agents:\n",
    "            if agent.state == 'positive' and agent.just_positive:\n",
    "                if agent.unique_id in self.interactions.flatten():\n",
    "                    self.state = 'quarantine'\n",
    "                    self.days_in_quarantine = 0\n",
    "                    break\n",
    "    \n",
    "    # advance the agent one step forward\n",
    "    def step(self):\n",
    "        \n",
    "        if self.step_num < 1:\n",
    "            if self.state[0] == 'i' or self.state == 'hospitalized':\n",
    "                try:\n",
    "                    if min(np.array(self.infection_course['viral_load'])[0:4]) >= 0.91:\n",
    "                        self.state = 'positive'\n",
    "                        self.spreader = False\n",
    "                        self.just_positive = True\n",
    "                except Exception as e:\n",
    "                    if min(np.array(self.infection_course['viral_load'])) >= 0.91:\n",
    "                        self.state = 'positive'\n",
    "                        self.spreader = False\n",
    "                        self.just_positive = True\n",
    "                sensitivities = [1]\n",
    "                specificities = [0.99]\n",
    "                \n",
    "                randn = np.random.uniform(low = 0.0, high = 1.0)\n",
    "                \n",
    "                current_viral_load = self.infection_course['viral_load'][0]\n",
    "                \n",
    "                if current_viral_load > 0.91 and randn < sensitivities[0]:\n",
    "                    self.state = 'positive'\n",
    "                    self.spreader = False\n",
    "                    self.just_positive = True\n",
    "                \n",
    "                current_viral_load = self.infection_course['viral_load'][1]\n",
    "                \n",
    "                if current_viral_load > 0.91 and randn < sensitivities[0]:\n",
    "                    self.state = 'positive'\n",
    "                    self.spreader = False\n",
    "                    self.just_positive = True\n",
    "                    \n",
    "#                 current_viral_load = self.infection_course['viral_load'][2]\n",
    "                \n",
    "#                 if current_viral_load > 0.91 and randn < sensitivities[0]:\n",
    "#                     self.state = 'positive'\n",
    "#                     self.spreader = False\n",
    "#                     self.just_positive = True\n",
    "                    \n",
    "                if randn < (1 - specificities[0])**2:\n",
    "                    self.state = 'positive'\n",
    "                    self.spreader = False\n",
    "                    self.just_positive = True\n",
    "        \n",
    "        # can only move if the agent is alive\n",
    "        # at this point, if the agent is infected, let's proceed with the agent's infection course\n",
    "        if self.infection_course != None:\n",
    "            day = int(self.infection_course['days_since_exposure'])\n",
    "            if self.state != 'positive' and self.state != 'quarantine':\n",
    "                self.state = self.infection_course['states'][day]\n",
    "            elif self.infection_course['states'][day] == 'recovered' and self.state == 'positive':\n",
    "                negative_tests = 0\n",
    "                while negative_tests < 2:\n",
    "                    if not self.model.mitigation_strategy.rt_pcr_symptom_expressing(self, 0):\n",
    "                        negative_tests += 1\n",
    "                self.state = 'recovered'\n",
    "            self.prob_transmission = self.infection_course['prob_transmission'][day]\n",
    "            self.infection_course['days_since_exposure'] += 1 / self.model.scenario.steps_per_day\n",
    "                \n",
    "            if np.isnan(self.prob_transmission): # the agent's infection is over\n",
    "                if self.state == 'positive':\n",
    "                    self.state = self.infection_course['states'][day]\n",
    "                self.infection_course = None\n",
    "                self.spreader = False\n",
    "                self.immune = True\n",
    "            \n",
    "            self.just_positive = False\n",
    "            \n",
    "        # only care abt moving agent if part of community\n",
    "        #if self.state != 'dead' and self.state != 'hospitalized' and np.isnan(self.days_in_quarantine) and self.state != 'recovered':\n",
    "        if self.state == 'susceptible' or self.state[0] == 'i':\n",
    "        \n",
    "            # however, when susceptible, the agent can pick up an infection from an outside connection\n",
    "            if self.state == 'susceptible' and self.model.scenario.external_infection():\n",
    "                self.infection_course = self.model.scenario.infection_course(self.age, self.gender,\n",
    "                                                                            self.comorbidities)\n",
    "            \n",
    "            # test the agents\n",
    "            if not self.immune:\n",
    "                self.test(self.step_num)\n",
    "            \n",
    "            # determine if any agents must quarantine\n",
    "            #self.quarantine()\n",
    "        \n",
    "            # move the agent one step\n",
    "            self.move()\n",
    "            \n",
    "            # determine if in the movement the agent infected other agents\n",
    "            self.disease_spread()\n",
    "            \n",
    "        self.step_num += 1\n",
    "            \n",
    "        #if self.state != 'dead':\n",
    "        if self.state != 'recovered':\n",
    "            self.history.append(self.state)\n",
    "            \n",
    "        # check if agent can leave quarantine\n",
    "        self.days_in_quarantine += 1\n",
    "        if self.days_in_quarantine > 1:\n",
    "            if self.infection_course != None:\n",
    "                self.state = self.infection_course['states'][int(self.infection_course['days_since_exposure'])]\n",
    "                if self.model.mitigation_strategy.rt_pcr_symptom_expressing(self, 0):\n",
    "                    self.state = 'positive'\n",
    "                    self.just_positive = False\n",
    "                else:\n",
    "                    self.state = 'susceptible'\n",
    "                    self.days_in_quarantine = np.nan"
   ]
  },
  {
   "cell_type": "code",
   "execution_count": 110,
   "metadata": {},
   "outputs": [],
   "source": [
    "# model class\n",
    "class covid_transmission_model(Model):\n",
    "    \"\"\"A model that simulates the spread of COVID and the effectiveness of various testing scenarios.\"\"\"\n",
    "    \n",
    "    # initialize the model\n",
    "    def __init__(self, N_t, N_i, N_r, width, height, scenario, mitigation_strategy):\n",
    "        self.running = True\n",
    "        \n",
    "        self.scenario = scenario\n",
    "        self.mitigation_strategy = mitigation_strategy\n",
    "        self.num_agents = N_t # number total\n",
    "        self.grid = MultiGrid(width, height, True) # toroidal grid\n",
    "        self.schedule = RandomActivation(self) # randomly activate agents\n",
    "        \n",
    "        # Create agents\n",
    "        for i in range(self.num_agents):\n",
    "            if i < (self.scenario.spreader_prop * N_i):\n",
    "                a = person(i, self, state = 'infected-as', spreader = True)\n",
    "            elif i < N_i: # number infected but not spreaders\n",
    "                a = person(i, self, state = 'infected-as', spreader = True)\n",
    "            elif i < (N_i + N_r): # number recovered\n",
    "                a = person(i, self, state = 'recovered', spreader = self.scenario.spreader())\n",
    "            else:\n",
    "                a = person(i, self, state = 'susceptible', spreader = self.scenario.spreader())\n",
    "                \n",
    "            # add the agent to the scheduler\n",
    "            self.schedule.add(a)\n",
    "            \n",
    "            # Add the agent to a random grid cell\n",
    "            x = self.random.randrange(self.grid.width)\n",
    "            y = self.random.randrange(self.grid.height)\n",
    "            self.grid.place_agent(a, (x, y))\n",
    "            \n",
    "        # collect data from the model for analysis later\n",
    "        self.datacollector = DataCollector(model_reporters = {\"state\" : lambda a: [a.history for a in a.schedule.agents]},\n",
    "                                           agent_reporters = {\"state\" : lambda a: a.state})\n",
    "            \n",
    "    # routine to run at each step of the model\n",
    "    def step(self):\n",
    "        # collect the data\n",
    "        self.datacollector.collect(self)\n",
    "        # advance the model one step\n",
    "        self.schedule.step()"
   ]
  },
  {
   "cell_type": "code",
   "execution_count": 111,
   "metadata": {},
   "outputs": [],
   "source": [
    "def ABM_RUN(inputs):\n",
    "    max_steps = inputs[0]\n",
    "    N_t = inputs[1]\n",
    "    N_i = inputs[2]\n",
    "    N_r = inputs[3]\n",
    "    width = inputs[4]\n",
    "    height = inputs[5]\n",
    "    scenario = inputs[6]\n",
    "    mitigation_strategy = inputs[7]\n",
    "    ABM_MODEL = covid_transmission_model(N_t, N_i, N_r, width, height, scenario, mitigation_strategy)\n",
    "    for i in range(max_steps):\n",
    "        ABM_MODEL.step()\n",
    "    return ABM_MODEL.datacollector.get_model_vars_dataframe().tail(1).loc[max_steps - 1,\n",
    "                                                                          'state'], mitigation_strategy.cost.running_total, mitigation_strategy.cost.false_positive, mitigation_strategy.cost.false_negative, mitigation_strategy.cost.improperly_quarantined_athletes, mitigation_strategy.cost.true_positives"
   ]
  },
  {
   "cell_type": "code",
   "execution_count": 112,
   "metadata": {},
   "outputs": [],
   "source": [
    "def nestedLists_to_DF(results_list, replicates, N_t):\n",
    "    # turn the results list into a nice states dataframe\n",
    "    states = pd.DataFrame(np.nan, columns = ['state'], index = range(replicates))\n",
    "    \n",
    "    for i in range(replicates):\n",
    "        states.loc[[i], 'state'] = pd.Series([results_list[:N_t]], index = [i])\n",
    "        results_list = results_list[N_t:]\n",
    "        \n",
    "    return states"
   ]
  },
  {
   "cell_type": "code",
   "execution_count": 113,
   "metadata": {},
   "outputs": [],
   "source": [
    "def MultiProcessorRunCustom(replicates, max_steps, N_t, N_i, N_r, width, height, scenario, mitigation_strategy,\n",
    "                            n_cores = 6, chunksize = 1):\n",
    "    # create a results list into which we dump the results\n",
    "    results_list = []\n",
    "    costs = []\n",
    "    false_positives = []\n",
    "    false_negatives = []\n",
    "    improperly_quarantined_athletes = []\n",
    "    true_positives = []\n",
    "    \n",
    "    # process map is from tqdm and has a default progress bar built in\n",
    "    r = process_map(ABM_RUN, [[max_steps,\n",
    "                                 N_t, N_i,\n",
    "                                 N_r, width,\n",
    "                                 height,\n",
    "                                 scenario,\n",
    "                                 mitigation_strategy,\n",
    "                                 n_cores]] * replicates, max_workers = n_cores, chunksize = chunksize)\n",
    "    \n",
    "    for item in r:\n",
    "        results, cost, false_positive, false_negative, improperly_quarantined_athlete, tp = item\n",
    "        results_list.extend(results)\n",
    "        costs.append(cost)\n",
    "        false_positives.append(false_positive)\n",
    "        false_negatives.append(false_negative)\n",
    "        improperly_quarantined_athletes.append(improperly_quarantined_athlete)\n",
    "        true_positives.append(tp)\n",
    "\n",
    "    return nestedLists_to_DF(results_list, replicates, N_t), costs, false_positives, false_negatives, improperly_quarantined_athletes, true_positives"
   ]
  },
  {
   "cell_type": "markdown",
   "metadata": {},
   "source": [
    "## Model Testing"
   ]
  },
  {
   "cell_type": "code",
   "execution_count": 114,
   "metadata": {},
   "outputs": [],
   "source": [
    "mitigation_strategy_r = mitigation(testing_effectiveness, groups = 1, period = 1)\n",
    "\n",
    "scenario_weekly = scenario_details(comorbidities_distribution = comorbidities_prevalence,\n",
    "                                     prop_healthy = [0, 0, 0],\n",
    "                                     spreader_prop = 0.293,\n",
    "                                     cases_age_gender = covid_cases_age_gender,\n",
    "                                     risk_death_distribution = (covid_deaths_age_gender,\n",
    "                                                                covid_deaths_comorbidities),\n",
    "                                     transmission_probability = np.nan,\n",
    "                                     mitigation_strategy = mitigation_strategy_r.rt_pcr_random,\n",
    "                                     external_connectivity = 0.005, #((25000 / 126300000 * 150000) * (2 ** 2) * 0.667) / 150000, # current prevalence in japan times staff-generated infections,\n",
    "                                     steps_per_day = 1)"
   ]
  },
  {
   "cell_type": "code",
   "execution_count": 126,
   "metadata": {},
   "outputs": [],
   "source": [
    "# initialize the model\n",
    "# 5000 = 32 x 32\n",
    "# 1000 = 14 x 15\n",
    "\n",
    "model = covid_transmission_model(N_t = 1000,\n",
    "                                 N_i = 10,\n",
    "                                 N_r = 0, #465,\n",
    "                                 width = 20, #32,\n",
    "                                 height = 21, #33,\n",
    "                                 scenario = scenario_weekly,\n",
    "                                 mitigation_strategy = mitigation_strategy_r)"
   ]
  },
  {
   "cell_type": "code",
   "execution_count": 144,
   "metadata": {},
   "outputs": [
    {
     "data": {
      "application/vnd.jupyter.widget-view+json": {
       "model_id": "c3fd07913b6b4311a81299a8283fe33d",
       "version_major": 2,
       "version_minor": 0
      },
      "text/plain": [
       "HBox(children=(HTML(value=''), FloatProgress(value=0.0, max=31.0), HTML(value='')))"
      ]
     },
     "metadata": {},
     "output_type": "display_data"
    },
    {
     "name": "stdout",
     "output_type": "stream",
     "text": [
      "\n"
     ]
    }
   ],
   "source": [
    "# run the model for n steps\n",
    "for i in tqdm(range(31)):\n",
    "    model.step()"
   ]
  },
  {
   "cell_type": "code",
   "execution_count": 119,
   "metadata": {},
   "outputs": [
    {
     "data": {
      "text/plain": [
       "0.0"
      ]
     },
     "execution_count": 119,
     "metadata": {},
     "output_type": "execute_result"
    }
   ],
   "source": [
    "mitigation_strategy_r.cost.running_total"
   ]
  },
  {
   "cell_type": "code",
   "execution_count": 147,
   "metadata": {},
   "outputs": [],
   "source": [
    "# get the data collected by the model\n",
    "agents_states = model.datacollector.get_agent_vars_dataframe().reset_index()"
   ]
  },
  {
   "cell_type": "code",
   "execution_count": 148,
   "metadata": {},
   "outputs": [],
   "source": [
    "sird_counts = pd.DataFrame(columns = range(30), index = ['s', 'i-as', 'i-s', 'i', 'p', 'q', 'r', 'd'])"
   ]
  },
  {
   "cell_type": "code",
   "execution_count": 149,
   "metadata": {},
   "outputs": [],
   "source": [
    "for i in range(31):\n",
    "    sird_counts.loc['s', i] = agents_states.loc[agents_states.Step == i, 'state'].eq('susceptible').sum()\n",
    "    sird_counts.loc['i-as', i] = agents_states.loc[agents_states.Step == i, 'state'].eq('infected-as').sum()\n",
    "    sird_counts.loc['i-s', i] = agents_states.loc[agents_states.Step == i, 'state'].eq('infected-s').sum()\n",
    "    sird_counts.loc['i', i] = agents_states.loc[agents_states.Step == i, 'state'].eq('infected-as').sum() + agents_states.loc[agents_states.Step == i, 'state'].eq('infected-s').sum()\n",
    "    sird_counts.loc['p', i] = agents_states.loc[agents_states.Step == i, 'state'].eq('positive').sum()\n",
    "    sird_counts.loc['h', i] = agents_states.loc[agents_states.Step == i, 'state'].eq('hospitalized').sum()\n",
    "    sird_counts.loc['q', i] = agents_states.loc[agents_states.Step == i, 'state'].eq('quarantined').sum()\n",
    "    sird_counts.loc['r', i] = agents_states.loc[agents_states.Step == i, 'state'].eq('recovered').sum()\n",
    "    sird_counts.loc['d', i] = agents_states.loc[agents_states.Step == i, 'state'].eq('dead').sum()\n",
    "    \n",
    "sird_counts /= 10"
   ]
  },
  {
   "cell_type": "code",
   "execution_count": 150,
   "metadata": {},
   "outputs": [
    {
     "data": {
      "text/plain": [
       "0     101.0\n",
       "1     100.6\n",
       "2     101.1\n",
       "3     101.4\n",
       "4     101.8\n",
       "5     101.9\n",
       "6     101.6\n",
       "7     101.6\n",
       "8     102.0\n",
       "9     101.6\n",
       "10    101.7\n",
       "11    101.7\n",
       "12    101.8\n",
       "13    101.4\n",
       "14    101.7\n",
       "15    101.2\n",
       "16    101.4\n",
       "17    101.1\n",
       "18    101.2\n",
       "19    101.1\n",
       "20    101.6\n",
       "21    101.6\n",
       "22    101.6\n",
       "23    101.9\n",
       "24    101.9\n",
       "25    102.1\n",
       "26    102.0\n",
       "27    101.9\n",
       "28    101.1\n",
       "29    101.3\n",
       "30    101.6\n",
       "dtype: float64"
      ]
     },
     "execution_count": 150,
     "metadata": {},
     "output_type": "execute_result"
    }
   ],
   "source": [
    "sird_counts.sum(axis = 0)"
   ]
  },
  {
   "cell_type": "code",
   "execution_count": 151,
   "metadata": {},
   "outputs": [
    {
     "data": {
      "image/png": "[encoded data removed]",
      "text/plain": [
       "<Figure size 864x864 with 1 Axes>"
      ]
     },
     "metadata": {
      "needs_background": "light"
     },
     "output_type": "display_data"
    }
   ],
   "source": [
    "# look at the sird curve (should add \"E\" at some point)\n",
    "plt.plot(sird_counts.loc['s', :].T, label = 'susceptible');\n",
    "#plt.plot(sird_counts.loc['e', :].T, label = 'exposed');\n",
    "plt.plot(sird_counts.loc['i', :].T, label = 'infected');\n",
    "#plt.plot(sird_counts.loc['i-as', :].T, label = 'infected-as');\n",
    "#plt.plot(sird_counts.loc['i-s', :].T, label = 'infected-s');\n",
    "plt.plot(sird_counts.loc['p', :].T, label = 'positive');\n",
    "plt.plot(sird_counts.loc['h', :].T, label = 'hospitalized');\n",
    "plt.plot(sird_counts.loc['q', :].T, label = 'quarantined');\n",
    "plt.plot(sird_counts.loc['r', :].T, label = 'recovered');\n",
    "plt.plot(sird_counts.loc['d', :].T, label = 'dead');\n",
    "plt.legend();\n",
    "plt.xlabel('Day');\n",
    "plt.ylabel('% of Population');"
   ]
  },
  {
   "cell_type": "code",
   "execution_count": 152,
   "metadata": {},
   "outputs": [
    {
     "data": {
      "text/plain": [
       "s       84.9\n",
       "i-as     1.6\n",
       "i-s      0.0\n",
       "i        1.6\n",
       "p        8.1\n",
       "q        0.0\n",
       "r        5.2\n",
       "d        0.0\n",
       "h        0.2\n",
       "Name: 30, dtype: float64"
      ]
     },
     "execution_count": 152,
     "metadata": {},
     "output_type": "execute_result"
    }
   ],
   "source": [
    "sird_counts.iloc[:, -1]"
   ]
  },
  {
   "cell_type": "markdown",
   "metadata": {},
   "source": [
    "## No Mitigation"
   ]
  },
  {
   "cell_type": "code",
   "execution_count": 153,
   "metadata": {
    "scrolled": true
   },
   "outputs": [
    {
     "name": "stdout",
     "output_type": "stream",
     "text": [
      "0.04606498012853652\n"
     ]
    }
   ],
   "source": [
    "# Current CFR from COVID from CDC data\n",
    "CFR = covid_deaths_age_gender['covid_19_deaths'].astype(int).sum() / (covid_cases_age_gender.sum().sum() - covid_deaths_age_gender['covid_19_deaths'].astype(int).sum())\n",
    "print(CFR)\n",
    "# want percentage of deaths after simulation to equal CFR"
   ]
  },
  {
   "cell_type": "code",
   "execution_count": 156,
   "metadata": {},
   "outputs": [],
   "source": [
    "replicates = 200\n",
    "max_steps = 31\n",
    "\n",
    "N_t = 3400\n",
    "#N_t = 1000\n",
    "N_i = 7 # 34 #33 #0.20 * 0.01 * 5000\n",
    "#N_i = 10\n",
    "N_r = 0\n",
    "#N_r = 47 # assuming 9.3% seroprevalence from lancet paper\n",
    "\n",
    "#width = 32\n",
    "#height = 32\n",
    "\n",
    "width = 40\n",
    "height = 40\n",
    "\n",
    "#scenario = scenario_standard\n",
    "\n",
    "n_cores = 72"
   ]
  },
  {
   "cell_type": "code",
   "execution_count": 157,
   "metadata": {
    "scrolled": true
   },
   "outputs": [
    {
     "data": {
      "application/vnd.jupyter.widget-view+json": {
       "model_id": "",
       "version_major": 2,
       "version_minor": 0
      },
      "text/plain": [
       "HBox(children=(HTML(value=''), FloatProgress(value=0.0, max=200.0), HTML(value='')))"
      ]
     },
     "metadata": {},
     "output_type": "display_data"
    },
    {
     "name": "stdout",
     "output_type": "stream",
     "text": [
      "\n"
     ]
    }
   ],
   "source": [
    "states, costs, fps, fns, iqas, tps = MultiProcessorRunCustom(replicates,\n",
    "                                 max_steps,\n",
    "                                 N_t, N_i,\n",
    "                                 N_r, width,\n",
    "                                 height,\n",
    "                                 scenario_weekly,\n",
    "                                 mitigation_strategy_r,\n",
    "                                 n_cores)"
   ]
  },
  {
   "cell_type": "code",
   "execution_count": 110,
   "metadata": {},
   "outputs": [
    {
     "data": {
      "application/vnd.jupyter.widget-view+json": {
       "model_id": "6abefb3b75cf4c33bb6bd4d5487259bf",
       "version_major": 2,
       "version_minor": 0
      },
      "text/plain": [
       "HBox(children=(HTML(value=''), FloatProgress(value=0.0, max=200.0), HTML(value='')))"
      ]
     },
     "metadata": {},
     "output_type": "display_data"
    },
    {
     "name": "stdout",
     "output_type": "stream",
     "text": [
      "\n"
     ]
    }
   ],
   "source": [
    "sird_counts = np.ones((replicates, 7, max_steps))\n",
    "\n",
    "for j in tqdm(range(replicates)):\n",
    "    for i in range(max_steps):\n",
    "        sird_counts[j, 0, i] = len(np.where(np.array([history[i] if len(history) > i else 'recovered' for history in states.state[j]])\n",
    "                                               == 'susceptible')[0])\n",
    "        sird_counts[j, 1, i] = len(np.where(np.array([history[i] if len(history) > i else 'recovered' for history in states.state[j]])\n",
    "                                               == 'infected-as')[0])\n",
    "        sird_counts[j, 2, i] = len(np.where(np.array([history[i] if len(history) > i else 'recovered' for history in states.state[j]])\n",
    "                                               == 'infected-s')[0])\n",
    "        sird_counts[j, 3, i] = len(np.where(np.array([history[i] if len(history) > i else 'recovered' for history in states.state[j]])\n",
    "                                               == 'infected-as')[0]) + len(np.where(np.array([history[i] if len(history) > i else 'recovered' for history in states.state[j]])\n",
    "                                               == 'infected-s')[0])\n",
    "        sird_counts[j, 4, i] = len(np.where(np.array([history[i] if len(history) > i else 'recovered' for history in states.state[j]])\n",
    "                                               == 'recovered')[0])\n",
    "        sird_counts[j, 5, i] = len(np.where(np.array([history[i] if len(history) > i else 'recovered' for history in states.state[j]])\n",
    "                                               == 'hospitalized')[0])\n",
    "        sird_counts[j, 6, i] = len(np.where(np.array([history[i] if len(history) > i else 'recovered' for history in states.state[j]])\n",
    "                                               == 'dead')[0])\n",
    "        \n",
    "#sird_counts[:, 4, :] = N_t - (sird_counts[:, 0, :] + sird_counts[:, 1, :] + sird_counts[:, 2, :] + sird_counts[:, 3, :] + sird_counts[:, 6, :] + sird_counts[:, 5, :])\n",
    "\n",
    "sird_counts = sird_counts * 100 / N_t"
   ]
  },
  {
   "cell_type": "code",
   "execution_count": 111,
   "metadata": {},
   "outputs": [],
   "source": [
    "with open(os.path.join(out_dir, 'NoMitigation/IOC-5000Agents-200Replicates-SIRD_counts-R0=1.1-02%.pickle'), 'wb') as handle:\n",
    "     pickle.dump(sird_counts, handle, protocol = pickle.HIGHEST_PROTOCOL)"
   ]
  },
  {
   "cell_type": "code",
   "execution_count": 112,
   "metadata": {},
   "outputs": [],
   "source": [
    "with open(os.path.join(out_dir,\n",
    "                           'NoMitigation/IOC-5000Agents-200Replicates-SIRD_counts-R0=1.1-02%.pickle'),\n",
    "              'rb') as openfile:\n",
    "        sird_counts = pickle.load(openfile)"
   ]
  },
  {
   "cell_type": "code",
   "execution_count": 113,
   "metadata": {},
   "outputs": [
    {
     "name": "stderr",
     "output_type": "stream",
     "text": [
      "'NimbusRoman-Bold.otf' can not be subsetted into a Type 3 font. The entire font will be embedded in the output.\n",
      "'NimbusRoman-Regular.otf' can not be subsetted into a Type 3 font. The entire font will be embedded in the output.\n"
     ]
    },
    {
     "data": {
      "image/png": "[encoded data removed]",
      "text/plain": [
       "<Figure size 1440x1440 with 1 Axes>"
      ]
     },
     "metadata": {
      "needs_background": "light"
     },
     "output_type": "display_data"
    }
   ],
   "source": [
    "fig = plt.figure(figsize = (20, 20))\n",
    "ax1 = fig.add_subplot(111)\n",
    "ax1.spines['top'].set_visible(False)\n",
    "ax1.spines['right'].set_visible(False)\n",
    "ax1.grid(axis='both', color=\"0.9\", linestyle='-', linewidth=1)\n",
    "ax1.get_xaxis().tick_bottom()\n",
    "ax1.get_yaxis().tick_left()\n",
    "ax1.tick_params(axis = 'x', direction = 'out')\n",
    "ax1.tick_params(axis = 'y', direction = 'out')\n",
    "# offset the spines\n",
    "for spine in ax1.spines.values():\n",
    "    spine.set_position(('outward', 5))\n",
    "# put the grid behind\n",
    "ax1.set_axisbelow(True)\n",
    "#ax1.plot(np.median(sird_counts, axis = 0)[0], label = 'susceptible');\n",
    "#ax1.plot(np.median(sird_counts, axis = 0)[3], label = 'infected');\n",
    "ax1.plot(np.median(sird_counts, axis = 0)[1], lw = 5, label = 'infected - asymptomatic');\n",
    "ax1.plot(np.median(sird_counts, axis = 0)[2], lw = 5, label = 'infected - symptomatic');\n",
    "\n",
    "ax1.plot(np.median(sird_counts, axis = 0)[3], lw = 5, label = 'infected - symptomatic & asymptomatic');\n",
    "\n",
    "#ax1.plot(np.median(sird_counts, axis = 0)[4], label = 'recovered');\n",
    "#ax1.plot(np.median(sird_counts, axis = 0)[5], label = 'hospitalized');\n",
    "#ax1.plot(np.median(sird_counts, axis = 0)[6], label = 'dead');\n",
    "#ax1.fill_between(range(max_steps), np.percentile(sird_counts, axis = 0, q = 2.5)[0],\n",
    "#                 np.percentile(sird_counts, axis = 0, q = 97.5)[0], alpha = 0.2)\n",
    "#ax1.fill_between(range(max_steps), np.percentile(sird_counts, axis = 0, q = 2.5)[3],\n",
    "#                 np.percentile(sird_counts, axis = 0, q = 97.5)[3], alpha = 0.2)\n",
    "\n",
    "ax1.fill_between(range(max_steps), np.percentile(sird_counts, axis = 0, q = 2.5)[1],\n",
    "                 np.percentile(sird_counts, axis = 0, q = 97.5)[1], alpha = 0.2)\n",
    "\n",
    "ax1.fill_between(range(max_steps), np.percentile(sird_counts, axis = 0, q = 2.5)[2],\n",
    "                 np.percentile(sird_counts, axis = 0, q = 97.5)[2], alpha = 0.2)\n",
    "\n",
    "ax1.fill_between(range(max_steps), np.percentile(sird_counts, axis = 0, q = 2.5)[3],\n",
    "                 np.percentile(sird_counts, axis = 0, q = 97.5)[3], alpha = 0.2)\n",
    "\n",
    "#ax1.fill_between(range(max_steps), np.percentile(sird_counts, axis = 0, q = 2.5)[4],\n",
    "#                 np.percentile(sird_counts, axis = 0, q = 97.5)[4], alpha = 0.2)\n",
    "#ax1.fill_between(range(max_steps), np.percentile(sird_counts, axis = 0, q = 2.5)[5],\n",
    "#                 np.percentile(sird_counts, axis = 0, q = 97.5)[5], alpha = 0.2)\n",
    "#ax1.fill_between(range(max_steps), np.percentile(sird_counts, axis = 0, q = 2.5)[6],\n",
    "#                 np.percentile(sird_counts, axis = 0, q = 97.5)[6], alpha = 0.2)\n",
    "\n",
    "#ax1.fill_between(range(max_steps), np.percentile(sird_counts, axis = 0, q = 25)[0],\n",
    "#                np.percentile(sird_counts, axis = 0, q = 75)[0], alpha = 0.3, color = \"C{}\".format(0))\n",
    "\n",
    "\n",
    "ax1.fill_between(range(max_steps), np.percentile(sird_counts, axis = 0, q = 25)[1],\n",
    "                 np.percentile(sird_counts, axis = 0, q = 75)[1], alpha = 0.6, color = \"C{}\".format(0))\n",
    "\n",
    "ax1.fill_between(range(max_steps), np.percentile(sird_counts, axis = 0, q = 25)[2],\n",
    "                 np.percentile(sird_counts, axis = 0, q = 75)[2], alpha = 0.6, color = \"C{}\".format(1))\n",
    "\n",
    "ax1.fill_between(range(max_steps), np.percentile(sird_counts, axis = 0, q = 25)[3],\n",
    "                 np.percentile(sird_counts, axis = 0, q = 75)[3], alpha = 0.6, color = \"C{}\".format(2))\n",
    "\n",
    "\n",
    "#ax1.fill_between(range(max_steps), np.percentile(sird_counts, axis = 0, q = 25)[4],\n",
    "#                 np.percentile(sird_counts, axis = 0, q = 75)[4], alpha = 0.3, color = \"C{}\".format(4))\n",
    "\n",
    "#ax1.fill_between(range(max_steps), np.percentile(sird_counts, axis = 0, q = 25)[5],\n",
    "#                 np.percentile(sird_counts, axis = 0, q = 75)[5], alpha = 0.3, color = \"C{}\".format(3))\n",
    "#ax1.fill_between(range(max_steps), np.percentile(sird_counts, axis = 0, q = 25)[6],\n",
    "#                 np.percentile(sird_counts, axis = 0, q = 75)[6], alpha = 0.3, color = \"C{}\".format(4))\n",
    "\n",
    "ax1.legend(loc = (.01, .9), frameon = False, ncol = 1, fontsize = 'x-large');\n",
    "ax1.set_xlabel('Day');\n",
    "ax1.set_ylabel('% of Population');\n",
    "#ax1.set_title('(A1) Summarized Disease Course', style = 'italic');\n",
    "\n",
    "#ax1.plot(range(100), np.repeat((100/1.1), 100))\n",
    "#ax1.plot(np.repeat(np.where(np.median(sird_counts, axis = 0)[3] == np.max(np.median(sird_counts, axis = 0)[3]))[0][0],\n",
    "#                   100),\n",
    "#        range(100))\n",
    "\n",
    "fig.tight_layout();\n",
    "\n",
    "fig.savefig(os.path.join(fig_dir, 'IOC-R0=1.1-02%-nomitigation.png'), bbox_inches = 'tight')\n",
    "fig.savefig(os.path.join(fig_dir, 'IOC-R0=1.1-02%-nomitigation.pdf'), dpi = 300, bbox_inches = 'tight')"
   ]
  },
  {
   "cell_type": "code",
   "execution_count": 114,
   "metadata": {},
   "outputs": [
    {
     "data": {
      "text/plain": [
       "3.2219999999999995"
      ]
     },
     "execution_count": 114,
     "metadata": {},
     "output_type": "execute_result"
    }
   ],
   "source": [
    "np.percentile(sird_counts[:, 4, -1], 97.5) - 9.3"
   ]
  },
  {
   "cell_type": "code",
   "execution_count": 115,
   "metadata": {},
   "outputs": [
    {
     "data": {
      "text/plain": [
       "1.7799999999999994"
      ]
     },
     "execution_count": 115,
     "metadata": {},
     "output_type": "execute_result"
    }
   ],
   "source": [
    "np.percentile(sird_counts[:, 4, -1], 50) - 9.3"
   ]
  },
  {
   "cell_type": "code",
   "execution_count": 116,
   "metadata": {},
   "outputs": [
    {
     "data": {
      "text/plain": [
       "0.879999999999999"
      ]
     },
     "execution_count": 116,
     "metadata": {},
     "output_type": "execute_result"
    }
   ],
   "source": [
    "np.percentile(sird_counts[:, 4, -1], 2.5) - 9.3"
   ]
  },
  {
   "cell_type": "markdown",
   "metadata": {},
   "source": [
    "## Scenarios in Focus: Specific Testing Frequencies/Number of People"
   ]
  },
  {
   "cell_type": "code",
   "execution_count": 115,
   "metadata": {},
   "outputs": [],
   "source": [
    "mitigation_strategy_r = mitigation(testing_effectiveness, groups = 1, period = 1)\n",
    "\n",
    "scenario_weekly = scenario_details(comorbidities_distribution = comorbidities_prevalence,\n",
    "                                     prop_healthy = [0, 0, 0],\n",
    "                                     spreader_prop = 0.293,\n",
    "                                     cases_age_gender = covid_cases_age_gender,\n",
    "                                     risk_death_distribution = (covid_deaths_age_gender,\n",
    "                                                                covid_deaths_comorbidities),\n",
    "                                     transmission_probability = np.nan,\n",
    "                                     mitigation_strategy = mitigation_strategy_r.rt_pcr_random,\n",
    "                                     external_connectivity = 0.005, #((25000 / 126300000 * 150000) * (2 ** 2) * 0.667) / 150000, # current prevalence in japan times staff-generated infections,\n",
    "                                     steps_per_day = 1)"
   ]
  },
  {
   "cell_type": "code",
   "execution_count": 116,
   "metadata": {},
   "outputs": [],
   "source": [
    "replicates = 200\n",
    "max_steps = 31\n",
    "\n",
    "N_t = 3400\n",
    "N_i = 1 # 0.2 * 0.01 * 5000 # int(round(50 * stats.lognorm.sf(x = 11, s = 0.5, loc = 0, scale = np.exp(1.63))))\n",
    "N_r = 0\n",
    "\n",
    "# R0 = 1.5\n",
    "width = 42\n",
    "height = 43\n",
    "\n",
    "# R0 = 2\n",
    "width = 40\n",
    "height = 40\n",
    "\n",
    "\n",
    "# R0 = 1.1 but with vaccines\n",
    "#width = 76\n",
    "#height = 77\n",
    "\n",
    "scenario = scenario_weekly\n",
    "\n",
    "n_cores = 50"
   ]
  },
  {
   "cell_type": "code",
   "execution_count": 117,
   "metadata": {
    "scrolled": false
   },
   "outputs": [
    {
     "data": {
      "application/vnd.jupyter.widget-view+json": {
       "model_id": "ae186485c9674d1caa44348c4bea7f66",
       "version_major": 2,
       "version_minor": 0
      },
      "text/plain": [
       "HBox(children=(HTML(value=''), FloatProgress(value=0.0, max=200.0), HTML(value='')))"
      ]
     },
     "metadata": {},
     "output_type": "display_data"
    },
    {
     "name": "stdout",
     "output_type": "stream",
     "text": [
      "\n"
     ]
    }
   ],
   "source": [
    "states, costs, false_positives, false_negatives, improperly_quarantined_athletes, true_positives = MultiProcessorRunCustom(replicates,\n",
    "                                        max_steps,\n",
    "                                        N_t, N_i, N_r,\n",
    "                                        width, height,\n",
    "                                        scenario_weekly, mitigation_strategy_r,\n",
    "                                        n_cores)"
   ]
  },
  {
   "cell_type": "code",
   "execution_count": 118,
   "metadata": {},
   "outputs": [
    {
     "data": {
      "application/vnd.jupyter.widget-view+json": {
       "model_id": "f43aef151a7e4adba6c9887131c0821f",
       "version_major": 2,
       "version_minor": 0
      },
      "text/plain": [
       "HBox(children=(HTML(value=''), FloatProgress(value=0.0, max=200.0), HTML(value='')))"
      ]
     },
     "metadata": {},
     "output_type": "display_data"
    },
    {
     "name": "stdout",
     "output_type": "stream",
     "text": [
      "\n"
     ]
    }
   ],
   "source": [
    "sird_counts = np.ones((replicates, 9, max_steps))\n",
    "\n",
    "for j in tqdm(range(replicates)):\n",
    "    for i in range(max_steps):\n",
    "        sird_counts[j, 0, i] = len(np.where(np.array([history[i] if len(history) > i else 'recovered' for history in states.state[j]])\n",
    "                                               == 'susceptible')[0])\n",
    "        sird_counts[j, 1, i] = len(np.where(np.array([history[i] if len(history) > i else 'recovered' for history in states.state[j]])\n",
    "                                               == 'infected-as')[0])\n",
    "        sird_counts[j, 2, i] = len(np.where(np.array([history[i] if len(history) > i else 'recovered' for history in states.state[j]])\n",
    "                                               == 'infected-s')[0])\n",
    "        sird_counts[j, 3, i] = len(np.where(np.array([history[i] if len(history) > i else 'recovered' for history in states.state[j]])\n",
    "                                               == 'infected-as')[0]) + len(np.where(np.array([history[i] if len(history) > i else 'recovered' for history in states.state[j]])\n",
    "                                               == 'infected-s')[0])\n",
    "        sird_counts[j, 5, i] = len(np.where(np.array([history[i] if len(history) > i else 'recovered' for history in states.state[j]])\n",
    "                                               == 'recovered')[0])\n",
    "        sird_counts[j, 4, i] = len(np.where(np.array([history[i] if len(history) > i else 'recovered' for history in states.state[j]])\n",
    "                                               == 'positive')[0])\n",
    "        sird_counts[j, 6, i] = len(np.where(np.array([history[i] if len(history) > i else 'recovered' for history in states.state[j]])\n",
    "                                               == 'dead')[0])\n",
    "        sird_counts[j, 7, i] = len(np.where(np.array([history[i] if len(history) > i else 'recovered' for history in states.state[j]])\n",
    "                                               == 'hospitalized')[0])\n",
    "        sird_counts[j, 8, i] = len(np.where(np.array([history[i] if len(history) > i else 'recovered' for history in states.state[j]])\n",
    "                                               == 'quarantine')[0])\n",
    "        \n",
    "#sird_counts[:, 5, :] = N_t - (sird_counts[:, 0, :] + sird_counts[:, 1, :] + sird_counts[:, 2, :] + sird_counts[:, 3, :] + sird_counts[:, 4, :] + sird_counts[:, 6, :] + sird_counts[:, 7, :])\n",
    "\n",
    "sird_counts = sird_counts * 100 / N_t"
   ]
  },
  {
   "cell_type": "code",
   "execution_count": 119,
   "metadata": {},
   "outputs": [],
   "source": [
    "with open(os.path.join(out_dir,\n",
    "                       'IOC-beijing-3400Agents-200Replicates-SIRD_counts-R0=2-0.2-testingdaily+2prearrivaltests-99%vaccinated50%effectivevaccines.pickle'), 'wb') as handle:\n",
    "    pickle.dump((sird_counts, costs, false_positives, false_negatives, improperly_quarantined_athletes, true_positives), handle, protocol = pickle.HIGHEST_PROTOCOL)"
   ]
  },
  {
   "cell_type": "code",
   "execution_count": 168,
   "metadata": {},
   "outputs": [],
   "source": [
    "with open(os.path.join(out_dir,\n",
    "                           'IOC-5000Agents-200Replicates-SIRD_counts-R0=1.1-1-proposed-testingdaily+contacttracing+prearrivaltests.pickle'),\n",
    "              'rb') as openfile:\n",
    "        sird_counts, costs, fps, fns, iqas, tps = pickle.load(openfile)"
   ]
  },
  {
   "cell_type": "code",
   "execution_count": 128,
   "metadata": {},
   "outputs": [],
   "source": [
    "sird_counts *= 0.9"
   ]
  },
  {
   "cell_type": "code",
   "execution_count": 129,
   "metadata": {
    "scrolled": false
   },
   "outputs": [
    {
     "name": "stderr",
     "output_type": "stream",
     "text": [
      "'NimbusRoman-Bold.otf' can not be subsetted into a Type 3 font. The entire font will be embedded in the output.\n",
      "'NimbusRoman-Regular.otf' can not be subsetted into a Type 3 font. The entire font will be embedded in the output.\n"
     ]
    },
    {
     "data": {
      "image/png": "[encoded data removed]",
      "text/plain": [
       "<Figure size 1440x1440 with 1 Axes>"
      ]
     },
     "metadata": {
      "needs_background": "light"
     },
     "output_type": "display_data"
    }
   ],
   "source": [
    "fig = plt.figure(figsize = (20, 20))\n",
    "ax1 = fig.add_subplot(111)\n",
    "ax1.spines['top'].set_visible(False)\n",
    "ax1.spines['right'].set_visible(False)\n",
    "ax1.grid(axis='both', color=\"0.9\", linestyle='-', linewidth=1)\n",
    "ax1.get_xaxis().tick_bottom()\n",
    "ax1.get_yaxis().tick_left()\n",
    "ax1.tick_params(axis = 'x', direction = 'out')\n",
    "ax1.tick_params(axis = 'y', direction = 'out')\n",
    "# offset the spines\n",
    "for spine in ax1.spines.values():\n",
    "    spine.set_position(('outward', 5))\n",
    "# put the grid behind\n",
    "ax1.set_axisbelow(True)\n",
    "#ax1.plot(np.median(sird_counts, axis = 0)[0], label = 'susceptible');\n",
    "#ax1.plot(np.median(sird_counts, axis = 0)[3], label = 'infected');\n",
    "ax1.plot(np.median(sird_counts, axis = 0)[1], lw = 5, label = 'infected - asymptomatic');\n",
    "ax1.plot(np.median(sird_counts, axis = 0)[2], lw = 5, label = 'infected - symptomatic');\n",
    "\n",
    "ax1.plot(np.median(sird_counts, axis = 0)[3], lw = 5, label = 'infected - symptomatic & asymptomatic');\n",
    "ax1.plot(0.3 * np.median(sird_counts, axis = 0)[4], lw = 5, label = 'positive');\n",
    "\n",
    "#ax1.plot(np.median(sird_counts, axis = 0)[4], label = 'recovered');\n",
    "#ax1.plot(np.median(sird_counts, axis = 0)[5], label = 'hospitalized');\n",
    "#ax1.plot(np.median(sird_counts, axis = 0)[6], label = 'dead');\n",
    "#ax1.fill_between(range(max_steps), np.percentile(sird_counts, axis = 0, q = 2.5)[0],\n",
    "#                 np.percentile(sird_counts, axis = 0, q = 97.5)[0], alpha = 0.2)\n",
    "#ax1.fill_between(range(max_steps), np.percentile(sird_counts, axis = 0, q = 2.5)[3],\n",
    "#                 np.percentile(sird_counts, axis = 0, q = 97.5)[3], alpha = 0.2)\n",
    "\n",
    "ax1.fill_between(range(max_steps), np.percentile(sird_counts, axis = 0, q = 2.5)[1],\n",
    "                 np.percentile(sird_counts, axis = 0, q = 97.5)[1], alpha = 0.2)\n",
    "\n",
    "ax1.fill_between(range(max_steps), np.percentile(sird_counts, axis = 0, q = 2.5)[2],\n",
    "                 np.percentile(sird_counts, axis = 0, q = 97.5)[2], alpha = 0.2)\n",
    "\n",
    "ax1.fill_between(range(max_steps), np.percentile(sird_counts, axis = 0, q = 2.5)[3],\n",
    "                 np.percentile(sird_counts, axis = 0, q = 97.5)[3], alpha = 0.2)\n",
    "\n",
    "ax1.fill_between(range(max_steps), 0.3 * np.percentile(sird_counts, axis = 0, q = 2.5)[4],\n",
    "                 0.3 * np.percentile(sird_counts, axis = 0, q = 97.5)[4], alpha = 0.2)\n",
    "\n",
    "#ax1.fill_between(range(max_steps), np.percentile(sird_counts, axis = 0, q = 2.5)[4],\n",
    "#                 np.percentile(sird_counts, axis = 0, q = 97.5)[4], alpha = 0.2)\n",
    "#ax1.fill_between(range(max_steps), np.percentile(sird_counts, axis = 0, q = 2.5)[5],\n",
    "#                 np.percentile(sird_counts, axis = 0, q = 97.5)[5], alpha = 0.2)\n",
    "#ax1.fill_between(range(max_steps), np.percentile(sird_counts, axis = 0, q = 2.5)[6],\n",
    "#                 np.percentile(sird_counts, axis = 0, q = 97.5)[6], alpha = 0.2)\n",
    "\n",
    "#ax1.fill_between(range(max_steps), np.percentile(sird_counts, axis = 0, q = 25)[0],\n",
    "#                 np.percentile(sird_counts, axis = 0, q = 75)[0], alpha = 0.3, color = \"C{}\".format(0))\n",
    "\n",
    "\n",
    "ax1.fill_between(range(max_steps), np.percentile(sird_counts, axis = 0, q = 25)[1],\n",
    "                 np.percentile(sird_counts, axis = 0, q = 75)[1], alpha = 0.6, color = \"C{}\".format(0))\n",
    "\n",
    "ax1.fill_between(range(max_steps), np.percentile(sird_counts, axis = 0, q = 25)[2],\n",
    "                 np.percentile(sird_counts, axis = 0, q = 75)[2], alpha = 0.6, color = \"C{}\".format(1))\n",
    "\n",
    "ax1.fill_between(range(max_steps), np.percentile(sird_counts, axis = 0, q = 25)[3],\n",
    "                 np.percentile(sird_counts, axis = 0, q = 75)[3], alpha = 0.6, color = \"C{}\".format(2))\n",
    "\n",
    "ax1.fill_between(range(max_steps), 0.3 * np.percentile(sird_counts, axis = 0, q = 25)[4],\n",
    "                 0.3 * np.percentile(sird_counts, axis = 0, q = 75)[4], alpha = 0.6, color = \"C{}\".format(3))\n",
    "\n",
    "\n",
    "#ax1.fill_between(range(max_steps), np.percentile(sird_counts, axis = 0, q = 25)[4],\n",
    "#                 np.percentile(sird_counts, axis = 0, q = 75)[4], alpha = 0.3, color = \"C{}\".format(4))\n",
    "\n",
    "#ax1.fill_between(range(max_steps), np.percentile(sird_counts, axis = 0, q = 25)[5],\n",
    "#                 np.percentile(sird_counts, axis = 0, q = 75)[5], alpha = 0.3, color = \"C{}\".format(3))\n",
    "#ax1.fill_between(range(max_steps), np.percentile(sird_counts, axis = 0, q = 25)[6],\n",
    "#                 np.percentile(sird_counts, axis = 0, q = 75)[6], alpha = 0.3, color = \"C{}\".format(4))\n",
    "\n",
    "ax1.legend(loc = (.01, .9), frameon = False, ncol = 1, fontsize = 'x-large');\n",
    "ax1.set_xlabel('Day');\n",
    "ax1.set_ylabel('% of Population');\n",
    "\n",
    "#ax1.set_xlim([0, 30])\n",
    "\n",
    "#ax1.set_title('(A1) Summarized Disease Course', style = 'italic');\n",
    "\n",
    "fig.tight_layout();\n",
    "\n",
    "fig.savefig(os.path.join(fig_dir, 'IOC-beijing-R0=2-0.2-testingdaily+2prearrivaltests-99%vaccinated50%effectivevaccines.png'), bbox_inches = 'tight')\n",
    "fig.savefig(os.path.join(fig_dir, 'IOC-beijing-R0=2-0.2-testingdaily+2prearrivaltests-99%vaccinated50%effectivevaccines.pdf'), dpi = 300, bbox_inches = 'tight')"
   ]
  },
  {
   "cell_type": "code",
   "execution_count": 130,
   "metadata": {},
   "outputs": [
    {
     "data": {
      "text/plain": [
       "1.028640441176471"
      ]
     },
     "execution_count": 130,
     "metadata": {},
     "output_type": "execute_result"
    }
   ],
   "source": [
    "np.percentile(sird_counts[:, 3, -10], q = 2.5)"
   ]
  },
  {
   "cell_type": "code",
   "execution_count": 131,
   "metadata": {},
   "outputs": [
    {
     "data": {
      "text/plain": [
       "1.4901617647058822"
      ]
     },
     "execution_count": 131,
     "metadata": {},
     "output_type": "execute_result"
    }
   ],
   "source": [
    "np.percentile(sird_counts[:, 3, -10], q = 50)"
   ]
  },
  {
   "cell_type": "code",
   "execution_count": 132,
   "metadata": {},
   "outputs": [
    {
     "data": {
      "text/plain": [
       "1.9731242647058826"
      ]
     },
     "execution_count": 132,
     "metadata": {},
     "output_type": "execute_result"
    }
   ],
   "source": [
    "np.percentile(sird_counts[:, 3, -10], q = 97.5)"
   ]
  },
  {
   "cell_type": "code",
   "execution_count": 118,
   "metadata": {},
   "outputs": [
    {
     "data": {
      "text/plain": [
       "0.0"
      ]
     },
     "execution_count": 118,
     "metadata": {},
     "output_type": "execute_result"
    }
   ],
   "source": [
    "mitigation_strategy_r.cost.running_total"
   ]
  },
  {
   "cell_type": "code",
   "execution_count": 207,
   "metadata": {},
   "outputs": [
    {
     "data": {
      "text/plain": [
       "2.078500000000002"
      ]
     },
     "execution_count": 207,
     "metadata": {},
     "output_type": "execute_result"
    }
   ],
   "source": [
    "q = 97.5\n",
    "100 - 9.3 - np.percentile(sird_counts[:,\n",
    "                                      0,\n",
    "                                      -11],\n",
    "                          q) - sird_counts[np.where(sird_counts[:,\n",
    "                                                                0,\n",
    "                                                                -11] == sird_counts[:,\n",
    "                                                                                    0,\n",
    "                                                                                    -11].flat[np.abs(sird_counts[:,\n",
    "                                                                                                                 0,\n",
    "                                                                                                                 -11] - np.percentile(sird_counts[:,\n",
    "                                                                                                                                                  0,\n",
    "                                                                                                                                                  -11],\n",
    "                                                                                                                                     q)).argmin()])[0][0], 4, -11]"
   ]
  },
  {
   "cell_type": "code",
   "execution_count": 366,
   "metadata": {},
   "outputs": [
    {
     "data": {
      "text/plain": [
       "30.240000000000002"
      ]
     },
     "execution_count": 366,
     "metadata": {},
     "output_type": "execute_result"
    }
   ],
   "source": [
    "100 - 9.3 - np.percentile(sird_counts[:, 0, -11], q = 50)"
   ]
  },
  {
   "cell_type": "code",
   "execution_count": 209,
   "metadata": {},
   "outputs": [
    {
     "data": {
      "text/plain": [
       "10.445499999999996"
      ]
     },
     "execution_count": 209,
     "metadata": {},
     "output_type": "execute_result"
    }
   ],
   "source": [
    "100 - 9.3 - np.percentile(sird_counts[:, 0, -11], q = 2.5)"
   ]
  },
  {
   "cell_type": "code",
   "execution_count": 210,
   "metadata": {},
   "outputs": [
    {
     "data": {
      "text/plain": [
       "6.098500000000001"
      ]
     },
     "execution_count": 210,
     "metadata": {},
     "output_type": "execute_result"
    }
   ],
   "source": [
    "100 - 9.3 - np.percentile(sird_counts[:, 0, -11], q = 97.5)"
   ]
  },
  {
   "cell_type": "code",
   "execution_count": 169,
   "metadata": {},
   "outputs": [
    {
     "ename": "IndexError",
     "evalue": "index 8 is out of bounds for axis 1 with size 7",
     "output_type": "error",
     "traceback": [
      "\u001b[0;31m---------------------------------------------------------------------------\u001b[0m",
      "\u001b[0;31mIndexError\u001b[0m                                Traceback (most recent call last)",
      "\u001b[0;32m.\u001b[0m in \u001b[0;36m<module>\u001b[0;34m\u001b[0m\n\u001b[0;32m----> 1\u001b[0;31m \u001b[0mnp\u001b[0m\u001b[0;34m.\u001b[0m\u001b[0mpercentile\u001b[0m\u001b[0;34m(\u001b[0m\u001b[0msird_counts\u001b[0m\u001b[0;34m[\u001b[0m\u001b[0;34m:\u001b[0m\u001b[0;34m,\u001b[0m \u001b[0;36m8\u001b[0m\u001b[0;34m,\u001b[0m \u001b[0;34m-\u001b[0m\u001b[0;36m11\u001b[0m\u001b[0;34m]\u001b[0m\u001b[0;34m,\u001b[0m \u001b[0mq\u001b[0m \u001b[0;34m=\u001b[0m \u001b[0;36m2.5\u001b[0m\u001b[0;34m)\u001b[0m\u001b[0;34m\u001b[0m\u001b[0;34m\u001b[0m\u001b[0m\n\u001b[0m",
      "\u001b[0;31mIndexError\u001b[0m: index 8 is out of bounds for axis 1 with size 7"
     ]
    }
   ],
   "source": [
    "np.percentile(sird_counts[:, 8, -11], q = 2.5)"
   ]
  },
  {
   "cell_type": "code",
   "execution_count": 211,
   "metadata": {},
   "outputs": [
    {
     "data": {
      "text/plain": [
       "6.6203"
      ]
     },
     "execution_count": 211,
     "metadata": {},
     "output_type": "execute_result"
    }
   ],
   "source": [
    "(np.percentile(costs, 50) / 5000) / 120"
   ]
  },
  {
   "cell_type": "code",
   "execution_count": 194,
   "metadata": {},
   "outputs": [
    {
     "data": {
      "text/plain": [
       "13368.0"
      ]
     },
     "execution_count": 194,
     "metadata": {},
     "output_type": "execute_result"
    }
   ],
   "source": [
    "np.percentile(false_positives, 50) * 40000 / 5000"
   ]
  },
  {
   "cell_type": "code",
   "execution_count": 315,
   "metadata": {
    "scrolled": true
   },
   "outputs": [
    {
     "data": {
      "text/plain": [
       "1463148.907563025"
      ]
     },
     "execution_count": 315,
     "metadata": {},
     "output_type": "execute_result"
    }
   ],
   "source": [
    "q = 50\n",
    "120 * ((np.percentile(true_positives,\n",
    "                      q) * 40000 / (1 * 5000)) + (.9 * 18000 * 0.02 * 5)) + (np.sum(((5000 / (34 * 35)) - 1) * 120 * np.abs(np.percentile(np.diff(sird_counts[:, 3, :],\n",
    "                             axis = 1),\n",
    "                     axis = 1,\n",
    "                     q = 50)) * 5000 / 100) * (40000 / 5000))"
   ]
  },
  {
   "cell_type": "code",
   "execution_count": 316,
   "metadata": {},
   "outputs": [
    {
     "data": {
      "text/plain": [
       "146880.0"
      ]
     },
     "execution_count": 316,
     "metadata": {},
     "output_type": "execute_result"
    }
   ],
   "source": [
    "120 * np.percentile(true_positives, 50) * 40000 / 5000"
   ]
  },
  {
   "cell_type": "code",
   "execution_count": 323,
   "metadata": {},
   "outputs": [
    {
     "data": {
      "text/plain": [
       "766584000.0"
      ]
     },
     "execution_count": 323,
     "metadata": {},
     "output_type": "execute_result"
    }
   ],
   "source": [
    "np.sum(40000 * 120 * 2.1 * np.percentile(sird_counts[:, 3, :], axis = 0, q = 50))"
   ]
  },
  {
   "cell_type": "code",
   "execution_count": 112,
   "metadata": {},
   "outputs": [
    {
     "data": {
      "text/plain": [
       "432216.0"
      ]
     },
     "execution_count": 112,
     "metadata": {},
     "output_type": "execute_result"
    }
   ],
   "source": [
    "np.sum(120 * -np.percentile(np.diff(sird_counts[:, 3, :],\n",
    "                             axis = 1),\n",
    "                     axis = 1,\n",
    "                     q = 50) * 5000 / 100) * (18000 / 5000) + (0.02 * 10 * 18000 * 120)"
   ]
  },
  {
   "cell_type": "code",
   "execution_count": 113,
   "metadata": {},
   "outputs": [
    {
     "data": {
      "text/plain": [
       "-7093875.630252089"
      ]
     },
     "execution_count": 113,
     "metadata": {},
     "output_type": "execute_result"
    }
   ],
   "source": [
    "np.sum(120 * -np.percentile(np.diff(sird_counts[:, 3, :],\n",
    "                             axis = 1),\n",
    "                     axis = 1,\n",
    "                     q = 97.5) * 5000 / 100) * (18000 / 5000) + (0.02 * 6 * 18000 * 120) + np.sum(((5000 / (34 * 35)) - 1) * 120 * -np.percentile(np.diff(sird_counts[:, 3, :],\n",
    "                             axis = 1),\n",
    "                     axis = 1,\n",
    "                     q = 97.5) * 18000 / 100)"
   ]
  },
  {
   "cell_type": "code",
   "execution_count": 202,
   "metadata": {
    "scrolled": true
   },
   "outputs": [
    {
     "data": {
      "text/plain": [
       "0.2648"
      ]
     },
     "execution_count": 202,
     "metadata": {},
     "output_type": "execute_result"
    }
   ],
   "source": [
    "(np.percentile([np.unique(improperly_quarantined_athletes[i]).shape[0] for i in range(200)], 50) / 5000)"
   ]
  },
  {
   "cell_type": "code",
   "execution_count": 201,
   "metadata": {},
   "outputs": [
    {
     "data": {
      "text/plain": [
       "16000.0"
      ]
     },
     "execution_count": 201,
     "metadata": {},
     "output_type": "execute_result"
    }
   ],
   "source": [
    "0.4 * 40000"
   ]
  },
  {
   "cell_type": "code",
   "execution_count": 200,
   "metadata": {
    "scrolled": true
   },
   "outputs": [
    {
     "data": {
      "text/plain": [
       "500.0"
      ]
     },
     "execution_count": 200,
     "metadata": {},
     "output_type": "execute_result"
    }
   ],
   "source": [
    "np.percentile(false_negatives, 50) * 40000 / (5000)"
   ]
  }
 ],
 "metadata": {
  "@webio": {
   "lastCommId": null,
   "lastKernelId": null
  },
  "anaconda-cloud": {},
  "kernelspec": {
   "display_name": "Python 3",
   "language": "python",
   "name": "python3"
  },
  "language_info": {
   "codemirror_mode": {
    "name": "ipython",
    "version": 3
   },
   "file_extension": ".py",
   "mimetype": "text/x-python",
   "name": "python",
   "nbconvert_exporter": "python",
   "pygments_lexer": "ipython3",
   "version": "3.8.5"
  }
 },
 "nbformat": 4,
 "nbformat_minor": 4
}
