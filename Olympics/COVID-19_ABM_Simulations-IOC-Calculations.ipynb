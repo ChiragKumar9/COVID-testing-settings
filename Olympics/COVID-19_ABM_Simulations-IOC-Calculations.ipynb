{
 "cells": [
  {
   "cell_type": "markdown",
   "metadata": {},
   "source": [
    "# COVID-19 ABM Simulations"
   ]
  },
  {
   "cell_type": "markdown",
   "metadata": {},
   "source": [
    "### Chirag Kumar - 20.09.2020"
   ]
  },
  {
   "cell_type": "markdown",
   "metadata": {},
   "source": [
    "### This script develops and tests interventions for COVID-19 spread simulated using an ABM."
   ]
  },
  {
   "cell_type": "markdown",
   "metadata": {},
   "source": [
    "## Prep Workspace"
   ]
  },
  {
   "cell_type": "markdown",
   "metadata": {},
   "source": [
    "### Import and Set-up Packages: Python and R"
   ]
  },
  {
   "cell_type": "code",
   "execution_count": 1,
   "metadata": {},
   "outputs": [],
   "source": [
    "# python packages\n",
    "import pandas as pd # for dataframes\n",
    "import numpy as np # for arrays\n",
    "import matplotlib.pyplot as plt # for plotting\n",
    "import matplotlib as mpl # for matplotlib settings\n",
    "import os # for directories\n",
    "#import rpy2 # for running r commands - namely plotting\n",
    "from scipy.optimize import minimize # for optimization of noisy functions\n",
    "from sodapy import Socrata # for quering CDC data\n",
    "#from ddf_utils.factory.ihme import IHMELoader # for quering GHDx data\n",
    "import scipy as sp # useful to have the whole library to access\n",
    "from scipy import stats # for statistics and distributions\n",
    "from scipy import integrate # for numerical integration processes\n",
    "from scipy import signal # for finding peaks in data\n",
    "from scipy import optimize # for optimizing functions\n",
    "from sklearn.linear_model import LinearRegression # for easy linear regression\n",
    "#import statsmodels.formula.api as smf # for GLMs\n",
    "import statsmodels.api as sm\n",
    "from tqdm.auto import tqdm # for progress bars\n",
    "from tqdm.contrib.concurrent import process_map # for multiprocessing with progress bars\n",
    "import pickle # for serializing objects\n",
    "import datetime # for time series data\n",
    "#import pathos # for multiprocessing\n",
    "#import multiprocess # for multiprocessing\n",
    "#import multiprocessing\n",
    "#import numba # for fast compiling\n",
    "from mesa import Model, Agent\n",
    "from mesa.time import RandomActivation\n",
    "from mesa.space import SingleGrid, MultiGrid\n",
    "from mesa.datacollection import DataCollector\n",
    "#from mesa.visualization.modules import CanvasGrid\n",
    "#from mesa.visualization.ModularVisualization import ModularServer\n",
    "#from mesa.batchrunner import BatchRunner\n",
    "#from mesa.batchrunner import BatchRunnerMP"
   ]
  },
  {
   "cell_type": "code",
   "execution_count": 2,
   "metadata": {},
   "outputs": [],
   "source": [
    "# configure plotting\n",
    "%matplotlib inline\n",
    "plt.rcParams['figure.figsize'] = [12, 12]\n",
    "font = {'family' : 'Nimbus Roman',\n",
    "        'weight' : 'bold',\n",
    "        'size'   : 22}\n",
    "\n",
    "mpl.rc('font', **font)"
   ]
  },
  {
   "cell_type": "markdown",
   "metadata": {},
   "source": [
    "### Define Directories"
   ]
  },
  {
   "cell_type": "code",
   "execution_count": 3,
   "metadata": {},
   "outputs": [],
   "source": [
    "# define directories\n",
    "\n",
    "# this is a hack to be able to refer to relative locations\n",
    "if '__file__' not in globals():\n",
    "    __file__ = '.'\n",
    "\n",
    "inp_dir = os.path.abspath(os.path.dirname(__file__))\n",
    "data_dir = os.path.abspath(os.path.join(os.path.dirname(__file__),\n",
    "                                        'Data'))\n",
    "out_dir = os.path.abspath(os.path.join(os.path.dirname(__file__),\n",
    "                                       'Result Files'))\n",
    "fig_dir = os.path.abspath(os.path.join(os.path.dirname(__file__),\n",
    "                                          'Figures'))"
   ]
  },
  {
   "cell_type": "markdown",
   "metadata": {},
   "source": [
    "## Calculations"
   ]
  },
  {
   "cell_type": "code",
   "execution_count": 126,
   "metadata": {},
   "outputs": [],
   "source": [
    "with open(os.path.join(out_dir,\n",
    "                           'IOC-5000Agents-200Replicates-SIRD_counts-R0=1.1-1-proposed-testingdaily+contacttracing+prearrivaltests.pickle'),\n",
    "              'rb') as openfile:\n",
    "        sird_counts, costs, fps, fns, iqas, tps = pickle.load(openfile)"
   ]
  },
  {
   "cell_type": "code",
   "execution_count": 127,
   "metadata": {},
   "outputs": [
    {
     "data": {
      "text/plain": [
       "3.970000000000006"
      ]
     },
     "execution_count": 127,
     "metadata": {},
     "output_type": "execute_result"
    }
   ],
   "source": [
    "100 - 9.3 - np.percentile(sird_counts[:, 0, -11], q = 50) - np.percentile(sird_counts[:, 8, -11], q = 50)"
   ]
  },
  {
   "cell_type": "code",
   "execution_count": 128,
   "metadata": {},
   "outputs": [
    {
     "data": {
      "text/plain": [
       "4.919999999999995"
      ]
     },
     "execution_count": 128,
     "metadata": {},
     "output_type": "execute_result"
    }
   ],
   "source": [
    "100 - 9.3 - np.percentile(sird_counts[:, 0, -11], q = 2.5) - np.percentile(sird_counts[:, 8, -11], q = 97.5)"
   ]
  },
  {
   "cell_type": "code",
   "execution_count": 129,
   "metadata": {},
   "outputs": [
    {
     "data": {
      "text/plain": [
       "3.391499999999997"
      ]
     },
     "execution_count": 129,
     "metadata": {},
     "output_type": "execute_result"
    }
   ],
   "source": [
    "100 - 9.3 - np.percentile(sird_counts[:, 0, -11], q = 97.5) - np.percentile(sird_counts[:, 8, -11], q = 2.5)"
   ]
  },
  {
   "cell_type": "code",
   "execution_count": 29,
   "metadata": {},
   "outputs": [
    {
     "data": {
      "text/plain": [
       "0.0"
      ]
     },
     "execution_count": 29,
     "metadata": {},
     "output_type": "execute_result"
    }
   ],
   "source": [
    "np.percentile(sird_counts[:, 8, -11], q = 2.5)"
   ]
  },
  {
   "cell_type": "code",
   "execution_count": 36,
   "metadata": {},
   "outputs": [
    {
     "data": {
      "text/plain": [
       "340543.98000000004"
      ]
     },
     "execution_count": 36,
     "metadata": {},
     "output_type": "execute_result"
    }
   ],
   "source": [
    "((np.percentile(costs, 50) / 5000) * 18000 / 5) * 21/ 30"
   ]
  },
  {
   "cell_type": "code",
   "execution_count": 37,
   "metadata": {},
   "outputs": [
    {
     "data": {
      "text/plain": [
       "9635.4"
      ]
     },
     "execution_count": 37,
     "metadata": {},
     "output_type": "execute_result"
    }
   ],
   "source": [
    "np.percentile(fps, 50) * 18000 / 5000"
   ]
  },
  {
   "cell_type": "code",
   "execution_count": 316,
   "metadata": {
    "scrolled": true
   },
   "outputs": [
    {
     "data": {
      "text/plain": [
       "146880.0"
      ]
     },
     "execution_count": 316,
     "metadata": {},
     "output_type": "execute_result"
    }
   ],
   "source": [
    "120 * np.percentile(true_positives, 50) * 40000 / 5000"
   ]
  },
  {
   "cell_type": "code",
   "execution_count": 323,
   "metadata": {},
   "outputs": [
    {
     "data": {
      "text/plain": [
       "766584000.0"
      ]
     },
     "execution_count": 323,
     "metadata": {},
     "output_type": "execute_result"
    }
   ],
   "source": [
    "np.sum(40000 * 120 * 2.1 * np.percentile(sird_counts[:, 3, :], axis = 0, q = 50))"
   ]
  },
  {
   "cell_type": "code",
   "execution_count": 107,
   "metadata": {
    "scrolled": false
   },
   "outputs": [
    {
     "data": {
      "text/plain": [
       "0.3452"
      ]
     },
     "execution_count": 107,
     "metadata": {},
     "output_type": "execute_result"
    }
   ],
   "source": [
    "(np.percentile([np.unique(iqas[i]).shape[0] for i in range(200)], 50) / 5000)"
   ]
  },
  {
   "cell_type": "code",
   "execution_count": 130,
   "metadata": {
    "scrolled": false
   },
   "outputs": [
    {
     "data": {
      "text/plain": [
       "56.34"
      ]
     },
     "execution_count": 130,
     "metadata": {},
     "output_type": "execute_result"
    }
   ],
   "source": [
    "np.percentile(fns, 50) * 18000 / (5000) / 30"
   ]
  },
  {
   "cell_type": "code",
   "execution_count": 106,
   "metadata": {
    "scrolled": true
   },
   "outputs": [
    {
     "data": {
      "text/plain": [
       "8082.0"
      ]
     },
     "execution_count": 106,
     "metadata": {},
     "output_type": "execute_result"
    }
   ],
   "source": [
    "np.percentile(fps, 50) * 18000 / (5000)"
   ]
  },
  {
   "cell_type": "code",
   "execution_count": 109,
   "metadata": {},
   "outputs": [
    {
     "data": {
      "text/plain": [
       "27.659999999999997"
      ]
     },
     "execution_count": 109,
     "metadata": {},
     "output_type": "execute_result"
    }
   ],
   "source": [
    "(np.sum((np.abs(np.diff(np.percentile(sird_counts[:, 0, :], q = 50, axis = 0))))))"
   ]
  },
  {
   "cell_type": "code",
   "execution_count": 131,
   "metadata": {},
   "outputs": [
    {
     "data": {
      "text/plain": [
       "17073.604"
      ]
     },
     "execution_count": 131,
     "metadata": {},
     "output_type": "execute_result"
    }
   ],
   "source": [
    "((((np.percentile(costs, 50) / 5000) / 5) * 18000) * 0.02) + 610 + (610 * 12)"
   ]
  },
  {
   "cell_type": "code",
   "execution_count": 92,
   "metadata": {},
   "outputs": [
    {
     "data": {
      "text/plain": [
       "3.63"
      ]
     },
     "execution_count": 92,
     "metadata": {},
     "output_type": "execute_result"
    }
   ],
   "source": [
    "(0.03 * 24) + (0.97 * 3)"
   ]
  }
 ],
 "metadata": {
  "@webio": {
   "lastCommId": null,
   "lastKernelId": null
  },
  "anaconda-cloud": {},
  "kernelspec": {
   "display_name": "Python 3",
   "language": "python",
   "name": "python3"
  },
  "language_info": {
   "codemirror_mode": {
    "name": "ipython",
    "version": 3
   },
   "file_extension": ".py",
   "mimetype": "text/x-python",
   "name": "python",
   "nbconvert_exporter": "python",
   "pygments_lexer": "ipython3",
   "version": "3.8.5"
  }
 },
 "nbformat": 4,
 "nbformat_minor": 4
}
